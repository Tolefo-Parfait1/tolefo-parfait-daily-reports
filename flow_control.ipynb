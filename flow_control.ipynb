{
 "cells": [
  {
   "cell_type": "code",
   "execution_count": 3,
   "id": "b5561877",
   "metadata": {},
   "outputs": [
    {
     "name": "stdout",
     "output_type": "stream",
     "text": [
      "Give a number: .0\n",
      "0.0 is really cool\n"
     ]
    }
   ],
   "source": [
    "a= float(input(\"Give a number: \"))\n",
    "if a < 0:\n",
    "    print(a,\" is not coll\")\n",
    "elif a==0:\n",
    "    print(a, \"is really cool\")\n",
    "else:\n",
    "    print(a, \"is cool\")"
   ]
  },
  {
   "cell_type": "code",
   "execution_count": 6,
   "id": "c370c0b7",
   "metadata": {},
   "outputs": [
    {
     "name": "stdout",
     "output_type": "stream",
     "text": [
      "Give two numbers: 1\n",
      " 5\n",
      "b is greater than a\n"
     ]
    }
   ],
   "source": [
    "a= float(input(\"Give two numbers: \"))\n",
    "b= float(input(\" \"))\n",
    "if a > b:\n",
    "    print(\"a is greater than b\")\n",
    "    if a-b > 5:\n",
    "        print(\"The difference between a and b\")\n",
    "else:\n",
    "    print(\"b is greater than a\")"
   ]
  },
  {
   "cell_type": "code",
   "execution_count": 7,
   "id": "b1db82d8",
   "metadata": {},
   "outputs": [
    {
     "name": "stdout",
     "output_type": "stream",
     "text": [
      "P\n",
      "a\n",
      "r\n",
      "f\n",
      "a\n",
      "i\n",
      "t\n"
     ]
    }
   ],
   "source": [
    "for char in \"Parfait\":\n",
    "    print(char)"
   ]
  },
  {
   "cell_type": "code",
   "execution_count": 8,
   "id": "fe717e87",
   "metadata": {},
   "outputs": [
    {
     "name": "stdout",
     "output_type": "stream",
     "text": [
      "2010\n",
      "2025\n",
      "2012\n",
      "1025\n",
      "2023\n"
     ]
    }
   ],
   "source": [
    "for year in[2010,2025,2012,1025,2023]:\n",
    "    print(year)"
   ]
  },
  {
   "cell_type": "code",
   "execution_count": 11,
   "id": "e759869b",
   "metadata": {},
   "outputs": [
    {
     "name": "stdout",
     "output_type": "stream",
     "text": [
      "2\n",
      "4\n",
      "6\n",
      "8\n",
      "10\n",
      "12\n",
      "14\n",
      "16\n",
      "18\n"
     ]
    }
   ],
   "source": [
    "cher  = 1\n",
    "while cher != 10:\n",
    "    print(cher*2)\n",
    "    cher+=1"
   ]
  },
  {
   "cell_type": "code",
   "execution_count": 14,
   "id": "e4caba14",
   "metadata": {},
   "outputs": [
    {
     "name": "stdout",
     "output_type": "stream",
     "text": [
      "37\n"
     ]
    }
   ],
   "source": [
    "som=0\n",
    "list_numbers=[6,7,9,0,4,3,3,4,1,9,5]\n",
    "for i in list_numbers:\n",
    "    if i%2 != 0:\n",
    "        som+=i\n",
    "print(som)\n",
    "                                                                                   ]"
   ]
  },
  {
   "cell_type": "code",
   "execution_count": null,
   "id": "b8cb6f5c",
   "metadata": {},
   "outputs": [],
   "source": []
  }
 ],
 "metadata": {
  "kernelspec": {
   "display_name": "Python 3 (ipykernel)",
   "language": "python",
   "name": "python3"
  },
  "language_info": {
   "codemirror_mode": {
    "name": "ipython",
    "version": 3
   },
   "file_extension": ".py",
   "mimetype": "text/x-python",
   "name": "python",
   "nbconvert_exporter": "python",
   "pygments_lexer": "ipython3",
   "version": "3.11.2"
  }
 },
 "nbformat": 4,
 "nbformat_minor": 5
}
