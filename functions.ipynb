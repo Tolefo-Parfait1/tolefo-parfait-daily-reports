{
 "cells": [
  {
   "cell_type": "code",
   "execution_count": 1,
   "id": "1f950a37",
   "metadata": {},
   "outputs": [],
   "source": [
    "def my_square(x):\n",
    "    \"\"\"\n",
    "    This function return the square on the number taken in parameter.\n",
    "    Input: a number x\n",
    "    Output: the square of x\n",
    "    \"\"\"\n",
    "    res=x**2\n",
    "    return res\n"
   ]
  },
  {
   "cell_type": "code",
   "execution_count": 3,
   "id": "fe17d900",
   "metadata": {},
   "outputs": [
    {
     "data": {
      "text/plain": [
       "25"
      ]
     },
     "execution_count": 3,
     "metadata": {},
     "output_type": "execute_result"
    }
   ],
   "source": [
    "my_square(5)"
   ]
  },
  {
   "cell_type": "code",
   "execution_count": 4,
   "id": "abaeaa49",
   "metadata": {},
   "outputs": [
    {
     "data": {
      "text/plain": [
       "function"
      ]
     },
     "execution_count": 4,
     "metadata": {},
     "output_type": "execute_result"
    }
   ],
   "source": [
    "type(my_square)"
   ]
  },
  {
   "cell_type": "code",
   "execution_count": 5,
   "id": "e6ac36f7",
   "metadata": {},
   "outputs": [
    {
     "data": {
      "text/plain": [
       "'\\n    This function return the square on the number taken in parameter.\\n    Input: a number x\\n    Output: the square of x\\n    '"
      ]
     },
     "execution_count": 5,
     "metadata": {},
     "output_type": "execute_result"
    }
   ],
   "source": [
    "my_square.__doc__"
   ]
  },
  {
   "cell_type": "code",
   "execution_count": 6,
   "id": "721f1fd1",
   "metadata": {},
   "outputs": [],
   "source": [
    "def my_add(x,y):\n",
    "    \"\"\"\n",
    "    This function  computes on the sum of two numbers\n",
    "    Input: two number x and y\n",
    "    Output: the sum of x and y\n",
    "    \"\"\"\n",
    "    return x,y,x+y"
   ]
  },
  {
   "cell_type": "code",
   "execution_count": 7,
   "id": "1d21157a",
   "metadata": {},
   "outputs": [
    {
     "data": {
      "text/plain": [
       "(7, 6, 13)"
      ]
     },
     "execution_count": 7,
     "metadata": {},
     "output_type": "execute_result"
    }
   ],
   "source": [
    "my_add(7,6)"
   ]
  },
  {
   "cell_type": "code",
   "execution_count": 8,
   "id": "971cf44d",
   "metadata": {},
   "outputs": [],
   "source": [
    "def fact(n):\n",
    "    if n<=1:\n",
    "        return 1\n",
    "    return n*fact(n-1)"
   ]
  },
  {
   "cell_type": "code",
   "execution_count": 9,
   "id": "7ffaeaf6",
   "metadata": {},
   "outputs": [
    {
     "data": {
      "text/plain": [
       "720"
      ]
     },
     "execution_count": 9,
     "metadata": {},
     "output_type": "execute_result"
    }
   ],
   "source": [
    "fact(6)"
   ]
  },
  {
   "cell_type": "code",
   "execution_count": 11,
   "id": "1e99a903",
   "metadata": {},
   "outputs": [],
   "source": [
    "def fibo(n):\n",
    "    if n==0:\n",
    "        return 0\n",
    "    elif n==1:\n",
    "        return 1\n",
    "    return fibo(n-1)+fibo(n-2)"
   ]
  },
  {
   "cell_type": "code",
   "execution_count": 13,
   "id": "76a5f8d3",
   "metadata": {},
   "outputs": [
    {
     "data": {
      "text/plain": [
       "55"
      ]
     },
     "execution_count": 13,
     "metadata": {},
     "output_type": "execute_result"
    }
   ],
   "source": [
    "fibo(10)"
   ]
  },
  {
   "cell_type": "code",
   "execution_count": null,
   "id": "c0d4d265",
   "metadata": {},
   "outputs": [],
   "source": []
  }
 ],
 "metadata": {
  "kernelspec": {
   "display_name": "Python 3 (ipykernel)",
   "language": "python",
   "name": "python3"
  },
  "language_info": {
   "codemirror_mode": {
    "name": "ipython",
    "version": 3
   },
   "file_extension": ".py",
   "mimetype": "text/x-python",
   "name": "python",
   "nbconvert_exporter": "python",
   "pygments_lexer": "ipython3",
   "version": "3.11.2"
  }
 },
 "nbformat": 4,
 "nbformat_minor": 5
}
