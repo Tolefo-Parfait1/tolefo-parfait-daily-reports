{
 "cells": [
  {
   "cell_type": "markdown",
   "id": "d68c1dee",
   "metadata": {
    "id": "d68c1dee"
   },
   "source": [
    "# Practical_4: Flow control"
   ]
  },
  {
   "cell_type": "markdown",
   "id": "bea983a3",
   "metadata": {
    "id": "bea983a3"
   },
   "source": [
    "\n",
    "\n",
    "---\n",
    "\n",
    "### Exercise 1:\n",
    "Write a Python program that checks if a number is positive or negative.\n",
    "\n",
    "```python\n",
    "# Exercise 1\n",
    "```\n",
    "\n",
    "---\n",
    "\n",
    "### Exercise 2:\n",
    "Write a Python function that checks if a string starts with a vowel.\n",
    "\n",
    "```python\n",
    "# Exercise 2\n",
    "```\n",
    "\n",
    "---\n",
    "\n",
    "### Exercise 3:\n",
    "Write a Python program that takes a list of integers and prints \"Even\" for each even number and \"Odd\" for each odd number.\n",
    "\n",
    "```python\n",
    "# Exercise 3\n",
    "```\n",
    "\n",
    "---\n",
    "\n",
    "### Exercise 4:\n",
    "Write a Python program that checks if a given year is a leap year.\n",
    "\n",
    "```python\n",
    "# Exercise 4\n",
    "```\n",
    "\n",
    "---\n",
    "\n",
    "### Exercise 5:\n",
    "Write a Python function that checks if a number is divisible by both 3 and 5.\n",
    "\n",
    "```python\n",
    "# Exercise 5\n",
    "```\n",
    "\n",
    "---\n",
    "\n",
    "### Exercise 6:\n",
    "Write a Python program that prints \"Hot\" if the temperature is above 30, \"Warm\" if it is between 15 and 30, and \"Cold\" if it is below 15.\n",
    "\n",
    "```python\n",
    "# Exercise 6\n",
    "```\n",
    "\n",
    "---\n",
    "\n",
    "### Exercise 7:\n",
    "Write a Python program that checks if a string contains the letter 'a'.\n",
    "\n",
    "```python\n",
    "# Exercise 7\n",
    "```\n",
    "\n",
    "---\n",
    "\n",
    "### Exercise 8:\n",
    "Write a Python function that checks if two numbers are equal, or which one is larger.\n",
    "\n",
    "```python\n",
    "# Exercise 8\n",
    "```\n",
    "\n",
    "---\n",
    "\n",
    "### Exercise 9:\n",
    "Write a Python program that checks if a list is empty.\n",
    "\n",
    "```python\n",
    "# Exercise 9\n",
    "```\n",
    "\n",
    "---\n",
    "\n",
    "### Exercise 10:\n",
    "Write a Python function that takes two strings and checks if they are anagrams.\n",
    "\n",
    "```python\n",
    "# Exercise 10\n",
    "```\n",
    "\n",
    "---\n",
    "\n",
    "### Exercise 11:\n",
    "Write a Python program that checks if a number is prime.\n",
    "\n",
    "```python\n",
    "# Exercise 11\n",
    "```\n",
    "\n",
    "---\n",
    "\n",
    "### Exercise 12:\n",
    "Write a Python program that checks if a list of numbers is sorted in ascending order.\n",
    "\n",
    "```python\n",
    "# Exercise 12\n",
    "```\n",
    "\n",
    "---\n",
    "\n",
    "### Exercise 13:\n",
    "Write a Python function that takes a character and checks if it is a digit.\n",
    "\n",
    "```python\n",
    "# Exercise 13\n",
    "```\n",
    "\n",
    "---\n",
    "\n",
    "### Exercise 14:\n",
    "Write a Python function that checks if a string contains only uppercase letters.\n",
    "\n",
    "```python\n",
    "# Exercise 14\n",
    "```\n",
    "\n",
    "---\n",
    "\n",
    "### Exercise 15:\n",
    "Write a Python program that checks if a number is a multiple of 10.\n",
    "\n",
    "```python\n",
    "# Exercise 15\n",
    "```\n",
    "\n",
    "---\n",
    "\n",
    "### Exercise 16:\n",
    "Write a Python function that checks if a list contains any duplicates.\n",
    "\n",
    "```python\n",
    "# Exercise 16\n",
    "```\n",
    "\n",
    "---\n",
    "\n",
    "### Exercise 17:\n",
    "Write a Python program that prints \"Teenager\" if the age is between 13 and 19, otherwise it prints \"Not a teenager.\"\n",
    "\n",
    "```python\n",
    "# Exercise 17\n",
    "```\n",
    "\n",
    "---\n",
    "\n",
    "### Exercise 18:\n",
    "Write a Python function that checks if a list contains an element greater than 100.\n",
    "\n",
    "```python\n",
    "# Exercise 18\n",
    "```\n",
    "\n",
    "---\n",
    "\n",
    "### Exercise 19:\n",
    "Write a Python program that checks if a number is even or odd.\n",
    "\n",
    "```python\n",
    "# Exercise 19\n",
    "```\n",
    "\n",
    "---\n",
    "\n",
    "### Exercise 20:\n",
    "Write a Python function that checks if a string ends with a punctuation mark.\n",
    "\n",
    "```python\n",
    "# Exercise 20\n",
    "```\n",
    "\n",
    "---\n",
    "\n",
    "### Exercise 21:\n",
    "Write a Python program that prints \"Yes\" if the number is between 1 and 100, otherwise it prints \"No.\"\n",
    "\n",
    "```python\n",
    "# Exercise 21\n",
    "```\n",
    "\n",
    "---\n",
    "\n",
    "### Exercise 22:\n",
    "Write a Python program that checks if two strings have the same length.\n",
    "\n",
    "```python\n",
    "# Exercise 22\n",
    "```\n",
    "\n",
    "---\n",
    "\n",
    "### Exercise 23:\n",
    "Write a Python function that checks if a number is greater than its reverse.\n",
    "\n",
    "```python\n",
    "# Exercise 23\n",
    "```\n",
    "\n",
    "---\n",
    "\n",
    "### Exercise 24:\n",
    "Write a Python program that checks if a password contains both letters and numbers.\n",
    "\n",
    "```python\n",
    "# Exercise 24\n",
    "```\n",
    "\n",
    "---\n",
    "\n",
    "### Exercise 25:\n",
    "Write a Python program that checks if a number is between two given numbers.\n",
    "\n",
    "```python\n",
    "# Exercise 25\n",
    "```\n",
    "\n",
    "---\n",
    "\n",
    "### Exercise 26:\n",
    "Write a Python function that checks if all characters in a string are unique.\n",
    "\n",
    "```python\n",
    "# Exercise 26\n",
    "```\n",
    "\n",
    "---\n",
    "\n",
    "### Exercise 27:\n",
    "Write a Python program that checks if a number is a perfect square.\n",
    "\n",
    "```python\n",
    "# Exercise 27\n",
    "```\n",
    "\n",
    "---\n",
    "\n",
    "### Exercise 28:\n",
    "Write a Python function that checks if a word is a palindrome.\n",
    "\n",
    "```python\n",
    "# Exercise 28\n",
    "```\n",
    "\n",
    "---\n",
    "\n",
    "### Exercise 29:\n",
    "Write a Python program that prints \"Fizz\" if a number is divisible by 3, \"Buzz\" if it is divisible by 5, and \"FizzBuzz\" if divisible by both.\n",
    "\n",
    "```python\n",
    "# Exercise 29\n",
    "```\n",
    "\n",
    "---\n",
    "\n",
    "### Exercise 30:\n",
    "Write a Python program that checks if the sum of the digits of a number is even.\n",
    "\n",
    "```python\n",
    "# Exercise 30\n",
    "```\n",
    "\n",
    "---\n",
    "\n",
    "### Exercise 31:\n",
    "Write a Python program that checks if a string is a valid email address.\n",
    "\n",
    "```python\n",
    "# Exercise 31\n",
    "```\n",
    "\n",
    "---\n",
    "\n",
    "### Exercise 32:\n",
    "Write a Python function that checks if a number is within 10 of 100 or 200.\n",
    "\n",
    "```python\n",
    "# Exercise 32\n",
    "```\n",
    "\n",
    "---\n",
    "\n",
    "### Exercise 33:\n",
    "Write a Python program that checks if a given string is a valid URL.\n",
    "\n",
    "```python\n",
    "# Exercise 33\n",
    "```\n",
    "\n",
    "---\n",
    "\n",
    "### Exercise 34:\n",
    "Write a Python program that checks if a list contains all even numbers.\n",
    "\n",
    "```python\n",
    "# Exercise 34\n",
    "```\n",
    "\n",
    "---\n",
    "\n",
    "### Exercise 35:\n",
    "Write a Python program that checks if a word is longer than a given length.\n",
    "\n",
    "```python\n",
    "# Exercise 35\n",
    "```\n",
    "\n",
    "---\n",
    "\n",
    "### Exercise 36:\n",
    "Write a Python program that checks if a list contains only positive numbers.\n",
    "\n",
    "```python\n",
    "# Exercise 36\n",
    "```\n",
    "\n",
    "---\n",
    "\n",
    "### Exercise 37:\n",
    "Write a Python function that checks if a year is a century year (i.e., divisible by 100).\n",
    "\n",
    "```python\n",
    "# Exercise 37\n",
    "```\n",
    "\n",
    "---\n",
    "\n",
    "### Exercise 38:\n",
    "Write a Python program that checks if the sum of a list of numbers is greater than 100.\n",
    "\n",
    "```python\n",
    "# Exercise 38\n",
    "```\n",
    "\n",
    "---\n",
    "\n",
    "### Exercise 39:\n",
    "Write a Python function that checks if a given word is a substring of another string.\n",
    "\n",
    "```python\n",
    "# Exercise 39\n",
    "```\n",
    "\n",
    "---\n",
    "\n",
    "### Exercise 40:\n",
    "Write a Python program that checks if a number is a power of 2.\n",
    "\n",
    "```python\n",
    "# Exercise 40\n",
    "```\n",
    "\n",
    "---\n",
    "\n",
    "### Exercise 41:\n",
    "Write a Python function that checks if a string contains no spaces.\n",
    "\n",
    "```python\n",
    "# Exercise 41\n",
    "```\n",
    "\n",
    "---\n",
    "\n",
    "### Exercise 42:\n",
    "Write a Python program that prints \"Yes\" if a number is divisible by both 2 and 3, otherwise it prints \"No.\"\n",
    "\n",
    "```python\n",
    "# Exercise 42\n",
    "```\n",
    "\n",
    "---\n",
    "\n",
    "### Exercise 43:\n",
    "Write a Python program that checks if a number is a palindrome.\n",
    "\n",
    "```python\n",
    "# Exercise 43\n",
    "```\n",
    "\n",
    "---\n",
    "\n",
    "### Exercise 44:\n",
    "Write a Python function that checks if a string is made of only lowercase letters.\n",
    "\n",
    "```python\n",
    "# Exercise 44\n",
    "```\n",
    "\n",
    "---\n",
    "\n",
    "### Exercise 45:\n",
    "Write a Python program that checks if a string starts with a specific prefix.\n",
    "\n",
    "```python\n",
    "# Exercise 45\n",
    "```\n",
    "\n",
    "---\n",
    "\n",
    "### Exercise 46:\n",
    "Write a Python function that checks if a number is divisible by any number in a given list.\n",
    "\n",
    "```python\n",
    "# Exercise 46\n",
    "```\n",
    "\n",
    "---\n",
    "\n",
    "### Exercise 47:\n",
    "Write a Python program that prints \"Yes\" if a string has more than one occurrence of the same letter.\n",
    "\n",
    "```python\n",
    "# Exercise 47\n",
    "```\n",
    "\n",
    "---\n",
    "\n",
    "### Exercise 48:\n",
    "Write a Python function that checks if a number is prime by dividing it by numbers up to its square root.\n",
    "\n",
    "```python\n",
    "# Exercise 48\n",
    "```\n",
    "\n",
    "---\n",
    "\n",
    "### Exercise 49:\n",
    "Write a Python program that checks if a number is within 1 of a multiple of 10.\n",
    "\n",
    "```python\n",
    "# Exercise 49\n",
    "```\n",
    "\n",
    "---\n",
    "\n",
    "### Exercise 50:\n",
    "Write a Python program that prints \"In range\" if a number is between 10 and 20 (inclusive), otherwise it prints \"Out of range.\"\n",
    "\n",
    "```python\n",
    "# Exercise 50\n",
    "```\n",
    "\n",
    "---\n"
   ]
  },
  {
   "cell_type": "code",
   "execution_count": 1,
   "id": "c34704d9",
   "metadata": {},
   "outputs": [
    {
     "name": "stdout",
     "output_type": "stream",
     "text": [
      "Negative\n"
     ]
    }
   ],
   "source": [
    "# Exercise 1\n",
    "n = -5\n",
    "if n > 0:\n",
    "    print(\"Positive\")\n",
    "else:\n",
    "    print(\"Negative\")"
   ]
  },
  {
   "cell_type": "code",
   "execution_count": 2,
   "id": "4a63e9a6",
   "metadata": {},
   "outputs": [
    {
     "name": "stdout",
     "output_type": "stream",
     "text": [
      "True\n"
     ]
    }
   ],
   "source": [
    "# Exercise 2\n",
    "def starts_with_vowel(s):\n",
    "    return s[0].lower() in \"aeiou\"\n",
    "print(starts_with_vowel(\"Apple\"))"
   ]
  },
  {
   "cell_type": "code",
   "execution_count": 3,
   "id": "32c82aa6",
   "metadata": {},
   "outputs": [
    {
     "name": "stdout",
     "output_type": "stream",
     "text": [
      "Odd\n",
      "Even\n",
      "Odd\n",
      "Even\n",
      "Odd\n"
     ]
    }
   ],
   "source": [
    "# Exercise 3\n",
    "lst = [1, 2, 3, 4, 5]\n",
    "for x in lst:\n",
    "    if x % 2 == 0:\n",
    "        print(\"Even\")\n",
    "    else:\n",
    "        print(\"Odd\")"
   ]
  },
  {
   "cell_type": "code",
   "execution_count": 4,
   "id": "d99155a7",
   "metadata": {},
   "outputs": [
    {
     "name": "stdout",
     "output_type": "stream",
     "text": [
      "Leap year\n"
     ]
    }
   ],
   "source": [
    "# Exercise 4\n",
    "year = 2024\n",
    "if year % 4 == 0 and (year % 100 != 0 or year % 400 == 0):\n",
    "    print(\"Leap year\")\n",
    "else:\n",
    "    print(\"Not leap year\")"
   ]
  },
  {
   "cell_type": "code",
   "execution_count": 5,
   "id": "d9349684",
   "metadata": {},
   "outputs": [
    {
     "name": "stdout",
     "output_type": "stream",
     "text": [
      "True\n"
     ]
    }
   ],
   "source": [
    "# Exercise 5\n",
    "def div_by_3_and_5(n):\n",
    "    return n % 3 == 0 and n % 5 == 0\n",
    "print(div_by_3_and_5(15))"
   ]
  },
  {
   "cell_type": "code",
   "execution_count": 6,
   "id": "41b32b26",
   "metadata": {},
   "outputs": [
    {
     "name": "stdout",
     "output_type": "stream",
     "text": [
      "Warm\n"
     ]
    }
   ],
   "source": [
    "# Exercise 6\n",
    "t = 25\n",
    "if t > 30:\n",
    "    print(\"Hot\")\n",
    "elif t >= 15:\n",
    "    print(\"Warm\")\n",
    "else:\n",
    "    print(\"Cold\")"
   ]
  },
  {
   "cell_type": "code",
   "execution_count": 7,
   "id": "bd4e071c",
   "metadata": {},
   "outputs": [
    {
     "name": "stdout",
     "output_type": "stream",
     "text": [
      "True\n"
     ]
    }
   ],
   "source": [
    "# Exercise 7\n",
    "s = \"banana\"\n",
    "print(\"a\" in s)"
   ]
  },
  {
   "cell_type": "code",
   "execution_count": 8,
   "id": "4c178329",
   "metadata": {},
   "outputs": [
    {
     "name": "stdout",
     "output_type": "stream",
     "text": [
      "First is larger\n"
     ]
    }
   ],
   "source": [
    "# Exercise 8\n",
    "def compare(a, b):\n",
    "    if a == b:\n",
    "        print(\"Equal\")\n",
    "    elif a > b:\n",
    "        print(\"First is larger\")\n",
    "    else:\n",
    "        print(\"Second is larger\")\n",
    "compare(5, 3)"
   ]
  },
  {
   "cell_type": "code",
   "execution_count": 9,
   "id": "df504551",
   "metadata": {},
   "outputs": [
    {
     "name": "stdout",
     "output_type": "stream",
     "text": [
      "Empty\n"
     ]
    }
   ],
   "source": [
    "# Exercise 9\n",
    "lst = []\n",
    "if len(lst) == 0:\n",
    "    print(\"Empty\")\n",
    "else:\n",
    "    print(\"Not Empty\")\n"
   ]
  },
  {
   "cell_type": "code",
   "execution_count": 11,
   "id": "92b33219",
   "metadata": {},
   "outputs": [
    {
     "name": "stdout",
     "output_type": "stream",
     "text": [
      "Anagram\n"
     ]
    }
   ],
   "source": [
    "# Exercise 10\n",
    "def anagram(a, b):\n",
    "    if len(a)==len(b):\n",
    "        for i in a:\n",
    "            if i not in b:\n",
    "                return \"Not anagram\"\n",
    "        return \"Anagram\"\n",
    "    else:\n",
    "        return \"Not anagram\"\n",
    "print(anagram(\"listen\", \"silent\"))"
   ]
  },
  {
   "cell_type": "code",
   "execution_count": 12,
   "id": "e0152372",
   "metadata": {},
   "outputs": [
    {
     "name": "stdout",
     "output_type": "stream",
     "text": [
      "Prime\n"
     ]
    }
   ],
   "source": [
    "# Exercise 11\n",
    "n = 7\n",
    "if n > 1:\n",
    "    for i in range(2, int(n**0.5) + 1):\n",
    "        if n % i == 0:\n",
    "            print(\"Not prime\")\n",
    "            break\n",
    "    else:\n",
    "        print(\"Prime\")\n",
    "else:\n",
    "    print(\"Not prime\")\n"
   ]
  },
  {
   "cell_type": "code",
   "execution_count": 13,
   "id": "12dd8a89",
   "metadata": {},
   "outputs": [
    {
     "name": "stdout",
     "output_type": "stream",
     "text": [
      "Sordted in ascending order\n"
     ]
    }
   ],
   "source": [
    "# Exercise 12\n",
    "lst = [1, 2, 3, 4]\n",
    "if lst == sorted(lst):\n",
    "    print(\"Sordted in ascending order\")\n",
    "else:\n",
    "    print(\"Not sorted\")"
   ]
  },
  {
   "cell_type": "code",
   "execution_count": 15,
   "id": "17377ed7",
   "metadata": {},
   "outputs": [
    {
     "name": "stdout",
     "output_type": "stream",
     "text": [
      "True\n"
     ]
    }
   ],
   "source": [
    "# Exercise 13\n",
    "def is_digit(c):\n",
    "    return str(c) in '0123456789'\n",
    "print(is_digit(\"5\"))"
   ]
  },
  {
   "cell_type": "code",
   "execution_count": 16,
   "id": "a22f6ce8",
   "metadata": {},
   "outputs": [
    {
     "name": "stdout",
     "output_type": "stream",
     "text": [
      "True\n"
     ]
    }
   ],
   "source": [
    "# Exercise 14\n",
    "def only_upper(s):\n",
    "    return s.isupper()\n",
    "print(only_upper(\"HELLO\"))"
   ]
  },
  {
   "cell_type": "code",
   "execution_count": 18,
   "id": "f9a47ee7",
   "metadata": {},
   "outputs": [
    {
     "name": "stdout",
     "output_type": "stream",
     "text": [
      "It is multiple of 10\n"
     ]
    }
   ],
   "source": [
    "# Exercise 15\n",
    "n = 30\n",
    "if n % 10 == 0:\n",
    "    print(\"It is multiple of 10\")\n",
    "else:\n",
    "    print(\"Not multiple of 10\")"
   ]
  },
  {
   "cell_type": "code",
   "execution_count": 19,
   "id": "8afc0c31",
   "metadata": {},
   "outputs": [
    {
     "name": "stdout",
     "output_type": "stream",
     "text": [
      "Duplicated\n"
     ]
    }
   ],
   "source": [
    "# Exercise 16\n",
    "def has_duplicates(lst):\n",
    "    if len(lst) != len(set(lst)):\n",
    "        return 'Duplicated'\n",
    "    else:\n",
    "        return 'No duplicated'\n",
    "print(has_duplicates([1, 2, 2, 3]))"
   ]
  },
  {
   "cell_type": "code",
   "execution_count": 20,
   "id": "cc3b4e55",
   "metadata": {},
   "outputs": [
    {
     "name": "stdout",
     "output_type": "stream",
     "text": [
      "Teenager\n"
     ]
    }
   ],
   "source": [
    "\n",
    "# Exercise 17\n",
    "age = 15\n",
    "if 13 <= age <= 19:\n",
    "    print(\"Teenager\")\n",
    "else:\n",
    "    print(\"Not a teenager\")"
   ]
  },
  {
   "cell_type": "code",
   "execution_count": 21,
   "id": "081e2458",
   "metadata": {},
   "outputs": [
    {
     "name": "stdout",
     "output_type": "stream",
     "text": [
      "200 is greater than 100\n"
     ]
    }
   ],
   "source": [
    "# Exercise 18\n",
    "def greater_than_100(lst):\n",
    "    for i in lst:\n",
    "        if int(i)>100:\n",
    "            return f\"{i} is greater than 100\"\n",
    "    return \"No grater than 100 element\"\n",
    "\n",
    "print(greater_than_100([10, 200, 3]))"
   ]
  },
  {
   "cell_type": "code",
   "execution_count": 22,
   "id": "f3944ce4",
   "metadata": {},
   "outputs": [
    {
     "name": "stdout",
     "output_type": "stream",
     "text": [
      "Even\n"
     ]
    }
   ],
   "source": [
    "# Exercise 19\n",
    "n = 8\n",
    "if n % 2 == 0:\n",
    "    print(\"Even\")\n",
    "else:\n",
    "    print(\"Odd\")"
   ]
  },
  {
   "cell_type": "code",
   "execution_count": 24,
   "id": "03103074",
   "metadata": {},
   "outputs": [
    {
     "name": "stdout",
     "output_type": "stream",
     "text": [
      "End with ponctuation\n"
     ]
    }
   ],
   "source": [
    "# Exercise 20\n",
    "def ends_with_punct(s):\n",
    "    if s[-1] in \".,;:!?\":\n",
    "        return 'End with ponctuation'\n",
    "    else:\n",
    "        return 'Not end with ponctuation'\n",
    "print(ends_with_punct(\"Hello!\"))"
   ]
  },
  {
   "cell_type": "code",
   "execution_count": 25,
   "id": "06aeb1f2",
   "metadata": {},
   "outputs": [
    {
     "name": "stdout",
     "output_type": "stream",
     "text": [
      "Yes\n"
     ]
    }
   ],
   "source": [
    "# Exercise 21\n",
    "n = 50\n",
    "if 1 <= n <= 100:\n",
    "    print(\"Yes\")\n",
    "else:\n",
    "    print(\"No\")"
   ]
  },
  {
   "cell_type": "code",
   "execution_count": 26,
   "id": "96825328",
   "metadata": {},
   "outputs": [
    {
     "name": "stdout",
     "output_type": "stream",
     "text": [
      "Same lenght\n"
     ]
    }
   ],
   "source": [
    "# Exercise 22\n",
    "s1 = \"abc\"\n",
    "s2 = \"def\"\n",
    "if len(s1) == len(s2):\n",
    "    print(\"Same lenght\")\n",
    "else:\n",
    "    print(\"Different lenght\")"
   ]
  },
  {
   "cell_type": "code",
   "execution_count": 28,
   "id": "fef530e1",
   "metadata": {},
   "outputs": [
    {
     "name": "stdout",
     "output_type": "stream",
     "text": [
      "Greater that it's reverse\n"
     ]
    }
   ],
   "source": [
    "# Exercise 23\n",
    "def greater_than_reverse(n):\n",
    "    if n > int(str(n)[::-1]):\n",
    "        return \"Greater that it's reverse\"\n",
    "    else:\n",
    "        return \"Not greater that it's reverse\"\n",
    "print(greater_than_reverse(54))"
   ]
  },
  {
   "cell_type": "code",
   "execution_count": 29,
   "id": "40a61cd1",
   "metadata": {},
   "outputs": [
    {
     "name": "stdout",
     "output_type": "stream",
     "text": [
      "Good\n"
     ]
    }
   ],
   "source": [
    "num=0\n",
    "let=0\n",
    "strs=\"Papa1\"\n",
    "for i in strs:\n",
    "    if i.isdigit():\n",
    "        num=1\n",
    "    elif i.isalpha():\n",
    "        let=1\n",
    "if (let and num):\n",
    "    print(\"Good\")\n",
    "else:\n",
    "    print(\"Bad\")"
   ]
  },
  {
   "cell_type": "code",
   "execution_count": 31,
   "id": "a4ee29ab",
   "metadata": {},
   "outputs": [
    {
     "name": "stdout",
     "output_type": "stream",
     "text": [
      "Yes 15 between 10 and 20\n"
     ]
    }
   ],
   "source": [
    "# Exercise 25\n",
    "n = 15\n",
    "a, b = 10, 20\n",
    "if a <= n <= b:\n",
    "    print(f\"Yes {n} between {a} and {b}\")\n",
    "else:\n",
    "    print(f\"No {n} not between {a} and {b}\")"
   ]
  },
  {
   "cell_type": "code",
   "execution_count": 32,
   "id": "9e67bb65",
   "metadata": {},
   "outputs": [
    {
     "name": "stdout",
     "output_type": "stream",
     "text": [
      "True\n"
     ]
    }
   ],
   "source": [
    "# Exercise 26\n",
    "def all_unique(s):\n",
    "    return len(s) == len(set(s))\n",
    "print(all_unique(\"abc\"))"
   ]
  },
  {
   "cell_type": "code",
   "execution_count": 34,
   "id": "937f76f6",
   "metadata": {},
   "outputs": [
    {
     "name": "stdout",
     "output_type": "stream",
     "text": [
      "Perfect square\n"
     ]
    }
   ],
   "source": [
    "\n",
    "# Exercise 27\n",
    "import math\n",
    "n = 16\n",
    "if math.isqrt(n)**2 == n:\n",
    "    print(\"Perfect square\")\n",
    "else:\n",
    "    print(\"Not perfect square\")\n",
    "        "
   ]
  },
  {
   "cell_type": "code",
   "execution_count": 35,
   "id": "5b7957bb",
   "metadata": {},
   "outputs": [
    {
     "name": "stdout",
     "output_type": "stream",
     "text": [
      "Is a Palindrom\n"
     ]
    }
   ],
   "source": [
    "def palindrome(w):\n",
    "    if w == w[::-1]:\n",
    "        return 'Is a Palindrom'\n",
    "    else:\n",
    "        return 'Not a Palindrom'\n",
    "print(palindrome(\"level\"))"
   ]
  },
  {
   "cell_type": "code",
   "execution_count": 36,
   "id": "923c640f",
   "metadata": {},
   "outputs": [
    {
     "name": "stdout",
     "output_type": "stream",
     "text": [
      "FizzBuzz\n"
     ]
    }
   ],
   "source": [
    "# Exercise 29\n",
    "n = 15\n",
    "if n % 3 == 0 and n % 5 == 0:\n",
    "    print(\"FizzBuzz\")\n",
    "elif n % 3 == 0:\n",
    "    print(\"Fizz\")\n",
    "elif n % 5 == 0:\n",
    "    print(\"Buzz\")"
   ]
  },
  {
   "cell_type": "code",
   "execution_count": 38,
   "id": "be32b490",
   "metadata": {},
   "outputs": [
    {
     "name": "stdout",
     "output_type": "stream",
     "text": [
      "The digit sum is even\n"
     ]
    }
   ],
   "source": [
    "# Exercise 30\n",
    "n = 1234\n",
    "s = sum(int(d) for d in str(n))\n",
    "if s % 2 == 0:\n",
    "    print(\"The digit sum is even\")\n",
    "else:\n",
    "    print(\"The digit sum is not even\")\n"
   ]
  },
  {
   "cell_type": "code",
   "execution_count": 43,
   "id": "cd7a3e6c",
   "metadata": {},
   "outputs": [
    {
     "name": "stdout",
     "output_type": "stream",
     "text": [
      "Valide email\n",
      "Not valide email\n"
     ]
    }
   ],
   "source": [
    "# Exercise 31\n",
    "email_1 = \"test@example.com\"\n",
    "email_2=\"test.part2@domaine\"\n",
    "\n",
    "def email_check(email):\n",
    "    if len(email.split('@'))==2 and len(email.split('@')[1].split('.'))>=2:\n",
    "        return \"Valide email\"\n",
    "    else:\n",
    "        return \"Not valide email\"\n",
    "\n",
    "print(email_check(email_1))\n",
    "print(email_check(email_2))"
   ]
  },
  {
   "cell_type": "code",
   "execution_count": 45,
   "id": "6bc2bbc0",
   "metadata": {},
   "outputs": [
    {
     "name": "stdout",
     "output_type": "stream",
     "text": [
      "95 is between 10 and 100 or 10 and 200\n"
     ]
    }
   ],
   "source": [
    "# Exercise 32\n",
    "def near_100_or_200(n):\n",
    "    if abs(100 - n) <= 10 or abs(200 - n) <= 10:\n",
    "        return f'{n} is between 10 and 100 or 10 and 200'\n",
    "print(near_100_or_200(95))"
   ]
  },
  {
   "cell_type": "code",
   "execution_count": 46,
   "id": "33902a8b",
   "metadata": {},
   "outputs": [
    {
     "name": "stdout",
     "output_type": "stream",
     "text": [
      "Is url\n"
     ]
    }
   ],
   "source": [
    "# Exercise 33\n",
    "import re\n",
    "url = \"https://example.com\"\n",
    "if bool(re.match(r'https?://', url)):\n",
    "    print(\"Is url\")\n",
    "else:\n",
    "    print(\"Not URL\")"
   ]
  },
  {
   "cell_type": "code",
   "execution_count": 47,
   "id": "70c4b02b",
   "metadata": {},
   "outputs": [
    {
     "name": "stdout",
     "output_type": "stream",
     "text": [
      "All are even\n"
     ]
    }
   ],
   "source": [
    "lst = [2, 4, 6]\n",
    "if (all(x % 2 == 0 for x in lst)):\n",
    "    print(\"All are even\")\n",
    "else:\n",
    "    print(\"Not all are even\")"
   ]
  },
  {
   "cell_type": "code",
   "execution_count": 52,
   "id": "90ea62c8",
   "metadata": {},
   "outputs": [
    {
     "name": "stdout",
     "output_type": "stream",
     "text": [
      "hello is longer thatn 3\n"
     ]
    }
   ],
   "source": [
    "# Exercise 35\n",
    "word = \"hello\"\n",
    "n = 3\n",
    "if (len(word) > n):\n",
    "    print(f\"{word} is longer thatn {n}\")\n",
    "else:\n",
    "    print(f' {word}  is not longer thatn {n}')"
   ]
  },
  {
   "cell_type": "code",
   "execution_count": 53,
   "id": "f37cea32",
   "metadata": {},
   "outputs": [
    {
     "name": "stdout",
     "output_type": "stream",
     "text": [
      "All are positive\n"
     ]
    }
   ],
   "source": [
    "# Exercise 36\n",
    "lst = [1, 2, 3]\n",
    "if all(x > 0 for x in lst):\n",
    "    print(\"All are positive\")\n",
    "else:\n",
    "    print(\"Not all are positive\")"
   ]
  },
  {
   "cell_type": "code",
   "execution_count": 54,
   "id": "ec7b81c5",
   "metadata": {},
   "outputs": [
    {
     "name": "stdout",
     "output_type": "stream",
     "text": [
      "True\n"
     ]
    }
   ],
   "source": [
    "# Exercise 37\n",
    "def is_century_year(y):\n",
    "    return y % 100 == 0\n",
    "print(is_century_year(1900))"
   ]
  },
  {
   "cell_type": "code",
   "execution_count": 55,
   "id": "a6661e98",
   "metadata": {},
   "outputs": [
    {
     "name": "stdout",
     "output_type": "stream",
     "text": [
      "The sum is greater than 100\n"
     ]
    }
   ],
   "source": [
    "# Exercise 38\n",
    "lst = [10, 20, 80]\n",
    "if (sum(lst) > 100):\n",
    "    print(\"The sum is greater than 100\")\n",
    "else:\n",
    "    print(\"The sum is not greater than 100\")"
   ]
  },
  {
   "cell_type": "code",
   "execution_count": 56,
   "id": "22bcc946",
   "metadata": {},
   "outputs": [
    {
     "name": "stdout",
     "output_type": "stream",
     "text": [
      "cat is substring of concatenate\n"
     ]
    }
   ],
   "source": [
    "# Exercise 39\n",
    "def is_substring(a, b):\n",
    "    if a in b:\n",
    "        return f\"{a} is substring of {b}\"\n",
    "    else:\n",
    "        return \"No substring\"\n",
    "print(is_substring(\"cat\", \"concatenate\"))"
   ]
  },
  {
   "cell_type": "code",
   "execution_count": 57,
   "id": "b7c08fbb",
   "metadata": {},
   "outputs": [
    {
     "name": "stdout",
     "output_type": "stream",
     "text": [
      "8 is a power of 2\n"
     ]
    }
   ],
   "source": [
    "# Exercise 40\n",
    "n = 8\n",
    "if (n != 0 and (n & (n - 1)) == 0):\n",
    "    print(f\"{n} is a power of 2\")\n",
    "else:\n",
    "    print(\"Not a power of 2\")"
   ]
  },
  {
   "cell_type": "code",
   "execution_count": 58,
   "id": "a039d740",
   "metadata": {},
   "outputs": [
    {
     "name": "stdout",
     "output_type": "stream",
     "text": [
      "The string has no spaces.\n",
      "The string contains spaces.\n"
     ]
    }
   ],
   "source": [
    "# Exercise 41\n",
    "def no_spaces(s):\n",
    "    if \" \" not in s:\n",
    "        return \"The string has no spaces.\"\n",
    "    else:\n",
    "        return \"The string contains spaces.\"\n",
    "    \n",
    "print(no_spaces(\"HelloWorld\"))\n",
    "print(no_spaces(\"Hello World\"))"
   ]
  },
  {
   "cell_type": "code",
   "execution_count": 59,
   "id": "6be7045b",
   "metadata": {},
   "outputs": [
    {
     "name": "stdout",
     "output_type": "stream",
     "text": [
      "The number 12 is divisible by both 2 and 3\n"
     ]
    }
   ],
   "source": [
    "# Exercise 42\n",
    "n = 12\n",
    "if n % 2 == 0 and n % 3 == 0:\n",
    "    print(f\"The number {n} is divisible by both 2 and 3\")\n",
    "else:\n",
    "    print(f\"The number {n} is not divisible by both 2 and 3\")"
   ]
  },
  {
   "cell_type": "code",
   "execution_count": 60,
   "id": "22184ab7",
   "metadata": {},
   "outputs": [
    {
     "name": "stdout",
     "output_type": "stream",
     "text": [
      "The number 1221 is a palindrome\n"
     ]
    }
   ],
   "source": [
    "# Exercise 43\n",
    "n = 1221\n",
    "if str(n) == str(n)[::-1]:\n",
    "    print(f\"The number {n} is a palindrome\")\n",
    "else:\n",
    "    print(f\"The number {n} is not a palindrome\")"
   ]
  },
  {
   "cell_type": "code",
   "execution_count": 61,
   "id": "b9dfc36c",
   "metadata": {},
   "outputs": [
    {
     "name": "stdout",
     "output_type": "stream",
     "text": [
      "The string is made of only lowercase letters\n",
      "The string contains uppercase letters or other symbols\n"
     ]
    }
   ],
   "source": [
    "# Exercise 44\n",
    "def only_lower(s):\n",
    "    if s.islower():\n",
    "        return \"The string is made of only lowercase letters\"\n",
    "    else:\n",
    "        return \"The string contains uppercase letters or other symbols\"\n",
    "print(only_lower(\"hello\"))\n",
    "print(only_lower(\"Hello\"))"
   ]
  },
  {
   "cell_type": "code",
   "execution_count": 62,
   "id": "43054b75",
   "metadata": {},
   "outputs": [
    {
     "name": "stdout",
     "output_type": "stream",
     "text": [
      "The string 'programming' starts with the prefix 'pro'\n"
     ]
    }
   ],
   "source": [
    "# Exercise 45\n",
    "s = \"programming\"\n",
    "prefix = \"pro\"\n",
    "if s.startswith(prefix):\n",
    "    print(f\"The string '{s}' starts with the prefix '{prefix}'\")\n",
    "else:\n",
    "    print(f\"The string '{s}' does not start with the prefix '{prefix}'\")"
   ]
  },
  {
   "cell_type": "code",
   "execution_count": 63,
   "id": "b13155a3",
   "metadata": {
    "scrolled": true
   },
   "outputs": [
    {
     "name": "stdout",
     "output_type": "stream",
     "text": [
      "The number 20 is divisible by at least one number in [3, 4, 5].\n",
      "The number 7 is not divisible by any number in [3, 4, 5].\n"
     ]
    }
   ],
   "source": [
    "# Exercise 46\n",
    "def divisible_by_any(n, lst):\n",
    "    if any(n % x == 0 for x in lst):\n",
    "        return f\"The number {n} is divisible by at least one number in {lst}.\"\n",
    "    else:\n",
    "        return f\"The number {n} is not divisible by any number in {lst}.\"\n",
    "print(divisible_by_any(20, [3, 4, 5]))\n",
    "print(divisible_by_any(7, [3, 4, 5]))"
   ]
  },
  {
   "cell_type": "code",
   "execution_count": 64,
   "id": "260dafcd",
   "metadata": {},
   "outputs": [
    {
     "name": "stdout",
     "output_type": "stream",
     "text": [
      "The string 'banana' has more than one occurrence of the same letter\n"
     ]
    }
   ],
   "source": [
    "# Exercise 47\n",
    "s = \"banana\"\n",
    "if any(s.count(c) > 1 for c in s):\n",
    "    print(f\"The string '{s}' has more than one occurrence of the same letter\")\n",
    "else:\n",
    "    print(f\"The string '{s}' has all unique letters\")"
   ]
  },
  {
   "cell_type": "code",
   "execution_count": 65,
   "id": "fa00142b",
   "metadata": {},
   "outputs": [
    {
     "name": "stdout",
     "output_type": "stream",
     "text": [
      "The number 11 is a prime number\n",
      "The number 15 is not a prime number because it is divisible by 3\n"
     ]
    }
   ],
   "source": [
    "# Exercise 48\n",
    "import math\n",
    "def is_prime(n):\n",
    "    if n < 2:\n",
    "        return f\"The number {n} is not a prime number\"\n",
    "    for i in range(2, int(math.sqrt(n)) + 1):\n",
    "        if n % i == 0:\n",
    "            return f\"The number {n} is not a prime number because it is divisible by {i}\"\n",
    "    return f\"The number {n} is a prime number\"\n",
    "print(is_prime(11))\n",
    "print(is_prime(15))"
   ]
  },
  {
   "cell_type": "code",
   "execution_count": 66,
   "id": "dae21452",
   "metadata": {},
   "outputs": [
    {
     "name": "stdout",
     "output_type": "stream",
     "text": [
      "The number 19 is within 1 of a multiple of 10\n"
     ]
    }
   ],
   "source": [
    "# Exercise 49\n",
    "n = 19\n",
    "if n % 10 == 1 or n % 10 == 9:\n",
    "    print(f\"The number {n} is within 1 of a multiple of 10\")\n",
    "else:\n",
    "    print(f\"The number {n} is not within 1 of a multiple of 10\")"
   ]
  },
  {
   "cell_type": "code",
   "execution_count": 67,
   "id": "27de28cd",
   "metadata": {},
   "outputs": [
    {
     "name": "stdout",
     "output_type": "stream",
     "text": [
      "The number 8 is out of range (not between 10 and 20)\n"
     ]
    }
   ],
   "source": [
    "# Exercise 50\n",
    "n = 8\n",
    "if 10 <= n <= 20:\n",
    "    print(f\"The number {n} is in range between 10 and 20 (inclusive)\")\n",
    "else:\n",
    "    print(f\"The number {n} is out of range (not between 10 and 20)\")"
   ]
  }
 ],
 "metadata": {
  "colab": {
   "provenance": []
  },
  "kernelspec": {
   "display_name": "Python 3 (ipykernel)",
   "language": "python",
   "name": "python3"
  },
  "language_info": {
   "codemirror_mode": {
    "name": "ipython",
    "version": 3
   },
   "file_extension": ".py",
   "mimetype": "text/x-python",
   "name": "python",
   "nbconvert_exporter": "python",
   "pygments_lexer": "ipython3",
   "version": "3.11.2"
  }
 },
 "nbformat": 4,
 "nbformat_minor": 5
}
