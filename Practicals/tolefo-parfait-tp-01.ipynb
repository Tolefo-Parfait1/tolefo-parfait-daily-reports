{
 "cells": [
  {
   "cell_type": "markdown",
   "id": "426486dd",
   "metadata": {
    "id": "426486dd"
   },
   "source": [
    "\n",
    "\n",
    "# Practical_1: Variables and Assignments"
   ]
  },
  {
   "cell_type": "markdown",
   "id": "9fb19f0d",
   "metadata": {
    "id": "9fb19f0d"
   },
   "source": [
    "----\n",
    "\n",
    "### Exercise 1:\n",
    "Declare a variable `x` and assign it the value `10`.\n",
    "\n",
    "```python\n",
    "# Exercise 1\n",
    "```\n",
    "\n",
    "---\n",
    "\n",
    "### Exercise 2:\n",
    "Assign the value `True` to a variable called `is_valid`.\n",
    "\n",
    "```python\n",
    "# Exercise 2\n",
    "```\n",
    "\n",
    "---\n",
    "\n",
    "### Exercise 3:\n",
    "Create a string variable `name` with the value \"Python Programming\".\n",
    "\n",
    "```python\n",
    "# Exercise 3\n",
    "```\n",
    "\n",
    "---\n",
    "\n",
    "### Exercise 4:\n",
    "Assign the result of `5 + 3` to a variable `sum_result`.\n",
    "\n",
    "```python\n",
    "# Exercise 4\n",
    "```\n",
    "\n",
    "---\n",
    "\n",
    "### Exercise 5:\n",
    "Assign multiple variables in one line: `a = 5`, `b = 10`, `c = 15`.\n",
    "\n",
    "```python\n",
    "# Exercise 5\n",
    "```\n",
    "\n",
    "---\n",
    "\n",
    "### Exercise 6:\n",
    "Assign the value of one variable `x` to another variable `y`.\n",
    "\n",
    "```python\n",
    "# Exercise 6\n",
    "```\n",
    "\n",
    "---\n",
    "\n",
    "### Exercise 7:\n",
    "Assign a floating-point number `9.8` to a variable `gravity`.\n",
    "\n",
    "```python\n",
    "# Exercise 7\n",
    "```\n",
    "\n",
    "---\n",
    "\n",
    "### Exercise 8:\n",
    "Create a variable `country` and assign it the string value of your favorite country.\n",
    "\n",
    "```python\n",
    "# Exercise 8\n",
    "```\n",
    "\n",
    "---\n",
    "\n",
    "### Exercise 9:\n",
    "Change the value of variable `age` from `25` to `26` in two separate steps.\n",
    "\n",
    "```python\n",
    "# Exercise 9\n",
    "```\n",
    "\n",
    "---\n",
    "\n",
    "### Exercise 10:\n",
    "Use one variable to store the result of subtracting two numbers `20 - 7`.\n",
    "\n",
    "```python\n",
    "# Exercise 10\n",
    "```\n",
    "\n",
    "---\n",
    "\n",
    "### Exercise 11:\n",
    "Assign an integer value and a floating-point value to two different variables.\n",
    "\n",
    "```python\n",
    "# Exercise 11\n",
    "```\n",
    "\n",
    "---\n",
    "\n",
    "### Exercise 12:\n",
    "Assign a boolean value `False` to a variable `is_completed`.\n",
    "\n",
    "```python\n",
    "# Exercise 12\n",
    "```\n",
    "\n",
    "---\n",
    "\n",
    "### Exercise 13:\n",
    "Swap the values of two variables `x` and `y`.\n",
    "\n",
    "```python\n",
    "# Exercise 13\n",
    "```\n",
    "\n",
    "---\n",
    "\n",
    "### Exercise 14:\n",
    "Assign a complex number `3 + 4j` to a variable `complex_num`.\n",
    "\n",
    "```python\n",
    "# Exercise 14\n",
    "```\n",
    "\n",
    "---\n",
    "\n",
    "### Exercise 15:\n",
    "Reassign a variable from an integer to a string.\n",
    "\n",
    "```python\n",
    "# Exercise 15\n",
    "```\n",
    "\n",
    "---\n",
    "\n",
    "### Exercise 16:\n",
    "Create two variables `first_name` and `last_name`, and assign them your first and last names.\n",
    "\n",
    "```python\n",
    "# Exercise 16\n",
    "```\n",
    "\n",
    "---\n",
    "\n",
    "### Exercise 17:\n",
    "Create a variable `temperature` and assign it the value of `35.5`.\n",
    "\n",
    "```python\n",
    "# Exercise 17\n",
    "```\n",
    "\n",
    "---\n",
    "\n",
    "### Exercise 18:\n",
    "Assign the result of the multiplication of two numbers `8 * 6` to a variable `product`.\n",
    "\n",
    "```python\n",
    "# Exercise 18\n",
    "```\n",
    "\n",
    "---\n",
    "\n",
    "### Exercise 19:\n",
    "Assign a sentence of your choice to a variable `sentence`.\n",
    "\n",
    "```python\n",
    "# Exercise 19\n",
    "```\n",
    "\n",
    "---\n",
    "\n",
    "### Exercise 20:\n",
    "Use an assignment to convert a string `'50'` into an integer variable `int_value`.\n",
    "\n",
    "```python\n",
    "# Exercise 20\n",
    "```\n",
    "\n",
    "---\n",
    "\n",
    "### Exercise 21:\n",
    "Assign the result of dividing `144` by `12` to a variable `quotient`.\n",
    "\n",
    "```python\n",
    "# Exercise 21\n",
    "```\n",
    "\n",
    "---\n",
    "\n",
    "### Exercise 22:\n",
    "Assign the remainder of `47 divided by 5` to a variable `remainder`.\n",
    "\n",
    "```python\n",
    "# Exercise 22\n",
    "```\n",
    "\n",
    "---\n",
    "\n",
    "### Exercise 23:\n",
    "Create a variable `is_student` and assign it the value `True`.\n",
    "\n",
    "```python\n",
    "# Exercise 23\n",
    "```\n",
    "\n",
    "---\n",
    "\n",
    "### Exercise 24:\n",
    "Use a variable to store the result of a modulo operation: `45 % 4`.\n",
    "\n",
    "```python\n",
    "# Exercise 24\n",
    "```\n",
    "\n",
    "---\n",
    "\n",
    "### Exercise 25:\n",
    "Create a variable `pi` and assign it the value `3.14159`.\n",
    "\n",
    "```python\n",
    "# Exercise 25\n",
    "```\n",
    "\n",
    "---\n",
    "\n",
    "### Exercise 26:\n",
    "Create two variables `length` and `width`, assign them values, and calculate the area of a rectangle.\n",
    "\n",
    "```python\n",
    "# Exercise 26\n",
    "```\n",
    "\n",
    "---\n",
    "\n",
    "### Exercise 27:\n",
    "Assign a negative number to a variable `negative_value`.\n",
    "\n",
    "```python\n",
    "# Exercise 27\n",
    "```\n",
    "\n",
    "---\n",
    "\n",
    "### Exercise 28:\n",
    "Assign a string containing a special character (e.g., \"Hello, World!\") to a variable `greeting`.\n",
    "\n",
    "```python\n",
    "# Exercise 28\n",
    "```\n",
    "\n",
    "---\n",
    "\n",
    "### Exercise 29:\n",
    "Create a variable `population` and assign it a large integer value (in billions).\n",
    "\n",
    "```python\n",
    "# Exercise 29\n",
    "```\n",
    "\n",
    "---\n",
    "\n",
    "### Exercise 30:\n",
    "Use a variable to store the result of raising `2` to the power of `8`.\n",
    "\n",
    "```python\n",
    "# Exercise 30\n",
    "```\n",
    "\n",
    "---\n",
    "\n",
    "### Exercise 31:\n",
    "Assign a list of your favorite fruits to a variable `fruits`.\n",
    "\n",
    "```python\n",
    "# Exercise 31\n",
    "```\n",
    "\n",
    "---\n",
    "\n",
    "### Exercise 32:\n",
    "Assign a tuple of three numbers to a variable `coordinates`.\n",
    "\n",
    "```python\n",
    "# Exercise 32\n",
    "```\n",
    "\n",
    "---\n",
    "\n",
    "### Exercise 33:\n",
    "Assign a dictionary with keys `name` and `age` to a variable `person`.\n",
    "\n",
    "```python\n",
    "# Exercise 33\n",
    "```\n",
    "\n",
    "---\n",
    "\n",
    "### Exercise 34:\n",
    "Use variables to store the sum of two floating-point numbers.\n",
    "\n",
    "```python\n",
    "# Exercise 34\n",
    "```\n",
    "\n",
    "---\n",
    "\n",
    "### Exercise 35:\n",
    "Create a variable `is_sunny` and assign it the result of a comparison `10 > 5`.\n",
    "\n",
    "```python\n",
    "# Exercise 35\n",
    "```\n",
    "\n",
    "---\n",
    "\n",
    "### Exercise 36:\n",
    "Assign a string and an integer to two different variables, then print both on one line.\n",
    "\n",
    "```python\n",
    "# Exercise 36\n",
    "```\n",
    "\n",
    "---\n",
    "\n",
    "### Exercise 37:\n",
    "Reassign a variable that originally held a number to a boolean value.\n",
    "\n",
    "```python\n",
    "# Exercise 37\n",
    "```\n",
    "\n",
    "---\n",
    "\n",
    "### Exercise 38:\n",
    "Create a variable `is_weekend` and assign it the result of `False`.\n",
    "\n",
    "```python\n",
    "# Exercise 38\n",
    "```\n",
    "\n",
    "---\n",
    "\n",
    "### Exercise 39:\n",
    "Assign a multi-line string to a variable `description`.\n",
    "\n",
    "```python\n",
    "# Exercise 39\n",
    "```\n",
    "\n",
    "---\n",
    "\n",
    "### Exercise 40:\n",
    "Use variables to store the result of the absolute value of `-25`.\n",
    "\n",
    "```python\n",
    "# Exercise 40\n",
    "```\n",
    "\n",
    "---\n",
    "\n",
    "### Exercise 41:\n",
    "Assign the result of a floor division `100 // 6` to a variable `floor_div_result`.\n",
    "\n",
    "```python\n",
    "# Exercise 41\n",
    "```\n",
    "\n",
    "---\n",
    "\n",
    "### Exercise 42:\n",
    "Assign the result of adding a floating-point number to an integer to a variable `mixed_sum`.\n",
    "\n",
    "```python\n",
    "# Exercise 42\n",
    "```\n",
    "\n",
    "---\n",
    "\n",
    "\n",
    "### Exercise 43:\n",
    "Assign a boolean value based on the comparison of two variables `a = 10` and `b = 15`.\n",
    "\n",
    "```python\n",
    "# Exercise 43\n",
    "```\n",
    "\n",
    "---\n",
    "\n",
    "### Exercise 44:\n",
    "Assign a long sentence to a variable and count its characters using `len()`.\n",
    "\n",
    "```python\n",
    "# Exercise 44\n",
    "```\n",
    "\n",
    "---\n",
    "\n",
    "### Exercise 45:\n",
    "Assign a fractional result `7 / 3` to a variable `division_result`.\n",
    "\n",
    "```python\n",
    "# Exercise 45\n",
    "```\n",
    "\n",
    "---\n",
    "\n",
    "### Exercise 46:\n",
    "Create a variable `speed` and assign it the value of 100 kilometers per hour.\n",
    "\n",
    "```python\n",
    "# Exercise 46\n",
    "```\n",
    "\n",
    "---\n",
    "\n",
    "### Exercise 47:\n",
    "Assign a multi-variable equation like `y = 3x + 5` where `x = 4` to a variable `y`.\n",
    "\n",
    "```python\n",
    "# Exercise 47\n",
    "```\n",
    "\n",
    "---\n",
    "\n",
    "### Exercise 48:\n",
    "Use variables to calculate and store the average of three numbers.\n",
    "\n",
    "```python\n",
    "# Exercise 48\n",
    "```\n",
    "\n",
    "****"
   ]
  },
  {
   "cell_type": "code",
   "execution_count": 1,
   "id": "2e647ff4",
   "metadata": {},
   "outputs": [],
   "source": [
    "#Exercise 1:\n",
    "\n",
    "x=10"
   ]
  },
  {
   "cell_type": "code",
   "execution_count": 2,
   "id": "76a2a399",
   "metadata": {},
   "outputs": [],
   "source": [
    "#Exercise 2:\n",
    "\n",
    "is_valid=True"
   ]
  },
  {
   "cell_type": "code",
   "execution_count": 3,
   "id": "a675b7cd",
   "metadata": {},
   "outputs": [],
   "source": [
    "#Exercise 3:\n",
    "my_strings=\"Python Programming\""
   ]
  },
  {
   "cell_type": "code",
   "execution_count": 7,
   "id": "da46d9c9",
   "metadata": {},
   "outputs": [],
   "source": [
    "#Exercise 4:\n",
    "sum_result = 5 + 3"
   ]
  },
  {
   "cell_type": "code",
   "execution_count": 8,
   "id": "6a3b28d0",
   "metadata": {},
   "outputs": [],
   "source": [
    "#Exercise 5:\n",
    "a ,b ,c= 5, 10, 15"
   ]
  },
  {
   "cell_type": "code",
   "execution_count": 9,
   "id": "9cafee93",
   "metadata": {},
   "outputs": [],
   "source": [
    "# Exercise 6\n",
    "y=x"
   ]
  },
  {
   "cell_type": "code",
   "execution_count": 10,
   "id": "b2094763",
   "metadata": {},
   "outputs": [],
   "source": [
    "# Exercise 7\n",
    "gravity=9.8"
   ]
  },
  {
   "cell_type": "code",
   "execution_count": 11,
   "id": "597b67df",
   "metadata": {},
   "outputs": [],
   "source": [
    "# Exercise 8\n",
    "\n",
    "country=\"Bénin\""
   ]
  },
  {
   "cell_type": "code",
   "execution_count": 12,
   "id": "8d9c49ce",
   "metadata": {},
   "outputs": [],
   "source": [
    "#Exercise 10:\n",
    "result_2=20 - 7"
   ]
  },
  {
   "cell_type": "code",
   "execution_count": 14,
   "id": "b1edadd6",
   "metadata": {},
   "outputs": [],
   "source": [
    "#Exercise 11:\n",
    "float_1=19.5\n",
    "int_1=20"
   ]
  },
  {
   "cell_type": "code",
   "execution_count": 15,
   "id": "2c4aa7c4",
   "metadata": {},
   "outputs": [],
   "source": [
    "#Exercise 12:\n",
    "is_completed=False"
   ]
  },
  {
   "cell_type": "code",
   "execution_count": 16,
   "id": "e788aa59",
   "metadata": {},
   "outputs": [],
   "source": [
    "#Exercise 13:\n",
    "tmp=x\n",
    "x=y\n",
    "y=tmp"
   ]
  },
  {
   "cell_type": "code",
   "execution_count": 17,
   "id": "2464ac4e",
   "metadata": {},
   "outputs": [],
   "source": [
    "#Exercise 14:\n",
    "complex_num=3 + 4j"
   ]
  },
  {
   "cell_type": "code",
   "execution_count": 19,
   "id": "8a6ba45e",
   "metadata": {},
   "outputs": [],
   "source": [
    "#Exercise 15:\n",
    "int_to_str=str(x)\n"
   ]
  },
  {
   "cell_type": "code",
   "execution_count": 20,
   "id": "479e9e95",
   "metadata": {},
   "outputs": [],
   "source": [
    "#Exercise 16:\n",
    "first_name=\"Parfait\" \n",
    "last_name=\"TOLEFO\" "
   ]
  },
  {
   "cell_type": "code",
   "execution_count": 21,
   "id": "2ee196af",
   "metadata": {},
   "outputs": [],
   "source": [
    "#Exercise 17:\n",
    "temperature=35.5"
   ]
  },
  {
   "cell_type": "code",
   "execution_count": 22,
   "id": "610d8b79",
   "metadata": {},
   "outputs": [],
   "source": [
    "#Exercise 18:\n",
    "product=8 * 6\n"
   ]
  },
  {
   "cell_type": "code",
   "execution_count": 23,
   "id": "e41ce786",
   "metadata": {},
   "outputs": [],
   "source": [
    "#Exercise 19:\n",
    "sentence=\"Let's Hack For Good\""
   ]
  },
  {
   "cell_type": "code",
   "execution_count": 36,
   "id": "400cf468",
   "metadata": {},
   "outputs": [],
   "source": [
    "#Exercise 20:\n",
    "int_value ='50'\n",
    "int_value=int(int_value)"
   ]
  },
  {
   "cell_type": "code",
   "execution_count": 37,
   "id": "7a6e3eac",
   "metadata": {},
   "outputs": [],
   "source": [
    "#Exercise 21:\n",
    "quotient=144/12"
   ]
  },
  {
   "cell_type": "code",
   "execution_count": 38,
   "id": "8f710b6f",
   "metadata": {},
   "outputs": [],
   "source": [
    "#Exercise 22:\n",
    "remainder=47%5"
   ]
  },
  {
   "cell_type": "code",
   "execution_count": 39,
   "id": "d06cb43f",
   "metadata": {},
   "outputs": [],
   "source": [
    "#Exercise 23:\n",
    "is_student=True"
   ]
  },
  {
   "cell_type": "code",
   "execution_count": 40,
   "id": "b09eeab0",
   "metadata": {},
   "outputs": [],
   "source": [
    "#Exercise 24:\n",
    "modulo_operation=45 % 4"
   ]
  },
  {
   "cell_type": "code",
   "execution_count": 41,
   "id": "b125adf6",
   "metadata": {},
   "outputs": [],
   "source": [
    "#Exercise 25:\n",
    "pi=3.14159"
   ]
  },
  {
   "cell_type": "code",
   "execution_count": 42,
   "id": "88f0b282",
   "metadata": {},
   "outputs": [],
   "source": [
    "#Exercise 26:\n",
    "length=25\n",
    "width=12\n",
    "area=length*width"
   ]
  },
  {
   "cell_type": "code",
   "execution_count": 43,
   "id": "94b3e2fb",
   "metadata": {},
   "outputs": [],
   "source": [
    "#Exercise 27:\n",
    "negative_value=-25"
   ]
  },
  {
   "cell_type": "code",
   "execution_count": 44,
   "id": "e5d3a7ba",
   "metadata": {},
   "outputs": [],
   "source": [
    "#Exercise 28:\n",
    "greeting=\"Hello From Cyberai !\""
   ]
  },
  {
   "cell_type": "code",
   "execution_count": 45,
   "id": "bf34a24d",
   "metadata": {},
   "outputs": [],
   "source": [
    "#Exercise 29:\n",
    "population=14000000000"
   ]
  },
  {
   "cell_type": "code",
   "execution_count": 46,
   "id": "82753552",
   "metadata": {},
   "outputs": [],
   "source": [
    "#Exercise 30:\n",
    "power_1=2**8"
   ]
  },
  {
   "cell_type": "code",
   "execution_count": 48,
   "id": "4310189c",
   "metadata": {},
   "outputs": [],
   "source": [
    "#Exercise 31:\n",
    "fruits=['Orange','Banana','Gale']\n"
   ]
  },
  {
   "cell_type": "code",
   "execution_count": 49,
   "id": "493fea2f",
   "metadata": {},
   "outputs": [],
   "source": [
    "#Exercise 32:\n",
    "coordinates=(12,25,30)"
   ]
  },
  {
   "cell_type": "code",
   "execution_count": 50,
   "id": "296bfae8",
   "metadata": {},
   "outputs": [],
   "source": [
    "#Exercise 33:\n",
    "person={\"name\":\"Parfait\",\"age\":25}"
   ]
  },
  {
   "cell_type": "code",
   "execution_count": 51,
   "id": "e2f8458b",
   "metadata": {},
   "outputs": [],
   "source": [
    "#Exercise 34:\n",
    "float_sum=12.5+78.36"
   ]
  },
  {
   "cell_type": "code",
   "execution_count": 52,
   "id": "19456200",
   "metadata": {},
   "outputs": [
    {
     "name": "stdout",
     "output_type": "stream",
     "text": [
      "True\n"
     ]
    }
   ],
   "source": [
    "#Exercise 35:\n",
    "is_sunny=10 > 5\n",
    "print(is_sunny)"
   ]
  },
  {
   "cell_type": "code",
   "execution_count": 53,
   "id": "a5cff565",
   "metadata": {},
   "outputs": [
    {
     "name": "stdout",
     "output_type": "stream",
     "text": [
      "We are  50\n"
     ]
    }
   ],
   "source": [
    "#Exercise 36:\n",
    "my_strings_2=\"We are \"\n",
    "number=50\n",
    "print(my_strings_2,number)"
   ]
  },
  {
   "cell_type": "code",
   "execution_count": 55,
   "id": "6fd06b07",
   "metadata": {},
   "outputs": [
    {
     "name": "stdout",
     "output_type": "stream",
     "text": [
      "True <class 'bool'>\n"
     ]
    }
   ],
   "source": [
    "#Exercise 37:\n",
    "my_bool=1\n",
    "my_bool=bool(my_bool)\n",
    "print(my_bool, type(my_bool))"
   ]
  },
  {
   "cell_type": "code",
   "execution_count": 56,
   "id": "3e50d2ba",
   "metadata": {},
   "outputs": [],
   "source": [
    "#Exercise 38:\n",
    "is_weekend=False"
   ]
  },
  {
   "cell_type": "code",
   "execution_count": 57,
   "id": "21e9e116",
   "metadata": {},
   "outputs": [
    {
     "name": "stdout",
     "output_type": "stream",
     "text": [
      "\n",
      "My name is Parfait TOLEFO aka CyberAI. \n",
      "\n",
      "I am CyberSecurity Analyst, I am python prgrammer, special python for Cyber tools. Nice to meet :^\n",
      "\n"
     ]
    }
   ],
   "source": [
    "#Exercise 39:\n",
    "description=\"\"\"\n",
    "My name is Parfait TOLEFO aka CyberAI. \\n\n",
    "I am CyberSecurity Analyst, I am python prgrammer, special python for Cyber tools. Nice to meet :^\n",
    "\"\"\"\n",
    "print(description)"
   ]
  },
  {
   "cell_type": "code",
   "execution_count": 59,
   "id": "15634ac9",
   "metadata": {},
   "outputs": [
    {
     "name": "stdout",
     "output_type": "stream",
     "text": [
      "25\n"
     ]
    }
   ],
   "source": [
    "#Exercise 40:\n",
    "absolute_value=abs(-25)\n",
    "print(absolute_value)"
   ]
  },
  {
   "cell_type": "code",
   "execution_count": 64,
   "id": "5eb26f2a",
   "metadata": {},
   "outputs": [
    {
     "name": "stdout",
     "output_type": "stream",
     "text": [
      "16\n"
     ]
    }
   ],
   "source": [
    "#Exercise 41:\n",
    "floor_div_result=100 // 6\n",
    "\n",
    "print(floor_div_result)"
   ]
  },
  {
   "cell_type": "code",
   "execution_count": 65,
   "id": "0e196d0a",
   "metadata": {},
   "outputs": [
    {
     "name": "stdout",
     "output_type": "stream",
     "text": [
      "39.5\n"
     ]
    }
   ],
   "source": [
    "#Exercise 42:\n",
    "mixed_sum=19.5+20\n",
    "print(mixed_sum)"
   ]
  },
  {
   "cell_type": "code",
   "execution_count": 67,
   "id": "6fbb5bad",
   "metadata": {},
   "outputs": [
    {
     "name": "stdout",
     "output_type": "stream",
     "text": [
      "False False True\n"
     ]
    }
   ],
   "source": [
    "#Exercise 43:\n",
    "a = 10 \n",
    "b = 15\n",
    "\n",
    "a_equel_b= a==b\n",
    "is_a_greater= a>b\n",
    "is_b_greater= b>a\n",
    "\n",
    "print(a_equel_b,is_a_greater,is_b_greater)"
   ]
  },
  {
   "cell_type": "code",
   "execution_count": 68,
   "id": "718d1f7a",
   "metadata": {},
   "outputs": [
    {
     "name": "stdout",
     "output_type": "stream",
     "text": [
      "34\n"
     ]
    }
   ],
   "source": [
    "#Exercise 44:\n",
    "long_sentence=\"I am so glad to join AIMS Senegal.\"\n",
    "str_len=len(long_sentence)\n",
    "print(str_len)"
   ]
  },
  {
   "cell_type": "code",
   "execution_count": 69,
   "id": "964f30c4",
   "metadata": {},
   "outputs": [
    {
     "name": "stdout",
     "output_type": "stream",
     "text": [
      "2.3333333333333335\n"
     ]
    }
   ],
   "source": [
    "#Exercise 45:\n",
    "division_result=7 / 3\n",
    "print(division_result)"
   ]
  },
  {
   "cell_type": "code",
   "execution_count": 70,
   "id": "b14fa208",
   "metadata": {},
   "outputs": [],
   "source": [
    "#Exercise 46:\n",
    "speed=\"100 kilometers per hour\""
   ]
  },
  {
   "cell_type": "code",
   "execution_count": 71,
   "id": "6d5d1a36",
   "metadata": {},
   "outputs": [
    {
     "name": "stdout",
     "output_type": "stream",
     "text": [
      "17\n"
     ]
    }
   ],
   "source": [
    "#Exercise 47:\n",
    "x = 4\n",
    "y = (3*x) + 5\n",
    "print(y)"
   ]
  },
  {
   "cell_type": "code",
   "execution_count": 73,
   "id": "aa2ed6c5",
   "metadata": {},
   "outputs": [
    {
     "name": "stdout",
     "output_type": "stream",
     "text": [
      "3131.6666666666665\n"
     ]
    }
   ],
   "source": [
    "#Exercise 48:\n",
    "a=15\n",
    "b=855\n",
    "c=8525\n",
    "average=(a+b+c)/3\n",
    "print(average)"
   ]
  }
 ],
 "metadata": {
  "colab": {
   "provenance": []
  },
  "kernelspec": {
   "display_name": "Python 3 (ipykernel)",
   "language": "python",
   "name": "python3"
  },
  "language_info": {
   "codemirror_mode": {
    "name": "ipython",
    "version": 3
   },
   "file_extension": ".py",
   "mimetype": "text/x-python",
   "name": "python",
   "nbconvert_exporter": "python",
   "pygments_lexer": "ipython3",
   "version": "3.10.12"
  }
 },
 "nbformat": 4,
 "nbformat_minor": 5
}
