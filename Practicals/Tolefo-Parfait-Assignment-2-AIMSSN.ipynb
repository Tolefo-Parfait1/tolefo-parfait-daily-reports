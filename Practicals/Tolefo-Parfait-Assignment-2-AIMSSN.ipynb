{
 "cells": [
  {
   "cell_type": "markdown",
   "id": "88c8acbe-ac9d-4ba0-adab-2e0a01c67866",
   "metadata": {},
   "source": [
    "![AIMS Logo](https://www.uni-bielefeld.de/fakultaeten/mathematik/ag/hofmanova/daad-aims/aims-senegal.png)"
   ]
  },
  {
   "cell_type": "markdown",
   "id": "710acdda-eec7-466b-b845-db9d338c889f",
   "metadata": {},
   "source": [
    "****\n",
    "\n",
    "# <center> <b> <span style=\"color:orange;\"> Python Proficiency for Scientific Computing and Data Science (PyPro-SCiDaS)  </span> </b></center>\n",
    "\n",
    "### <center> <b> <span style=\"color:green;\">An Initiation to Programming using Python (Init2Py) </span> </b></center>\n",
    "    "
   ]
  },
  {
   "cell_type": "markdown",
   "id": "931d31e5",
   "metadata": {},
   "source": [
    "# Parfait TOLEFO "
   ]
  },
  {
   "cell_type": "markdown",
   "id": "bebdbf0e-70fe-4e92-b5fd-b4daf7afc691",
   "metadata": {},
   "source": [
    "****\n",
    "# <center> <b> <span style=\"color:blue;\">Assignment </span> </b></center>\n",
    "\n",
    "****\n",
    "### Instructions:\n",
    "You should solve these problems using only:\n",
    "- Standard Python data types (e.g., str, list, dict, int).\n",
    "- Built-in and user-defined functions.\n",
    "- Basic flow control (if/else, for loops, while loops).\n",
    "- Standard library modules such as math\n",
    "****"
   ]
  },
  {
   "cell_type": "markdown",
   "id": "0eb74f98",
   "metadata": {},
   "source": [
    "## Section 1: Python Fundamentals"
   ]
  },
  {
   "cell_type": "markdown",
   "id": "849b7917",
   "metadata": {},
   "source": [
    "### Exercise 1\n",
    "Compute the following expressions for a natural number $n$ chosen by the user:\n",
    "\n",
    "a) $$\\sum_{\\substack{i=0 \\\\ i \\text{ is odd}}}^{n-1} (i + 3)$$\n"
   ]
  },
  {
   "cell_type": "code",
   "execution_count": 64,
   "id": "c884045d",
   "metadata": {},
   "outputs": [
    {
     "name": "stdout",
     "output_type": "stream",
     "text": [
      "Enter a naturel number: 5\n",
      "The result is:  10\n"
     ]
    }
   ],
   "source": [
    "# Your code here\n",
    "try:\n",
    "    n=int(input(\"Enter a naturel number: \"))\n",
    "    result=0\n",
    "    for i in range(n):\n",
    "        if i%2!=0:\n",
    "            result+=(3+i)\n",
    "    print(\"The result is: \",result)\n",
    "except:\n",
    "    print(\"Error, you enter an invalid number !\")"
   ]
  },
  {
   "cell_type": "markdown",
   "id": "8439b5e6-7ba3-440a-891a-463eb91f51ad",
   "metadata": {},
   "source": [
    "b) $$\\prod_{\\substack{i=0 \\\\ i \\text{ is even}}}^{n-1} (i + 3)$$"
   ]
  },
  {
   "cell_type": "code",
   "execution_count": 1,
   "id": "9b9b285d-00ef-4ecd-90ac-9efd2ca3d792",
   "metadata": {},
   "outputs": [
    {
     "name": "stdout",
     "output_type": "stream",
     "text": [
      "Enter a naturel number: 5\n",
      "The result is:  105\n"
     ]
    }
   ],
   "source": [
    "# Your code here\n",
    "\n",
    "try:\n",
    "    n=int(input(\"Enter a naturel number: \"))\n",
    "    result=1\n",
    "    for i in range(n):\n",
    "        if i%2==0:\n",
    "            result*=(3+i)\n",
    "    print(\"The result is: \",result)\n",
    "except:\n",
    "    print(\"Error, you enter an invalid number !\")"
   ]
  },
  {
   "cell_type": "markdown",
   "id": "669720a3",
   "metadata": {},
   "source": [
    "### Exercise 2\n",
    "a) Write python code that computes the sum of the square of the first $n$ natural numbers. One version with a \"for loop\" and another version with a \"while loop\"."
   ]
  },
  {
   "cell_type": "code",
   "execution_count": 66,
   "id": "94d27ad3",
   "metadata": {},
   "outputs": [
    {
     "name": "stdout",
     "output_type": "stream",
     "text": [
      "Enter a naturel number: 5\n",
      "55\n"
     ]
    }
   ],
   "source": [
    "# Part a: For loop version\n",
    "n=int(input(\"Enter a naturel number: \"))\n",
    "result=0\n",
    "# We suppose that first n natural number are the number from 1,2,3..n\n",
    "for i in range(n+1):\n",
    "    result+=i**2\n",
    "\n",
    "print(result)"
   ]
  },
  {
   "cell_type": "code",
   "execution_count": 67,
   "id": "4c55fb35",
   "metadata": {},
   "outputs": [
    {
     "name": "stdout",
     "output_type": "stream",
     "text": [
      "Enter a naturel number: 5\n",
      "55\n"
     ]
    }
   ],
   "source": [
    "# Part a: While loop version\n",
    "n=int(input(\"Enter a naturel number: \"))\n",
    "result=0\n",
    "\n",
    "while n:\n",
    "    result+=n**2\n",
    "    n-=1\n",
    "print(result)"
   ]
  },
  {
   "cell_type": "markdown",
   "id": "51865abb-c5c5-40ab-a1e7-d7cd45da4387",
   "metadata": {},
   "source": [
    "b) Write python code that prints, for a natural number $M$, the smallest natural number $n$ such that $1^2 + 2^2 + \\cdots + n^2 \\geq M$. One version with a \"for loop\" and another version with a \"while loop\"."
   ]
  },
  {
   "cell_type": "code",
   "execution_count": 68,
   "id": "fd887603",
   "metadata": {},
   "outputs": [
    {
     "name": "stdout",
     "output_type": "stream",
     "text": [
      "Enter a naturel number: 5\n",
      "2\n"
     ]
    }
   ],
   "source": [
    "# Part b: While loop version\n",
    "def smallest_square(n):\n",
    "    \"\"\"\n",
    "    This function compute the sum of square of of all number <= n\n",
    "    \"\"\"\n",
    "    res=0\n",
    "    while n:\n",
    "        res+=n**2\n",
    "        n-=1\n",
    "    return res\n",
    "\n",
    "__name__=='__main__'\n",
    "\n",
    "try:\n",
    "    M=int(input(\"Enter a naturel number: \"))\n",
    "    result=0; i=0\n",
    "\n",
    "    while 1:\n",
    "        if(smallest_square(i)==M):\n",
    "            print(i)\n",
    "            break\n",
    "        elif(smallest_square(i)<M and smallest_square(1+i)>M):\n",
    "            print(i)\n",
    "            break\n",
    "        i+=1\n",
    "except:\n",
    "    print(\"Error, you enter an invalid number !\")"
   ]
  },
  {
   "cell_type": "code",
   "execution_count": 69,
   "id": "a27928e9",
   "metadata": {},
   "outputs": [
    {
     "name": "stdout",
     "output_type": "stream",
     "text": [
      "Enter a naturel number: 5\n",
      "2\n"
     ]
    }
   ],
   "source": [
    "# Part b: For loop version\n",
    "\n",
    "def smallest_square(n):\n",
    "    \"\"\"\n",
    "    This function compute the sum of square of of all number <= n\n",
    "    \"\"\"\n",
    "    res=0\n",
    "    n+=1\n",
    "    for i in range(n):\n",
    "        res+=i**2\n",
    "    return res\n",
    "    \n",
    "\n",
    "__name__=='__main__'\n",
    "\n",
    "M=int(input(\"Enter a naturel number: \"))\n",
    "result=0\n",
    "\n",
    "for i in range(M+1):\n",
    "    \n",
    "    if(smallest_square(i)==M):\n",
    "        print(i)\n",
    "        break\n",
    "    elif(smallest_square(i)<M and smallest_square(1+i)>M):\n",
    "        print(i)\n",
    "        break"
   ]
  },
  {
   "cell_type": "markdown",
   "id": "ebe9f8cf",
   "metadata": {},
   "source": [
    "### Exercise 3\n",
    "Write a python script that asks the user for the values of $x$ and $y$ and uses these inputs to compute the numerical value of the expression:\n",
    "\n",
    "$$\\frac{\\sqrt{x^2+y}}{\\frac{1}{x} + 2\\sin y}$$"
   ]
  },
  {
   "cell_type": "code",
   "execution_count": 73,
   "id": "45ed183b",
   "metadata": {},
   "outputs": [
    {
     "name": "stdout",
     "output_type": "stream",
     "text": [
      "Enter a number (x): 1\n",
      "Enter a number (y): 1\n",
      "The result is:  0.527112989542452\n"
     ]
    }
   ],
   "source": [
    "# Your code here\n",
    "\n",
    "import math\n",
    "\n",
    "try:\n",
    "    x=int(input(\"Enter a number (x): \"))\n",
    "    y=int(input(\"Enter a number (y): \"))\n",
    "\n",
    "    num = math.sqrt((x**2)+y)\n",
    "    deno=(1/x)+(2*math.sin(y))\n",
    "    result=num/deno\n",
    "    print(\"The result is: \",result)\n",
    "except:\n",
    "    print(\"Error, you enter an invalid number !\")"
   ]
  },
  {
   "cell_type": "markdown",
   "id": "5dd987b9",
   "metadata": {},
   "source": [
    "### Exercise 4\n",
    "\n",
    "A store charges XOF $12$ per item if fewer than $10$ items are purchased. If the number of items is between $10$ and $99$ (inclusive), the price is XOF $10$ per item. For $100$ items or more, the price drops to XOF $7$ per item.\n",
    "\n",
    "a) Write a function called `Cost` that takes as input the number of items $n$ and returns the total cost.\n"
   ]
  },
  {
   "cell_type": "code",
   "execution_count": 80,
   "id": "2e2d41c7-638a-4833-8214-88d004eac4c1",
   "metadata": {},
   "outputs": [
    {
     "data": {
      "text/plain": [
       "700"
      ]
     },
     "execution_count": 80,
     "metadata": {},
     "output_type": "execute_result"
    }
   ],
   "source": [
    "# Your code here\n",
    "def Cost(n):\n",
    "    \"\"\"\n",
    "        This takes as input the number of items $n$ and returns the total cost\n",
    "    \"\"\"\n",
    "    if n < 10:\n",
    "        return 12*n\n",
    "    elif n==10 or n<=99:\n",
    "        return 10*n\n",
    "    else:\n",
    "        return n*7\n"
   ]
  },
  {
   "cell_type": "markdown",
   "id": "d49716e4-ecee-44ea-980d-558ed78c9802",
   "metadata": {},
   "source": [
    "b) Test the function `Cost` for $n = 50 \\text{ and } 255$."
   ]
  },
  {
   "cell_type": "code",
   "execution_count": 81,
   "id": "b945be28-8c9e-4974-84fe-2e709351df63",
   "metadata": {},
   "outputs": [
    {
     "name": "stdout",
     "output_type": "stream",
     "text": [
      "For n=50, Cost =  500\n",
      "For n=255, Cost =  1785\n"
     ]
    }
   ],
   "source": [
    "# Your code here\n",
    "print(\"For n=50, Cost = \",Cost(50))\n",
    "print(\"For n=255, Cost = \",Cost(255))"
   ]
  },
  {
   "cell_type": "markdown",
   "id": "81add996",
   "metadata": {},
   "source": [
    "### Exercise 5\n",
    "For a fixed real number $x$ and a natural number $n$, we can define recursively $x^n$ using the relations:\n",
    "\n",
    "$$x^0 = 1 \\quad \\text{and} \\quad x^{n+1} = x \\cdot x^n$$\n",
    "\n",
    "Write a function `power(x,n)` that implements the above recursion."
   ]
  },
  {
   "cell_type": "code",
   "execution_count": 95,
   "id": "d7f39afd",
   "metadata": {},
   "outputs": [
    {
     "data": {
      "text/plain": [
       "256"
      ]
     },
     "execution_count": 95,
     "metadata": {},
     "output_type": "execute_result"
    }
   ],
   "source": [
    "# Your code here\n",
    "def power(x,n):\n",
    "    if n==0:\n",
    "        return 1\n",
    "    else:\n",
    "        return x*power(x,n-1)\n",
    "\n",
    "power(2,8)"
   ]
  },
  {
   "cell_type": "markdown",
   "id": "6a2c61c6",
   "metadata": {},
   "source": [
    "### Exercise 6\n",
    "\n",
    "a) Write two functions: `arithmetic_mean`, which takes two numbers and returns their [**arithmetic mean**](https://en.wikipedia.org/wiki/Arithmetic_mean)\n",
    ", and `geometric_mean`, which takes two numbers and returns their [**geometric mean**](https://en.wikipedia.org/wiki/Geometric_mean). Then write a function `avggeom` that takes two input numbers and, for 10 iterations, repeatedly computes both their arithmetic mean and geometric mean, using the results from the previous iteration as the new inputs.\n"
   ]
  },
  {
   "cell_type": "code",
   "execution_count": 3,
   "id": "8c8ec37f",
   "metadata": {},
   "outputs": [
    {
     "name": "stdout",
     "output_type": "stream",
     "text": [
      "Tour 1 => (5.477225575051661, 5.5)\n",
      "Tour 2 => (5.4886009750012015, 5.488612787525831)\n",
      "Tour 3 => (5.488606881260338, 5.488606881263516)\n",
      "Tour 4 => (5.488606881261927, 5.488606881261927)\n",
      "Tour 5 => (5.488606881261927, 5.488606881261927)\n",
      "Tour 6 => (5.488606881261927, 5.488606881261927)\n",
      "Tour 7 => (5.488606881261927, 5.488606881261927)\n",
      "Tour 8 => (5.488606881261927, 5.488606881261927)\n",
      "Tour 9 => (5.488606881261927, 5.488606881261927)\n",
      "Tour 10 => (5.488606881261927, 5.488606881261927)\n"
     ]
    }
   ],
   "source": [
    "# Your code here\n",
    "\n",
    "from math import sqrt\n",
    "def arithmetic_mean(a,b):\n",
    "    return (a+b)/2\n",
    "\n",
    "def geometric_mean(a,b):\n",
    "    return sqrt(a*b)\n",
    "\n",
    "def avggeom(a,b):\n",
    "    for i in range(10):\n",
    "        geo=geometric_mean(a,b)\n",
    "        ari=arithmetic_mean(a,b)\n",
    "        print(f\"Tour {i+1} => {geo,ari}\")\n",
    "        a=geo;b=ari\n",
    "avggeom(5,6)"
   ]
  },
  {
   "cell_type": "markdown",
   "id": "31ecdd87-a731-485f-9110-59cba9b46f5b",
   "metadata": {},
   "source": [
    "b) Write a function called `distancefn` that computes the [**Euclidean distance**](https://en.wikipedia.org/wiki/Euclidean_distance) between two points $(x_1, y_1)$ and $(x_2, y_2)$ in the plane. Use it in another program that computes the perimeter and the area of a triangle, given three points in the plane (each given as coordinates).\n",
    "\n",
    " \n"
   ]
  },
  {
   "cell_type": "code",
   "execution_count": 8,
   "id": "33a9cfd9",
   "metadata": {},
   "outputs": [
    {
     "data": {
      "text/plain": [
       "3.1622776601683795"
      ]
     },
     "execution_count": 8,
     "metadata": {},
     "output_type": "execute_result"
    }
   ],
   "source": [
    "# Your code here\n",
    "from math import sqrt\n",
    "\n",
    "def distancefn(p,q):\n",
    "    return sqrt((p[0]-q[0])**2+(p[1]-q[1])**2)\n",
    "\n",
    "distancefn((5,6),(4,3))  "
   ]
  },
  {
   "cell_type": "code",
   "execution_count": 13,
   "id": "ed46a8af",
   "metadata": {},
   "outputs": [
    {
     "name": "stdout",
     "output_type": "stream",
     "text": [
      "[2.23606797749979, 2.23606797749979, 3.1622776601683795]\n"
     ]
    },
    {
     "data": {
      "text/plain": [
       "{'Perimeter': 7.63441361516796, 'Area': 2.5000000000000004}"
      ]
     },
     "execution_count": 13,
     "metadata": {},
     "output_type": "execute_result"
    }
   ],
   "source": [
    "def triangle(a,b,c):\n",
    "    ab=distancefn(a,b)\n",
    "    bc=distancefn(b,c)\n",
    "    ac=distancefn(a,c)\n",
    "    perimeter=ab+bc+ac\n",
    "    cords=[ab,ac,bc];cords.sort()\n",
    "    print(cords)\n",
    "    area=(cords[0]*cords[1])/2\n",
    "    \n",
    "    return {\"Perimeter\":perimeter,\"Area\":area}\n",
    "    \n",
    "triangle((5,6),(4,3),(6,4))"
   ]
  },
  {
   "cell_type": "markdown",
   "id": "9fcbb79e-0cd9-41cc-aab5-530155b7faf9",
   "metadata": {},
   "source": [
    "### Exercise 7\n",
    "\n",
    "a) Let `L=[2,3,5,7,11,13,17,19,23,29,31,37,41,43,47]`. Use list comprehension to produce a list of the gaps (differences) between consecutive entries in `L`. Then find the maximum gap size and the percentage of gaps that have size $2$."
   ]
  },
  {
   "cell_type": "code",
   "execution_count": 139,
   "id": "6de22a29-0917-42e1-9eac-281aac5f8473",
   "metadata": {},
   "outputs": [
    {
     "name": "stdout",
     "output_type": "stream",
     "text": [
      "\n",
      "The max gap = 6\n",
      "\n",
      "The average of gap with size 2 (6)= 14.285714285714285%\n",
      "\n",
      "    \n"
     ]
    }
   ],
   "source": [
    "# Your code here\n",
    "L=[2,3,5,7,11,13,17,19,23,29,31,37,41,43,47]\n",
    "l=L\n",
    "my_l=[L[i+1]-L[i] for i in range(len(L)-1)]\n",
    "max_gap=max(my_l)\n",
    "\n",
    "for i in my_l:\n",
    "    if my_l.count(i)==2:\n",
    "        \n",
    "        avg=(2/len((my_l)))*100\n",
    "        break\n",
    "\n",
    "print(f\"\"\"\n",
    "The max gap = {max_gap}\n",
    "\n",
    "The average of gap with size 2 ({i})= {avg}%\n",
    "\n",
    "    \"\"\")"
   ]
  },
  {
   "cell_type": "markdown",
   "id": "5c4be925-e334-475f-a478-75b39131fe4d",
   "metadata": {},
   "source": [
    "b) i) Using list comprehensions, write a function `ListComp` that takes a list of strings as input and returns three objects:\n",
    "\n",
    "- a list that consists of the strings with their first characters removed\n",
    "- a list of the lengths of the strings\n",
    "- a list that consists of only those strings that are at least 5 characters long\n"
   ]
  },
  {
   "cell_type": "code",
   "execution_count": 125,
   "id": "14b517b1-1fef-4659-9952-8d66c2560aac",
   "metadata": {},
   "outputs": [],
   "source": [
    "# Your code here\n",
    "def ListComp(L):\n",
    "    return [string[1::] for string in L],[len(word) for word in L], [big_str for big_str in L if len(big_str)>=5]"
   ]
  },
  {
   "cell_type": "markdown",
   "id": "8712badb-0d34-4907-8828-7fa1d78b2672",
   "metadata": {},
   "source": [
    "ii) Test your function with the list: `[\"hello\", \"world\", \"python\", \"programming\", \"AI\", \"code\"]`"
   ]
  },
  {
   "cell_type": "code",
   "execution_count": 131,
   "id": "2a7c2ddd-5db1-4fba-945b-92a661a580d1",
   "metadata": {},
   "outputs": [
    {
     "name": "stdout",
     "output_type": "stream",
     "text": [
      "['ello', 'orld', 'ython', 'rogramming', 'I', 'ode']\n",
      "\n",
      "[5, 5, 6, 11, 2, 4]\n",
      "\n",
      "['hello', 'world', 'python', 'programming']\n"
     ]
    }
   ],
   "source": [
    "# Your code here\n",
    "L=[\"hello\", \"world\", \"python\", \"programming\", \"AI\", \"code\"]\n",
    "without_first_characters, lenghts, longue_str =ListComp(L)\n",
    "\n",
    "print(without_first_characters,lenghts, longue_str, sep='\\n\\n')"
   ]
  },
  {
   "cell_type": "markdown",
   "id": "e37c36d8-f769-4a73-a642-d2dd1f04fcb0",
   "metadata": {},
   "source": [
    "### Exercise 8\n",
    "\n",
    "a) Write a program that repeatedly asks the user to enter product names and prices. Store all of these in a dictionary whose keys are the product names and whose values are the prices. When the user is done entering products and prices, allow them to repeatedly enter a product name and print the corresponding price or a message if the product is not in the dictionary."
   ]
  },
  {
   "cell_type": "code",
   "execution_count": null,
   "id": "a577ce2e-6c93-44ab-8113-f95a0b1f6292",
   "metadata": {},
   "outputs": [
    {
     "name": "stdout",
     "output_type": "stream",
     "text": [
      "Enter \"Product Name\" and Price as the format: Product_Name:Price, when done enter \"DONE\"\n",
      "\n",
      "banana:2585\n",
      "Tomato:785\n",
      "Jeans:965\n",
      "Done\n",
      "Enter \"Product Name\" to print the Product Price, when done enter \"DONE\"\n",
      "\n",
      "Jeans\n",
      "The price of  Jeans is  965\n",
      "Banana\n",
      "The product  Banana  doesn't exist !\n",
      "banana\n",
      "The price of  banana is  2585\n"
     ]
    }
   ],
   "source": [
    "# Your code here\n",
    "products={}\n",
    "stop=input('Enter \"Product Name\" and Price as the format: Product_Name:Price, when done enter \"DONE\"\\n\\n')\n",
    "\n",
    "while str(stop).upper()!='DONE':\n",
    "    if ':' in stop and stop.split(':')[1].isnumeric():\n",
    "        stop=stop.split(':')\n",
    "        try:\n",
    "            trash=products[stop[0]]\n",
    "            print(f\"The product {stop[0]} was update\")\n",
    "            products[stop[0]]=stop[1]\n",
    "            stop=input(\"\")\n",
    "        except:\n",
    "            products[stop[0]]=stop[1]\n",
    "            stop=input()\n",
    "    else:\n",
    "        stop=input(\"Wrong input !\\n\")\n",
    "\n",
    "stop=input('Enter \"Product Name\" to print the Product Price, when done enter \"DONE\"\\n\\n')\n",
    "while str(stop).upper()!='DONE':\n",
    "    try:\n",
    "        print(\"The price of \",stop,\"is \",products[stop])\n",
    "        stop=input()\n",
    "    except:\n",
    "        print(\"The product \",stop,\" doesn't exist !\")\n",
    "        stop=input()\n",
    "    "
   ]
  },
  {
   "cell_type": "markdown",
   "id": "0c290f12-f56b-4377-ad30-1bc7cd0d6667",
   "metadata": {},
   "source": [
    "b) Using the dictionary created above, allow the user to enter an amount and print out a list of the products whose price is less than that amount."
   ]
  },
  {
   "cell_type": "code",
   "execution_count": 169,
   "id": "656979c5-eb60-4fb8-abbe-e4c3dcc4ddd7",
   "metadata": {},
   "outputs": [
    {
     "name": "stdout",
     "output_type": "stream",
     "text": [
      "Enter an amount: 42520\n",
      "Banana => 20525\n",
      "Tomato => 475\n"
     ]
    }
   ],
   "source": [
    "# Your code here\n",
    "mount=float(input(\"Enter an amount: \"))\n",
    "for i in products.items():\n",
    "    if float(float(i[1])<mount):\n",
    "        print(i[0] ,'=>', i[1])"
   ]
  },
  {
   "cell_type": "markdown",
   "id": "cf33be4c-5b93-489c-9731-aafad88900d9",
   "metadata": {},
   "source": [
    "c) Using the dictionary created above, evaluate the most expensive product."
   ]
  },
  {
   "cell_type": "code",
   "execution_count": 174,
   "id": "f120a069-b5eb-4ac8-8fd5-27ec6abca426",
   "metadata": {},
   "outputs": [
    {
     "name": "stdout",
     "output_type": "stream",
     "text": [
      "The expensive product is  Clothes  =>  55854\n"
     ]
    }
   ],
   "source": [
    "# Your code here\n",
    "mounts=products.values()\n",
    "max_mount=max(mounts)\n",
    "for i in products.items():\n",
    "    if i[1]==max_mount:\n",
    "        print(\"The expensive product is \",i[0],\" => \",max_mount)\n",
    "        break"
   ]
  },
  {
   "cell_type": "markdown",
   "id": "9dc09c3e-5a73-4361-894b-0b69ea01f9c5",
   "metadata": {},
   "source": [
    "d) Using the dictionary created above, calculate the average price of all products."
   ]
  },
  {
   "cell_type": "code",
   "execution_count": 179,
   "id": "1b3055d2-05dd-4bde-b53f-504ea9755ccc",
   "metadata": {},
   "outputs": [
    {
     "name": "stdout",
     "output_type": "stream",
     "text": [
      "The average of price is:  33109.5\n"
     ]
    }
   ],
   "source": [
    "# Your code here\n",
    "mounts=products.values()\n",
    "mounts=[float(i) for i in mounts]\n",
    "t_mount=sum(mounts)\n",
    "avg=t_mount/len(mounts)\n",
    "print(\"The average of price is: \",avg)"
   ]
  },
  {
   "cell_type": "markdown",
   "id": "d608f5c3-22a4-4a77-bc29-0c54a3ae210f",
   "metadata": {},
   "source": [
    "e) Using the dictionary created above, update the prices of multiple products at once."
   ]
  },
  {
   "cell_type": "code",
   "execution_count": 191,
   "id": "56dc6214-63b1-4e67-ab84-c248d12f0c93",
   "metadata": {},
   "outputs": [
    {
     "name": "stdout",
     "output_type": "stream",
     "text": [
      "Enter \"Product Name\" to update with the New Price \"Product_name:Price\", when done enter \"DONE\"\n",
      "\n",
      "Sample\n",
      "Wrong input !\n",
      "Sample:852\n",
      "The product Sample doesn't exist !\n",
      "Tomato:8524\n",
      "The product Tomato was update\n",
      "Banana:75842\n",
      "The product Banana was update\n",
      "Jeans:7854\n",
      "The product Jeans was update\n",
      "DONE\n"
     ]
    }
   ],
   "source": [
    "# Your code here\n",
    "stop=input('Enter \"Product Name\" to update with the New Price \"Product_name:Price\", when done enter \"DONE\"\\n\\n')\n",
    "\n",
    "while stop!='DONE':\n",
    "    if ':' in stop and stop.split(':')[1].isnumeric():\n",
    "        stop=stop.split(':')\n",
    "        try:\n",
    "            trash=products[stop[0]]\n",
    "            print(f\"The product {stop[0]} was update\")\n",
    "            products[stop[0]]=stop[1]\n",
    "            stop=input(\"\")\n",
    "        except:\n",
    "            print(f\"The product {stop[0]} doesn't exist !\",)\n",
    "            stop=input(\"\")\n",
    "    else:\n",
    "        stop=input(\"Wrong input !\\n\")"
   ]
  },
  {
   "cell_type": "markdown",
   "id": "69987d36-94b2-4a35-8797-3bfbfa98d72e",
   "metadata": {},
   "source": [
    "### Exercise 9\n",
    "\n",
    "Use string methods and attributes to solve the following:"
   ]
  },
  {
   "cell_type": "markdown",
   "id": "d0e93ff1-82e5-4f2b-a39b-4013979c1968",
   "metadata": {},
   "source": [
    "a) Write a function called `word_counter` that reads in the file `example.txt` and estimates the total number of words in the file. Assume words are separated by spaces."
   ]
  },
  {
   "cell_type": "code",
   "execution_count": 195,
   "id": "3809a571",
   "metadata": {},
   "outputs": [
    {
     "name": "stdout",
     "output_type": "stream",
     "text": [
      "There are 4 word\r\n"
     ]
    }
   ],
   "source": [
    "!cat example.txt"
   ]
  },
  {
   "cell_type": "code",
   "execution_count": 198,
   "id": "6a4155a9-4d99-4ded-8103-5395f2195a97",
   "metadata": {},
   "outputs": [
    {
     "name": "stdout",
     "output_type": "stream",
     "text": [
      "\n",
      "The estimate word in the file is 4\n",
      "\n"
     ]
    }
   ],
   "source": [
    "# Your code here\n",
    "\n",
    "file=\"example.txt\"\n",
    "f=open(file,'r')\n",
    "lines=f.readlines()\n",
    "f.close()\n",
    "word_count=0\n",
    "for i in lines:\n",
    "    j=i.split(' ')\n",
    "    word_count+=len(j)\n",
    "print(f\"\\nThe estimate word in the file is {word_count}\\n\")"
   ]
  },
  {
   "cell_type": "markdown",
   "id": "cb6d8e35-f0e2-4285-aa1c-977591f8c288",
   "metadata": {},
   "source": [
    "b) Write a function called `UpLow` that reads the content of `example.txt` and then returns a dictionary containing the total number of uppercase letters and the total number of lowercase letters."
   ]
  },
  {
   "cell_type": "code",
   "execution_count": 206,
   "id": "b73e1286-0941-4525-947d-3c6f7ffd71b2",
   "metadata": {},
   "outputs": [
    {
     "name": "stdout",
     "output_type": "stream",
     "text": [
      "4  is a number\n"
     ]
    },
    {
     "data": {
      "text/plain": [
       "{'Upper_ount': 1, 'Lower_count': 15}"
      ]
     },
     "execution_count": 206,
     "metadata": {},
     "output_type": "execute_result"
    }
   ],
   "source": [
    "# Your code here\n",
    "def UpLow(file=\"example.txt\"):\n",
    "    \"\"\"\n",
    "    This funtion return in a dictionnary the number of lower and upper charecter, the numbers are a lower letters\n",
    "    \"\"\"\n",
    "    f=open(file,'r')\n",
    "    lines=f.readlines()\n",
    "    f.close()\n",
    "    lines_count=len(lines)\n",
    "    Up_count=0\n",
    "    Low_count=0\n",
    "    for i in lines:\n",
    "        for j in i:\n",
    "            if j==j.lower() and not j.isnumeric():\n",
    "                Low_count+=1 \n",
    "            elif j==j.upper() and not j.isnumeric():\n",
    "                Up_count+=1\n",
    "            elif j.isnumeric():\n",
    "                print(j,\" is a number\")\n",
    "            else:\n",
    "                print(j,\" is a special char\")\n",
    "    return {\"Upper_ount\":Up_count,\"Lower_count\":Low_count}\n",
    "UpLow()"
   ]
  },
  {
   "cell_type": "markdown",
   "id": "09d10eca-395d-4a37-9347-98be9c9988e7",
   "metadata": {},
   "source": [
    "c) Write a function called `count_word` that reads in `example.txt` and returns how many times the `target_word` (\"the\") appears in the text. Take note that the count must be case-insensitive (e.g., \"The\", \"the\", \"THE\" all count as one) and that it must only count whole word matches, not partial matches (e.g., \"them\" should not count if the target is \"the\")."
   ]
  },
  {
   "cell_type": "code",
   "execution_count": 215,
   "id": "16c56340-547d-455b-b23d-4432141c9967",
   "metadata": {},
   "outputs": [
    {
     "data": {
      "text/plain": [
       "('Are', 1)"
      ]
     },
     "execution_count": 215,
     "metadata": {},
     "output_type": "execute_result"
    }
   ],
   "source": [
    "# Your code here\n",
    "def count_word(target_word=\"the\",file=\"example.txt\"):\n",
    "    target_word_bak=target_word\n",
    "    target_word=target_word.upper()\n",
    "    f=open(file,'r')\n",
    "    lines=f.readlines()\n",
    "    f.close()\n",
    "    word_count=0\n",
    "    for line in lines:\n",
    "        line=line.split(' ')\n",
    "        for i in line:\n",
    "            if target_word == i.upper():\n",
    "                word_count+=1\n",
    "    return (target_word_bak,word_count)\n",
    "count_word(\"Are\")"
   ]
  },
  {
   "cell_type": "markdown",
   "id": "1aa05af8-19f8-49f5-a3d1-7c90fa708d0e",
   "metadata": {},
   "source": [
    "d) Write a function called `swap_and_clean` that reads the content of the file `example.txt`. The function should process the text by converting all uppercase letters to lowercase and all lowercase letters to uppercase. It should also remove all characters that are not letters, such as numbers and punctuation, while keeping spaces intact. After performing these modifications, the function should write the resulting text to a new file called `output1.txt`."
   ]
  },
  {
   "cell_type": "code",
   "execution_count": 287,
   "id": "c697a0ff-5e8e-4197-b3cf-01fdae99d8eb",
   "metadata": {},
   "outputs": [
    {
     "data": {
      "text/plain": [
       "'tHEREAREWORDmADAMeLLE'"
      ]
     },
     "execution_count": 287,
     "metadata": {},
     "output_type": "execute_result"
    }
   ],
   "source": [
    "# Your code here\n",
    "def swap_and_clean(file_in=\"example.txt\",file_out=\"output1.txt\"):\n",
    "    f=open(file,'r')\n",
    "    content=f.read()\n",
    "    f.close()\n",
    "    content=list(content)\n",
    "    to_del=[]\n",
    "    for i in range(len(content)):\n",
    "        if content[i].isalpha():\n",
    "            if content[i].islower():\n",
    "                content[i]=content[i].upper()\n",
    "            elif content[i].isupper():\n",
    "                content[i]=content[i].lower()\n",
    "            else:\n",
    "                print(\"Unknow char => \",content[i])\n",
    "        else:\n",
    "            to_del.append(i)\n",
    "    \n",
    "    new_content=''\n",
    "    for i in range(len(content)):\n",
    "        if i not in to_del:\n",
    "            new_content+=content[i]\n",
    "        else:\n",
    "            continue\n",
    "    f=open(file_out,\"w\")\n",
    "    f.write(new_content)\n",
    "    f.close()\n",
    "    return new_content\n",
    "\n",
    "swap_and_clean()"
   ]
  },
  {
   "cell_type": "markdown",
   "id": "3495f4ec-32c1-4dc4-83f2-e960f6bdd904",
   "metadata": {},
   "source": [
    "e) Write a function called `palindromes` that reads the content of `example.txt`. The function should first split the text into individual words. For each word, it should be cleaned by converting it to lowercase and removing any leading or trailing punctuation. After cleaning, the function should check whether the word is a [**palindrome**](https://en.wikipedia.org/wiki/Palindrome). A palindrome is a word that reads the same forwards and backwards eg \"madam\". If a word is a palindrome, the function should print the original, uncleaned version of that word to the console."
   ]
  },
  {
   "cell_type": "code",
   "execution_count": 257,
   "id": "f6055bd5-9777-4670-bc86-c4fa1bac10fc",
   "metadata": {},
   "outputs": [
    {
     "name": "stdout",
     "output_type": "stream",
     "text": [
      "Madam is a palindrome\n",
      "Elle is a palindrome\n"
     ]
    }
   ],
   "source": [
    "# Your code here\n",
    "def palindromes(file=\"example.txt\"):\n",
    "    f=open(file,'r')\n",
    "    content=f.read()\n",
    "    f.close()\n",
    "    content=content.replace('\\n',' ')\n",
    "    content=content.split(' ')\n",
    "    clear_content={}\n",
    "    for word in content:\n",
    "        clear_word=''\n",
    "        for j in word:\n",
    "            if str(j).isalpha():\n",
    "                clear_word+=j\n",
    "        if clear_word:\n",
    "            clear_content[word]=clear_word.lower()\n",
    "    for item in clear_content.items():\n",
    "        if item[1] == item[1][::-1]:\n",
    "            print(f\"{item[0]} is a palindrome\")\n",
    "\n",
    "palindromes()"
   ]
  },
  {
   "cell_type": "markdown",
   "id": "18071c54",
   "metadata": {},
   "source": [
    "f) Write a function called `extract_and_format_numbers` that reads the file `example.txt` line by line. The function should identify any numbers that appear in the text, such as `100000000`. For each number found, it should format the number by inserting commas in the appropriate places (for example, converting `100000000` to `100,000,000`). Each formatted number should then be written on a separate line in a new file called `output2.txt`."
   ]
  },
  {
   "cell_type": "code",
   "execution_count": 2,
   "id": "b2fd2ea1-ba51-4677-b59f-902fb08df1db",
   "metadata": {},
   "outputs": [],
   "source": [
    "# Your code here\n",
    "def extract_and_format_numbers(file_in=\"example.txt\",file_out=\"output2.txt\"):\n",
    "    f=open(file_in,'r')\n",
    "    line=f.readline()\n",
    "    words=[]\n",
    "    while line:\n",
    "        words.extend(line[0:len(line)-1].split(' '))\n",
    "        line=f.readline()\n",
    "    f.close()\n",
    "\n",
    "    f=open(file_out,'w')\n",
    "    for num in words:\n",
    "        if num.isnumeric():\n",
    "            num=int(num)\n",
    "            f_num=f\"{num:,}\"+'\\n'\n",
    "            f.write(f_num)\n",
    "        \n",
    "extract_and_format_numbers()\n",
    "       "
   ]
  },
  {
   "cell_type": "code",
   "execution_count": 3,
   "id": "513c0896",
   "metadata": {},
   "outputs": [
    {
     "name": "stdout",
     "output_type": "stream",
     "text": [
      "4\r\n",
      "100,000,520\r\n",
      "10,000,041\r\n",
      "100,000\r\n"
     ]
    }
   ],
   "source": [
    "!cat output2.txt"
   ]
  },
  {
   "cell_type": "markdown",
   "id": "a7b3e2bc",
   "metadata": {},
   "source": [
    "### Exercise 10\n",
    "\n",
    "The [**digital root**](https://en.wikipedia.org/wiki/Digital_root) of a positive number $n$ is obtained as follows: \n",
    "- Add up the digits $n$ to get a new number.\n",
    "- Add up the digits of that to get another new number. Keep doing this until you get a number that has only one digit. That number is the digital root.\n",
    "\n",
    "For example, if $n = 45893$, we add up the digits to get $$4 + 5 + 8 + 9 + 3 = 29.$$ We then add up\n",
    "the digits of $29$ to get $$2 + 9 = 11.$$ We then add up the digits of $11$ to get $$1 + 1 = 2.$$ Since 2 has\n",
    "only one digit, 2 is our digital root.\n",
    "\n",
    "Write the Python code of the function `DigRoot` that returns the digital root of an integer $n$ given as input.\n",
    "\n"
   ]
  },
  {
   "cell_type": "code",
   "execution_count": 4,
   "id": "5bce0733",
   "metadata": {},
   "outputs": [
    {
     "data": {
      "text/plain": [
       "2"
      ]
     },
     "execution_count": 4,
     "metadata": {},
     "output_type": "execute_result"
    }
   ],
   "source": [
    "# Your code here\n",
    "def DigRoot(n):\n",
    "    while True:\n",
    "        list_n=list(str(n))\n",
    "        list_n=[int(i) for i in list_n]\n",
    "        root_n=sum(list_n)\n",
    "        if len(str(root_n))==1:\n",
    "            return root_n\n",
    "        else:\n",
    "            return DigRoot(root_n)\n",
    "\n",
    "DigRoot(45893)"
   ]
  },
  {
   "cell_type": "markdown",
   "id": "38c8dc59",
   "metadata": {},
   "source": [
    "## Section 2: Mathematical Applications"
   ]
  },
  {
   "cell_type": "markdown",
   "id": "bd7b508f",
   "metadata": {},
   "source": [
    "### Exercise 1\n",
    "Compute the first 30 terms of the sequence defined by $2x_{n+2} - x_{n+1} - 6x_n = 0$ sequence, given any two initial values $x_0$ and $x_1$."
   ]
  },
  {
   "cell_type": "code",
   "execution_count": 21,
   "id": "ab40f242",
   "metadata": {},
   "outputs": [
    {
     "data": {
      "text/plain": [
       "[1,\n",
       " 0,\n",
       " 3.0,\n",
       " 1.5,\n",
       " 9.75,\n",
       " 9.375,\n",
       " 33.9375,\n",
       " 45.09375,\n",
       " 124.359375,\n",
       " 197.4609375,\n",
       " 471.80859375,\n",
       " 828.287109375,\n",
       " 1829.5693359375,\n",
       " 3399.64599609375,\n",
       " 7188.531005859375,\n",
       " 13793.203491210938,\n",
       " 28462.194763183594,\n",
       " 55610.70785522461,\n",
       " 113191.93821716309,\n",
       " 223428.09267425537,\n",
       " 451289.86098861694,\n",
       " 895929.2085170746,\n",
       " 1801834.1872243881,\n",
       " 3588704.719163418,\n",
       " 7199854.921254873,\n",
       " 14366041.61811769,\n",
       " 28782585.572823465,\n",
       " 57489417.6407648,\n",
       " 115092465.5388528,\n",
       " 230014485.6917208]"
      ]
     },
     "execution_count": 21,
     "metadata": {},
     "output_type": "execute_result"
    }
   ],
   "source": [
    "# Your code here\n",
    "def computing(x_0,x_1):\n",
    "    terms=[x_0,x_1]\n",
    "    for i in range(28):\n",
    "        terms.append((1/2)*((terms[-1])+(6*terms[-2])))\n",
    "    return terms\n",
    "\n",
    "computing(1,0)"
   ]
  },
  {
   "cell_type": "markdown",
   "id": "4604ea6c-10e6-41c4-9a7b-9d9cf3c4f456",
   "metadata": {},
   "source": [
    "### Exercise 2\n",
    "\n",
    "Let $f$ be a continuous function defined on the closed interval $[a, b]$ such that $f(a)$ and $f(b)$ have opposite signs. By the [**Intermediate Value Theorem**](https://en.wikipedia.org/wiki/Intermediate_value_theorem), there exists a root $x_0 \\in (a, b)$ for which $f(x_0) = 0$.\n",
    "\n",
    "The [**bisection method**](https://fiveable.me/numerical-analysis-i/unit-3/bisection-method-algorithm/study-guide/5LfBknp8yfSe5lse) is an iterative method for approximating the root of such a function. At each step, it divides the interval in half and selects the subinterval where the sign change occurs, repeating this process until the interval width is smaller than a given tolerance ($\\epsilon$).\n",
    "\n",
    "a) Write a function named `bisection(f, a, b, epsilon=1e-2)` that:\n",
    "\n",
    "- Returns a tuple $(\\bar{x}, f(\\bar{x}))$, where $\\bar{x}$ is an approximation of the root such that\n",
    "$$\n",
    "|\\bar{x} - x_0| \\le \\epsilon\n",
    "$$\n",
    "if $f(a)\\cdot f(b) < 0$.  \n",
    "\n",
    "- Prints ``Bisection method failed'' if $f(a)\\cdot f(b) \\ge 0$.\n"
   ]
  },
  {
   "cell_type": "code",
   "execution_count": 39,
   "id": "f7a47901",
   "metadata": {},
   "outputs": [],
   "source": [
    "# Your code here\n",
    "def bisection(f, a, b, epsilon=1e-2):\n",
    "    f_a,f_b=f(a),f(b)\n",
    "    if f_a * f_b > 0:\n",
    "        print(\"Bisection method failed\")\n",
    "        return None\n",
    "    elif f_a==0:\n",
    "        return a,f_a\n",
    "    elif f(b)==0:\n",
    "        return b,f_b\n",
    "\n",
    "    while abs((b - a) / 2) > epsilon:\n",
    "        half = (a + b) / 2\n",
    "        f_h=f(half)\n",
    "        if f_h == 0:\n",
    "            return half, f_h\n",
    "\n",
    "        if f(a) * f_h < 0:\n",
    "            b=half\n",
    "        else:\n",
    "            a=half\n",
    "    return (a + b) / 2, f((a + b) / 2)\n"
   ]
  },
  {
   "cell_type": "markdown",
   "id": "7b292b20",
   "metadata": {},
   "source": [
    "b) Test your function `bisection` for $ f(x) = x^3 -3x - 5$, $a=-10$ and $b=10$"
   ]
  },
  {
   "cell_type": "code",
   "execution_count": 41,
   "id": "65055df7",
   "metadata": {},
   "outputs": [
    {
     "data": {
      "text/plain": [
       "(2.275390625, -0.04555877298116684)"
      ]
     },
     "execution_count": 41,
     "metadata": {},
     "output_type": "execute_result"
    }
   ],
   "source": [
    "# Your code here\n",
    "f=lambda x: x**3-(3*x)-5\n",
    "bisection(f,-10,10)"
   ]
  },
  {
   "cell_type": "markdown",
   "id": "e4a009bd",
   "metadata": {},
   "source": [
    "### Exercise 3\n",
    "An irrational decimal fraction, [**Champernowne constant**](https://en.wikipedia.org/wiki/Champernowne_constant), is created by concatenating the positive integers: 0.12345678910<font color='red'>1</font>112131415161718192021...\n",
    "\n",
    "It can be seen that the 12th digit of the fractional part is <font color='red'>1</font>. If $d_n$ represents the nth digit of the fractional part, find the value of the following expression.\n",
    "\n",
    "$$d_1 × d_{10} × d_{100} × d_{1000} × d_{10000} × d_{100000} × d_{1000000}$$"
   ]
  },
  {
   "cell_type": "code",
   "execution_count": 50,
   "id": "6e8209b5",
   "metadata": {},
   "outputs": [
    {
     "name": "stdout",
     "output_type": "stream",
     "text": [
      "210\n"
     ]
    }
   ],
   "source": [
    "def champernowne_digit(n):\n",
    "    k, digits, count = 1, 1, 9\n",
    "    while n > digits * count:\n",
    "        n -= digits * count\n",
    "        k += count\n",
    "        digits += 1\n",
    "        count *= 10\n",
    "    k += (n-1)//digits\n",
    "    return int(str(k)[(n-1)%digits])\n",
    "\n",
    "indices = [1,10,100,1000,10000,100000,1000000]\n",
    "prod = 1\n",
    "for i in indices:\n",
    "    prod *= champernowne_digit(i)\n",
    "print(prod)"
   ]
  },
  {
   "cell_type": "markdown",
   "id": "b71b5cf3",
   "metadata": {},
   "source": [
    "## Section 3: Advanced Programming"
   ]
  },
  {
   "cell_type": "markdown",
   "id": "09c75521",
   "metadata": {},
   "source": [
    "### Exercise 1\n",
    "\n",
    "a) Write a Python function named `factorial2` that takes a non-negative integer $n$ as input and returns $n!$ (the factorial of $n$)."
   ]
  },
  {
   "cell_type": "code",
   "execution_count": 13,
   "id": "70ed6655",
   "metadata": {},
   "outputs": [
    {
     "data": {
      "text/plain": [
       "3628800"
      ]
     },
     "execution_count": 13,
     "metadata": {},
     "output_type": "execute_result"
    }
   ],
   "source": [
    "# Your code here\n",
    "\n",
    "def factorial2(n=0):\n",
    "    if n <=0:\n",
    "        return 1\n",
    "    else:\n",
    "        return n*factorial2(n-1)\n",
    "factorial2(10)"
   ]
  },
  {
   "cell_type": "markdown",
   "id": "695589d1-8ae4-494d-b032-d8cd9683cd0a",
   "metadata": {},
   "source": [
    "b) i) Write a Python function named `QuadEqu` that solves a quadratic equation of the form:\n",
    "$$ax^2 + bx + c = 0$$\n",
    "\n",
    "Your function should:\n",
    "- Take three real numbers $a$, $b$, and $c$ as inputs, with $a$ defaulting to 1.\n",
    "- Return the real solutions of the equation (if any) in a suitable format."
   ]
  },
  {
   "cell_type": "code",
   "execution_count": 56,
   "id": "849e4304-863d-49f7-a516-6437b150e7ea",
   "metadata": {},
   "outputs": [],
   "source": [
    "# Your code here\n",
    "from math import sqrt\n",
    "\n",
    "def QuadEqu(c,b,a=1):  \n",
    "    \"\"\"\n",
    "    This function solves a quadratic equation by taken a,b,c in the following order: c,b,a.\n",
    "    'a=1' by default so, given to values means will be assign to b and c.\n",
    "    \"\"\"\n",
    "    a=float(a);b=float(b);c=float(c)\n",
    "    discr=(b**2)-(4*c*a)\n",
    "    if discr <0:\n",
    "        return None\n",
    "    if discr==0:\n",
    "        sol=((-1)*b)/(2*a)\n",
    "        return sol\n",
    "    else:\n",
    "        sol_1=(((-1)*b)-sqrt(discr))/(2*a)\n",
    "        sol_2=(((-1)*b)+sqrt(discr))/(2*a)\n",
    "        return sol_1, sol_2"
   ]
  },
  {
   "cell_type": "markdown",
   "id": "f41a3fa9-a38f-4696-9bb1-9be33ee34bab",
   "metadata": {},
   "source": [
    "ii) Test the function `QuadEqu` for:\n",
    "  - $a=1, b=2, c=1$\n",
    "  - $a=2, b=2, c=40$\n",
    "  - $a=2, b=3, c=-5$"
   ]
  },
  {
   "cell_type": "code",
   "execution_count": 64,
   "id": "a755c928-76eb-4494-bd5b-39ccd3fc8678",
   "metadata": {},
   "outputs": [
    {
     "name": "stdout",
     "output_type": "stream",
     "text": [
      "-1.0\n",
      "None\n",
      "(-2.5, 1.0)\n"
     ]
    }
   ],
   "source": [
    "# Your code here\n",
    "\n",
    "print(QuadEqu(1,2,1))\n",
    "print(QuadEqu(40,2,2))\n",
    "print(QuadEqu(-5,3,2))"
   ]
  },
  {
   "cell_type": "markdown",
   "id": "6288bbf2-5dcf-4eb8-b429-64bf329576bf",
   "metadata": {},
   "source": [
    "c) Write a Python program named `fact2nddeg` that repeatedly offers the user a menu with three options:\n",
    "- Compute a factorial using factorial2\n",
    "- Solve a quadratic equation using QuadEqu\n",
    "- Exit the program\n",
    "\n",
    "The program should:\n",
    "- Ask the user to select an option.\n",
    "- Request the necessary input values for the chosen option.\n",
    "- Call the corresponding function and display the result.\n",
    "- Repeat the process until the user chooses to exit."
   ]
  },
  {
   "cell_type": "code",
   "execution_count": 120,
   "id": "882a1bae",
   "metadata": {},
   "outputs": [
    {
     "name": "stdout",
     "output_type": "stream",
     "text": [
      "\n",
      "    Enter a choice to continue...\n",
      "    \n",
      "    1- Compute a factoriel\n",
      "    2- Solve a quadratic equation\n",
      "    3- Exit\n",
      "    &\n",
      "Wrong input !\n",
      "\n",
      "    Enter a choice to continue...\n",
      "    \n",
      "    1- Compute a factoriel\n",
      "    2- Solve a quadratic equation\n",
      "    3- Exit\n",
      "    &éééééééééééééééééee1\n",
      "Wrong input !\n",
      "\n",
      "    Enter a choice to continue...\n",
      "    \n",
      "    1- Compute a factoriel\n",
      "    2- Solve a quadratic equation\n",
      "    3- Exit\n",
      "    3\n",
      "Bye\n"
     ]
    }
   ],
   "source": [
    "# Your code here\n",
    "# fact2nddeg.py\n",
    "\n",
    "def menu():\n",
    "    choice=input(\"\"\"\n",
    "    Enter a choice to continue...\n",
    "    \n",
    "    1- Compute a factoriel\n",
    "    2- Solve a quadratic equation\n",
    "    3- Exit\n",
    "    \"\"\")\n",
    "    return choice\n",
    "\n",
    "__name__='__main__'\n",
    "\n",
    "choice = menu()\n",
    "\n",
    "while choice !=3:\n",
    "    if choice.strip()=='3':\n",
    "        print(\"Bye\")\n",
    "        break\n",
    "    elif choice.strip()=='1':\n",
    "        try:\n",
    "            n=int(input(\"Enter an interger: \"))\n",
    "            fact=factorial2(n)\n",
    "            print(\"Factorial of \",n,\" = \",fact)\n",
    "        except:\n",
    "            print(\"Wrong input !\")\n",
    "    elif choice.strip()=='2':\n",
    "        vals=input(\"\"\"Enter a,b and c separed by space (a=1 by default): \"\"\").split(' ')\n",
    "        if len(vals)==2:\n",
    "            res=QuadEqu(vals[1],vals[0])\n",
    "        elif len(vals)==3:\n",
    "            res=QuadEqu(vals[2],vals[1],vals[0])\n",
    "        else:\n",
    "            print(\"Wrong input !\")\n",
    "        if res==None:\n",
    "            print(\"\\nNo solution of this equation\")\n",
    "        else:\n",
    "            print(\"\\nThe solution \",res)\n",
    "    else:\n",
    "        print(\"Wrong input !\")\n",
    "    choice = menu()"
   ]
  },
  {
   "cell_type": "markdown",
   "id": "98af1679",
   "metadata": {},
   "source": [
    "### Exercise 2\n",
    "This exercise builds the essential mathematical tools used in public-key cryptography, like [**Rivest–Shamir–Adleman (RSA)**](https://en.wikipedia.org/wiki/RSA_cryptosystem). Security relies on the unique properties of prime numbers and the extreme difficulty of factoring very large numbers.\n",
    "\n",
    "The Core Principle: Prime Factoring is Hard\n",
    "   - **Easy**: Multiplying two large prime numbers ($p$ and $q$) to get a huge composite number ($N=p \\cdot q$) is very fast for computers.\n",
    "   - **Hard**: Given only the product $N$, finding the original two prime factors, $p$ and $q$, takes an enormous amount of time. The time required grows exponentially with the size of $N$. This difficulty is what guarantees security.\n",
    "\n",
    "a) Write a function called `number_of_factors` that takes a positive integer $n$ and returns how many factors the number has together with a list of its factors."
   ]
  },
  {
   "cell_type": "code",
   "execution_count": 71,
   "id": "bc869862",
   "metadata": {},
   "outputs": [
    {
     "data": {
      "text/plain": [
       "(4, [(2, 10), (4, 5), (5, 4), (10, 2)])"
      ]
     },
     "execution_count": 71,
     "metadata": {},
     "output_type": "execute_result"
    }
   ],
   "source": [
    "# Your code here\n",
    "\n",
    "def number_of_factors(n):\n",
    "    \n",
    "    if n <= 0:\n",
    "        return None\n",
    "    \n",
    "    factors=[]\n",
    "    for i in range(1, n):\n",
    "        for j in range(1, n):\n",
    "            if i*j==n:\n",
    "                factors.append((i,j))\n",
    "    \n",
    "    return len(factors), factors\n",
    "\n",
    "number_of_factors(20)"
   ]
  },
  {
   "cell_type": "markdown",
   "id": "fa1fbcc4",
   "metadata": {},
   "source": [
    "b) Write a Python function called `is_prime` that takes a positive integer, $n$, as input and returns the boolean True if $n$ is a prime number and False, otherwise.\n",
    "\n",
    "Note : A prime number (or a prime) is a natural number greater than 1 and that has no positive divisors other than 1 and itself."
   ]
  },
  {
   "cell_type": "code",
   "execution_count": 42,
   "id": "1a8c5643",
   "metadata": {},
   "outputs": [
    {
     "data": {
      "text/plain": [
       "True"
      ]
     },
     "execution_count": 42,
     "metadata": {},
     "output_type": "execute_result"
    }
   ],
   "source": [
    "# Your code here\n",
    "\n",
    "def is_prime(n):\n",
    "    for i in range(2,n):\n",
    "        if n%i==0:\n",
    "            return False\n",
    "    return True\n",
    "\n",
    "is_prime(13)"
   ]
  },
  {
   "cell_type": "markdown",
   "id": "7faeebfc",
   "metadata": {},
   "source": [
    "c) Cryptographic systems need a large pool of primes. Write a function called `primes(k)` that returns a list of the first k prime numbers. (Set the default value of $k$ to 100)."
   ]
  },
  {
   "cell_type": "code",
   "execution_count": 83,
   "id": "4581b7e3",
   "metadata": {},
   "outputs": [
    {
     "data": {
      "text/plain": [
       "[2, 3, 5, 7, 11, 13, 17]"
      ]
     },
     "execution_count": 83,
     "metadata": {},
     "output_type": "execute_result"
    }
   ],
   "source": [
    "# Your code here\n",
    "def primes(k=100):\n",
    "    list_prime=[]\n",
    "    i=2\n",
    "    while True:\n",
    "        if is_prime(i):\n",
    "            list_prime.append(i)\n",
    "            if len(list_prime)==k:\n",
    "                break\n",
    "        i+=1\n",
    "    return list_prime\n",
    "\n",
    "primes(7)\n",
    "        "
   ]
  },
  {
   "cell_type": "markdown",
   "id": "97aaa822",
   "metadata": {},
   "source": [
    "d) Modify the `primes` function to accept an optional argument called start (default value is 2). The function should now return the first $k$ prime numbers that are greater than or equal to start. This simulates searching for primes in a specific high-security range."
   ]
  },
  {
   "cell_type": "code",
   "execution_count": 61,
   "id": "ea01e512",
   "metadata": {},
   "outputs": [
    {
     "data": {
      "text/plain": [
       "[101, 103, 107, 109, 113]"
      ]
     },
     "execution_count": 61,
     "metadata": {},
     "output_type": "execute_result"
    }
   ],
   "source": [
    "# Your code here\n",
    "\n",
    "def primes(k=100,start=2):\n",
    "    list_prime=[]\n",
    "    while True:\n",
    "        if is_prime(start):\n",
    "            list_prime.append(start)\n",
    "            if len(list_prime)==k:\n",
    "                break\n",
    "        start+=1\n",
    "    return list_prime\n",
    "\n",
    "primes(5,100)"
   ]
  },
  {
   "cell_type": "markdown",
   "id": "2277d219",
   "metadata": {},
   "source": [
    "e) The [**Fundamental theorem of arithmetic**](https://en.wikipedia.org/wiki/Fundamental_theorem_of_arithmetic) states that every integer $n$ is a prime number or can be uniquely written as a product of prime powers (e.g., $12=2^2 \\cdot 3^1$. We are interested in finding the exponent of a specific prime in such a factorization. Write a function `V(n, p)` that takes a positive integer $n$ and a prime $p$, and returns the largest integer $r$ such that $p^r$ divides $n$. This value, $r$, is known as the [**p-adic valuation**](https://en.wikipedia.org/wiki/P-adic_valuation)."
   ]
  },
  {
   "cell_type": "code",
   "execution_count": 93,
   "id": "b99888bb",
   "metadata": {},
   "outputs": [
    {
     "name": "stdout",
     "output_type": "stream",
     "text": [
      "The min value of n should be 2\n",
      "None\n",
      "2\n"
     ]
    }
   ],
   "source": [
    "# Your code here\n",
    "\n",
    "def exp_count(x, i):\n",
    "    \"\"\"\n",
    "    This function take a number n and check how many time we\n",
    "    can have i like x=i^count*...\n",
    "    \"\"\"\n",
    "    count = 0\n",
    "    while x % i == 0:\n",
    "        x //= i\n",
    "        count += 1\n",
    "    return count\n",
    "\n",
    "        \n",
    "def V(n,p):\n",
    "    if  not is_prime(p):\n",
    "        print(f\"{p} is not a prime number\")\n",
    "        return None\n",
    "    if (n<=0):\n",
    "        print(f\"The min value of n should be 2\")\n",
    "        return None\n",
    "    prod=1\n",
    "    i=2\n",
    "    n1=n\n",
    "    while prod<n1:\n",
    "        if is_prime(i):\n",
    "            exp=exp_count(n,i)\n",
    "            n=n//(i**exp)\n",
    "            prod*=(i**exp)\n",
    "            if(i==p):\n",
    "                return exp\n",
    "        i+=1\n",
    "    return None\n",
    "\n",
    "print(V(-12,3))\n",
    "print(V(12,2))          "
   ]
  },
  {
   "cell_type": "markdown",
   "id": "bba719f1",
   "metadata": {},
   "source": []
  },
  {
   "cell_type": "markdown",
   "id": "0b5b6a45",
   "metadata": {},
   "source": [
    "f) We would like now to compare the prime-factor structure of two numbers, $n$ and $m$, that is, we would like to measure how different two numbers are in terms of the powers of the primes in their factorizations. Write a function `D(n, m)` that takes two positive integers, $n$ and $m$, and returns a total score $S_1$ calculated as follows:\n",
    "\n",
    " $$ S_1 = \\sum_{p\\; prime} \\Bigl| \\nu_p(n) - \\nu_p(m)\\Bigr| $$\n",
    "\n",
    "Note that `D(14,24)=4`.\n",
    "\n"
   ]
  },
  {
   "cell_type": "code",
   "execution_count": 131,
   "id": "fabb6e98",
   "metadata": {},
   "outputs": [
    {
     "name": "stdout",
     "output_type": "stream",
     "text": [
      "{2: 3, 3: 1}\n",
      "{2: 1, 3: 0, 5: 0, 7: 1}\n"
     ]
    }
   ],
   "source": [
    "def V_2(n):\n",
    "    \n",
    "    \"\"\"\n",
    "    This function take an interger N and return a dictionnary that content the primer factor as key and their\n",
    "    exponet as value\n",
    "    \"\"\"\n",
    "    primes_dic={}\n",
    "    if (n<=0):\n",
    "        #print(f\"The min value of n should be 2\")\n",
    "        return None\n",
    "    prod=1\n",
    "    i=2\n",
    "    n1=n\n",
    "    while prod<n1:\n",
    "        if is_prime(i):\n",
    "            exp=exp_count(n,i)\n",
    "            n=n//(i**exp)\n",
    "            prod*=(i**exp)\n",
    "            primes_dic[i]=exp\n",
    "        i+=1\n",
    "    return primes_dic\n",
    "print(V_2(24))\n",
    "print(V_2(14))"
   ]
  },
  {
   "cell_type": "code",
   "execution_count": 132,
   "id": "d36c528f",
   "metadata": {},
   "outputs": [
    {
     "data": {
      "text/plain": [
       "0"
      ]
     },
     "execution_count": 132,
     "metadata": {},
     "output_type": "execute_result"
    }
   ],
   "source": [
    "# Your code here\n",
    "def D(n,m):\n",
    "    primes_n=V_2(n)\n",
    "    primes_m=V_2(m)\n",
    "    s_1=0\n",
    "    try:\n",
    "        if len(primes_m)>len(primes_n):\n",
    "            for i in primes_m.keys():\n",
    "                try:\n",
    "                    s_1+=abs(primes_n[i]-primes_m[i])\n",
    "                except:\n",
    "                    s_1+=abs(primes_m[i])\n",
    "        else:\n",
    "            for i in primes_n.keys():\n",
    "                try:\n",
    "                    s_1+=abs(primes_n[i]-primes_m[i])\n",
    "                except:\n",
    "                    s_1+=abs(primes_n[i])\n",
    "    except:\n",
    "            pass\n",
    "    return s_1\n",
    "\n",
    "D(0,1)"
   ]
  },
  {
   "cell_type": "markdown",
   "id": "d3341aa5",
   "metadata": {},
   "source": [
    "g) The final problem requires you to analyze the average behavior of the `D(n,m)` function by computing a large, iterated sum.  Hence, write a function `P` that takes a positive integer `N` and returns the sum $S_2$ given by:\n",
    "\n",
    "$$S_2  = \\sum_{n=1}^{N}\\sum_{m=1}^{N}D(n,m).$$\n",
    "\n",
    "Note that $P(10)=210$ and $P(10^2) = 37018$.\n"
   ]
  },
  {
   "cell_type": "code",
   "execution_count": 137,
   "id": "220bba4a",
   "metadata": {},
   "outputs": [
    {
     "name": "stdout",
     "output_type": "stream",
     "text": [
      "210\n",
      "37018\n"
     ]
    }
   ],
   "source": [
    "# Your code here\n",
    "def P(N):\n",
    "    s_2=0\n",
    "    for i in range(N+1):\n",
    "        for j in range(N+1):\n",
    "            try:\n",
    "                s_2+=D(i,j)\n",
    "            except:\n",
    "                continue\n",
    "    return s_2\n",
    "\n",
    "\n",
    "print(P(10))\n",
    "print(P(100))"
   ]
  },
  {
   "cell_type": "markdown",
   "id": "2336829c-4e61-49ad-955c-364ae234a725",
   "metadata": {},
   "source": [
    "### Exercise 3\n",
    "\n",
    "Imagine a population of bacteria that grows at a rate proportional to its current size, but with limited food supply. Suppose its growth is modeled by\n",
    "\n",
    "$$\\dfrac{dy}{dt}=0.5y$$\n",
    "\n",
    "with initial population $y(0)=2$.\n",
    "\n",
    "a) Explain in words what this equation means about how the population changes over time."
   ]
  },
  {
   "cell_type": "markdown",
   "id": "fc7a47fb-0509-4a8b-b8c2-11ee3394cb6c",
   "metadata": {},
   "source": [
    "**Your explanation here**\n",
    "\n",
    "_The constant 0.50 corresponds to the growth rate: it tells us that at any given moment, the population increases by 50% of its current size per unit of time._"
   ]
  },
  {
   "cell_type": "markdown",
   "id": "6e7ac82b-5593-4daa-9320-926192c42102",
   "metadata": {},
   "source": [
    "b) [**Euler’s method**](https://en.wikipedia.org/wiki/Euler_method) is a numerical technique to approximate solutions of ordinary differential equations (ODEs) when an exact solution is hard (or impossible) to find.\n",
    "\n",
    "Suppose we have an ODE:\n",
    "$$\\dfrac{dy}{dt} = f(t, y), \\quad y(t_0)=y_0$$\n",
    "\n",
    "The idea is:\n",
    "\n",
    "- Start from an initial point $(t_0, y_0)$\n",
    "- Move forward in small steps of size $h$\n",
    "- At each step, estimate the new value of $y$ using the slope $f(t,y)$ at the current point\n",
    "\n",
    "The update formula is thus given by:\n",
    "$$y_{n+1} = y_n + h \\cdot f(t_n,y_n)$$\n",
    "$$t_{n+1} = t_n + h$$\n",
    "\n",
    "The pseudocode is given as follows:"
   ]
  },
  {
   "cell_type": "raw",
   "id": "cd6dd625-099b-4958-b019-76d584c39873",
   "metadata": {},
   "source": [
    "euler(f, t0, y0, h, n):\n",
    "    input: \n",
    "        f  = function representing dy/dt = f(t, y)\n",
    "        t0 = initial time\n",
    "        y0 = initial value\n",
    "        h  = step size\n",
    "        n  = number of steps\n",
    "    output: approximate solution y_n after n steps\n",
    "    \n",
    "    set t = t0\n",
    "    set y = y0\n",
    "    \n",
    "    for i from 1 to n:\n",
    "        y = y + h * f(t, y)\n",
    "        t = t + h\n",
    "    \n",
    "    return y\n"
   ]
  },
  {
   "cell_type": "markdown",
   "id": "4a8b4070-f302-4515-87ac-2e9186a35596",
   "metadata": {},
   "source": [
    "c) i) Write $f(t, y) = 0.5y$ as a lambda function."
   ]
  },
  {
   "cell_type": "code",
   "execution_count": 142,
   "id": "e7945c33-fc9e-4bf5-a430-7b5b57d898f7",
   "metadata": {},
   "outputs": [],
   "source": [
    "f = lambda t,y: 0.5 * y"
   ]
  },
  {
   "cell_type": "markdown",
   "id": "63cbe25c-85a0-486a-8dbc-f69658cc7003",
   "metadata": {},
   "source": [
    "ii) Now, use Euler’s method with a step size $h=0.1$ to approximate the population at $t=0.3$. Strictly use lists."
   ]
  },
  {
   "cell_type": "code",
   "execution_count": 157,
   "id": "681af205-4795-4986-bdf9-b71fd19a9ddc",
   "metadata": {},
   "outputs": [
    {
     "name": "stdout",
     "output_type": "stream",
     "text": [
      "2.3152500000000003\n"
     ]
    }
   ],
   "source": [
    "t0 = 0\n",
    "y0 = 2\n",
    "h = 0.1\n",
    "n = 3 \n",
    "t = [t0]\n",
    "y = [y0]\n",
    "\n",
    "for i in range(n):\n",
    "    y_next = y[i] + h * f(t[i], y[i])\n",
    "    t_next = t[i] + h\n",
    "    y.append(y_next)\n",
    "    t.append(t_next)\n",
    "\n",
    "print(y[-1])\n"
   ]
  },
  {
   "cell_type": "markdown",
   "id": "3011b990-9ec4-4045-977e-806cf2a01489",
   "metadata": {},
   "source": [
    "d) Compare your result at $t=0.3$ with the exact solution $y(t) = 2\\exp^{0.5t}$, that is, compute the absolute error."
   ]
  },
  {
   "cell_type": "code",
   "execution_count": 161,
   "id": "752d3ba9-b5ca-44b0-bee3-fa9fab03a03c",
   "metadata": {},
   "outputs": [
    {
     "name": "stdout",
     "output_type": "stream",
     "text": [
      "2.323668485456566\n"
     ]
    }
   ],
   "source": [
    "import math\n",
    "\n",
    "def y(t):\n",
    "    return 2 * math.exp(0.5 * t)\n",
    "\n",
    "print(y(0.3))\n"
   ]
  },
  {
   "cell_type": "markdown",
   "id": "146689b2",
   "metadata": {},
   "source": [
    "my answer is close to the real enswer: 2.3152500000000003~=2.323668485456566"
   ]
  },
  {
   "cell_type": "markdown",
   "id": "23e54ea3-994e-4351-ba36-a6fdfbc07e43",
   "metadata": {},
   "source": [
    "e) Compare your answers for $y(0.3)$ with $h=0.1$ and $h=0.05$. Which one is closer to the exact solution $y(0.3) = 2\\exp^{0.15}$ ? Reflect on this."
   ]
  },
  {
   "cell_type": "code",
   "execution_count": 162,
   "id": "c6eb7840-6a86-42f4-bb0d-181038445e4b",
   "metadata": {},
   "outputs": [
    {
     "name": "stdout",
     "output_type": "stream",
     "text": [
      "2.1537812499999998\n"
     ]
    }
   ],
   "source": [
    "t0 = 0\n",
    "y0 = 2\n",
    "h = 0.05\n",
    "n = 3 \n",
    "t = [t0]\n",
    "y = [y0]\n",
    "\n",
    "for i in range(n):\n",
    "    y_next = y[i] + h * f(t[i], y[i])\n",
    "    t_next = t[i] + h\n",
    "    y.append(y_next)\n",
    "    t.append(t_next)\n",
    "\n",
    "print(y[-1])"
   ]
  },
  {
   "cell_type": "code",
   "execution_count": 163,
   "id": "459311b9",
   "metadata": {},
   "outputs": [
    {
     "name": "stdout",
     "output_type": "stream",
     "text": [
      "2.155768301769263\n"
     ]
    }
   ],
   "source": [
    "import math\n",
    "\n",
    "def y(t):\n",
    "    return 2 * math.exp(0.5 * t)\n",
    "\n",
    "print(y(0.15))\n"
   ]
  },
  {
   "cell_type": "markdown",
   "id": "bc2c6314",
   "metadata": {},
   "source": [
    "my answer is close to the real enswer: 2.1537812499999998 ~= 2.155768301769263\n"
   ]
  },
  {
   "cell_type": "markdown",
   "id": "fbd0292f-9bb4-48b9-8714-264d7a4e30c1",
   "metadata": {},
   "source": [
    "### Exercise 4\n",
    "\n",
    "Determine how many Sundays fell on the first day of a month during the twentieth century, that is, from 1 January 1901 to 31 December 2000.\n",
    "\n",
    "The following information might be useful (though you may also verify or research independently):\n",
    "\n",
    "- 1 January 1900 was a Monday.\n",
    "- The number of days in each month is as follows:\n",
    "    - September, April, June, and November each have 30 days.\n",
    "    - All other months have 31 days, except February, which has 28 days in a common year and 29 days in a leap year.\n",
    "- Leap year rules:\n",
    "    - A year is a leap year if it is divisible by 4.\n",
    "    - However, if the year is a century (i.e., divisible by 100), it is only a leap year if it is also divisible by 400."
   ]
  },
  {
   "cell_type": "code",
   "execution_count": 164,
   "id": "15009fdd-575a-4ed7-bee2-72ea31ca554e",
   "metadata": {},
   "outputs": [],
   "source": [
    "# Your code here"
   ]
  }
 ],
 "metadata": {
  "kernelspec": {
   "display_name": "Python 3 (ipykernel)",
   "language": "python",
   "name": "python3"
  },
  "language_info": {
   "codemirror_mode": {
    "name": "ipython",
    "version": 3
   },
   "file_extension": ".py",
   "mimetype": "text/x-python",
   "name": "python",
   "nbconvert_exporter": "python",
   "pygments_lexer": "ipython3",
   "version": "3.11.2"
  }
 },
 "nbformat": 4,
 "nbformat_minor": 5
}
