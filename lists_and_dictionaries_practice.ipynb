{
 "cells": [
  {
   "cell_type": "markdown",
   "id": "a514454d",
   "metadata": {},
   "source": [
    "# Lists"
   ]
  },
  {
   "cell_type": "code",
   "execution_count": 1,
   "id": "8a9b6ae3",
   "metadata": {},
   "outputs": [],
   "source": [
    "my_first_list = [\"Parfait\",\"TOLEFO\",25,1.85]"
   ]
  },
  {
   "cell_type": "code",
   "execution_count": 2,
   "id": "8fc90189",
   "metadata": {},
   "outputs": [
    {
     "name": "stdout",
     "output_type": "stream",
     "text": [
      "['Parfait', 'TOLEFO', 25, 1.85]\n"
     ]
    }
   ],
   "source": [
    "print(my_first_list)"
   ]
  },
  {
   "cell_type": "code",
   "execution_count": 3,
   "id": "de72b526",
   "metadata": {},
   "outputs": [
    {
     "data": {
      "text/plain": [
       "list"
      ]
     },
     "execution_count": 3,
     "metadata": {},
     "output_type": "execute_result"
    }
   ],
   "source": [
    "type(my_first_list)"
   ]
  },
  {
   "cell_type": "code",
   "execution_count": 5,
   "id": "86f4c215",
   "metadata": {},
   "outputs": [],
   "source": [
    "my_second_list = [\"Fabrice\",\"TOLEFO\",28,1.84]\n",
    "my_third_list = [\"Fernande\",\"TOLEFO\",32,1.70]\n",
    "my_familly=[my_first_list,my_second_list,my_third_list]"
   ]
  },
  {
   "cell_type": "code",
   "execution_count": 6,
   "id": "457e5007",
   "metadata": {},
   "outputs": [
    {
     "data": {
      "text/plain": [
       "[['Parfait', 'TOLEFO', 25, 1.85],\n",
       " ['Fabrice', 'TOLEFO', 28, 1.84],\n",
       " ['Fernande', 'TOLEFO', 32, 1.7]]"
      ]
     },
     "execution_count": 6,
     "metadata": {},
     "output_type": "execute_result"
    }
   ],
   "source": [
    "my_familly"
   ]
  },
  {
   "cell_type": "code",
   "execution_count": 7,
   "id": "8d41bab2",
   "metadata": {},
   "outputs": [
    {
     "data": {
      "text/plain": [
       "list"
      ]
     },
     "execution_count": 7,
     "metadata": {},
     "output_type": "execute_result"
    }
   ],
   "source": [
    "type(my_familly)"
   ]
  },
  {
   "cell_type": "code",
   "execution_count": 10,
   "id": "0a598c6a",
   "metadata": {},
   "outputs": [
    {
     "data": {
      "text/plain": [
       "[['Parfait', 'TOLEFO', 25, 1.85], 'Fabrice', 'TOLEFO', 28, 1.84]"
      ]
     },
     "execution_count": 10,
     "metadata": {},
     "output_type": "execute_result"
    }
   ],
   "source": [
    "my_familly_1=[my_first_list,\"Fabrice\",\"TOLEFO\",28,1.84]\n",
    "my_familly_1"
   ]
  },
  {
   "cell_type": "code",
   "execution_count": 11,
   "id": "b0a80879",
   "metadata": {},
   "outputs": [
    {
     "data": {
      "text/plain": [
       "['Parfait', 'TOLEFO', 25, 1.85]"
      ]
     },
     "execution_count": 11,
     "metadata": {},
     "output_type": "execute_result"
    }
   ],
   "source": [
    "my_familly_1[0]"
   ]
  },
  {
   "cell_type": "code",
   "execution_count": 14,
   "id": "877c35f5",
   "metadata": {},
   "outputs": [
    {
     "data": {
      "text/plain": [
       "list"
      ]
     },
     "execution_count": 14,
     "metadata": {},
     "output_type": "execute_result"
    }
   ],
   "source": [
    "type(my_familly_1[0])"
   ]
  },
  {
   "cell_type": "code",
   "execution_count": 15,
   "id": "bea9479c",
   "metadata": {},
   "outputs": [
    {
     "data": {
      "text/plain": [
       "1.85"
      ]
     },
     "execution_count": 15,
     "metadata": {},
     "output_type": "execute_result"
    }
   ],
   "source": [
    "my_familly_1[0][3]"
   ]
  },
  {
   "cell_type": "code",
   "execution_count": 16,
   "id": "cd9f798b",
   "metadata": {},
   "outputs": [
    {
     "data": {
      "text/plain": [
       "1.85"
      ]
     },
     "execution_count": 16,
     "metadata": {},
     "output_type": "execute_result"
    }
   ],
   "source": [
    "my_familly_1[0][-1]"
   ]
  },
  {
   "cell_type": "code",
   "execution_count": 17,
   "id": "6a02c473",
   "metadata": {},
   "outputs": [],
   "source": [
    "my_1 = [\"CyberAI\",\"Parfait\",28,1.84]\n",
    "my_2 = [\"AIMS SN\",\"Python3\",32]"
   ]
  },
  {
   "cell_type": "code",
   "execution_count": 18,
   "id": "cbdeea47",
   "metadata": {},
   "outputs": [
    {
     "data": {
      "text/plain": [
       "['CyberAI', 'Parfait', 28, 1.84, 'AIMS SN', 'Python3', 32]"
      ]
     },
     "execution_count": 18,
     "metadata": {},
     "output_type": "execute_result"
    }
   ],
   "source": [
    "my_1+my_2"
   ]
  },
  {
   "cell_type": "code",
   "execution_count": 19,
   "id": "2ceeee43",
   "metadata": {},
   "outputs": [
    {
     "data": {
      "text/plain": [
       "['AIMS SN', 'Python3', 32, 'CyberAI', 'Parfait', 28, 1.84]"
      ]
     },
     "execution_count": 19,
     "metadata": {},
     "output_type": "execute_result"
    }
   ],
   "source": [
    "my_2+my_1"
   ]
  },
  {
   "cell_type": "code",
   "execution_count": 21,
   "id": "eea4694b",
   "metadata": {},
   "outputs": [
    {
     "data": {
      "text/plain": [
       "['CyberAI', 'Parfait', 28, 1.84, 7, 7]"
      ]
     },
     "execution_count": 21,
     "metadata": {},
     "output_type": "execute_result"
    }
   ],
   "source": [
    "my_1.append(7)\n",
    "my_1"
   ]
  },
  {
   "cell_type": "code",
   "execution_count": 23,
   "id": "d97a7762",
   "metadata": {},
   "outputs": [
    {
     "data": {
      "text/plain": [
       "['CyberAI', 'Parfait', 28, 1.84, 7, 7, 'aa']"
      ]
     },
     "execution_count": 23,
     "metadata": {},
     "output_type": "execute_result"
    }
   ],
   "source": [
    "dic={\"aa\":1}\n",
    "my_1.extend(dic)\n",
    "my_1"
   ]
  },
  {
   "cell_type": "code",
   "execution_count": 24,
   "id": "c61db1c1",
   "metadata": {},
   "outputs": [
    {
     "data": {
      "text/plain": [
       "['CyberAI', 'Parfait', 28, 1.84, 7, 7, 'aa', ['AIMS SN', 'Python3', 32]]"
      ]
     },
     "execution_count": 24,
     "metadata": {},
     "output_type": "execute_result"
    }
   ],
   "source": [
    "my_1.append(my_2)\n",
    "my_1"
   ]
  },
  {
   "cell_type": "code",
   "execution_count": 26,
   "id": "b7d2131a",
   "metadata": {},
   "outputs": [
    {
     "name": "stdout",
     "output_type": "stream",
     "text": [
      "['CyberAI', 'Parfait', 28, 1.84, 7, 7, 'aa', ['AIMS SN', 'Python3', 32], 'CyberAI', 'Parfait', 28, 1.84, 7, 7, 'aa', ['AIMS SN', 'Python3', 32]]\n"
     ]
    }
   ],
   "source": [
    "print(2*my_1)"
   ]
  },
  {
   "cell_type": "code",
   "execution_count": 27,
   "id": "6b475728",
   "metadata": {},
   "outputs": [
    {
     "name": "stdout",
     "output_type": "stream",
     "text": [
      "['CyberAI', 'Parfait', 28, 1.84, 7, 7, 'aa', ['AIMS SN', 'Python3', 32], 'CyberAI', 'Parfait', 28, 1.84, 7, 7, 'aa', ['AIMS SN', 'Python3', 32]]\n"
     ]
    }
   ],
   "source": [
    "print(my_1*2)"
   ]
  },
  {
   "cell_type": "code",
   "execution_count": 29,
   "id": "c91d7b2c",
   "metadata": {},
   "outputs": [
    {
     "ename": "TypeError",
     "evalue": "can't multiply sequence by non-int of type 'float'",
     "output_type": "error",
     "traceback": [
      "\u001b[0;31m---------------------------------------------------------------------------\u001b[0m",
      "\u001b[0;31mTypeError\u001b[0m                                 Traceback (most recent call last)",
      "\u001b[0;32m/tmp/ipykernel_20657/45611039.py\u001b[0m in \u001b[0;36m<module>\u001b[0;34m\u001b[0m\n\u001b[0;32m----> 1\u001b[0;31m \u001b[0mprint\u001b[0m\u001b[0;34m(\u001b[0m\u001b[0mmy_1\u001b[0m\u001b[0;34m*\u001b[0m\u001b[0;36m2.2\u001b[0m\u001b[0;34m)\u001b[0m \u001b[0;31m#Explain why ......\u001b[0m\u001b[0;34m\u001b[0m\u001b[0;34m\u001b[0m\u001b[0m\n\u001b[0m",
      "\u001b[0;31mTypeError\u001b[0m: can't multiply sequence by non-int of type 'float'"
     ]
    }
   ],
   "source": [
    "print(my_1*2.2) #Explain why ......"
   ]
  },
  {
   "cell_type": "markdown",
   "id": "1dd13bb2",
   "metadata": {},
   "source": [
    "# Dict"
   ]
  },
  {
   "cell_type": "code",
   "execution_count": 33,
   "id": "06baa839",
   "metadata": {},
   "outputs": [],
   "source": [
    "my_dict={\"people1\":[\"CyberAI\",\"Parfait\",28,1.84],\"people2\":[\"Fernande\",\"TOLEFO\",32,1.70],\"peole3\":[\"Parfait\",\"TOLEFO\",25,1.85]}"
   ]
  },
  {
   "cell_type": "code",
   "execution_count": 34,
   "id": "3ffcda76",
   "metadata": {},
   "outputs": [
    {
     "data": {
      "text/plain": [
       "{'people1': ['CyberAI', 'Parfait', 28, 1.84],\n",
       " 'people2': ['Fernande', 'TOLEFO', 32, 1.7],\n",
       " 'peole3': ['Parfait', 'TOLEFO', 25, 1.85]}"
      ]
     },
     "execution_count": 34,
     "metadata": {},
     "output_type": "execute_result"
    }
   ],
   "source": [
    "my_dict"
   ]
  },
  {
   "cell_type": "code",
   "execution_count": 36,
   "id": "c1f9d791",
   "metadata": {},
   "outputs": [
    {
     "data": {
      "text/plain": [
       "['CyberAI', 'Parfait', 28, 1.84]"
      ]
     },
     "execution_count": 36,
     "metadata": {},
     "output_type": "execute_result"
    }
   ],
   "source": [
    "my_dict[\"people1\"]"
   ]
  },
  {
   "cell_type": "code",
   "execution_count": 37,
   "id": "e40936c0",
   "metadata": {},
   "outputs": [],
   "source": [
    "my_dict['people4']=[\"Fabrice\",\"TOLEFO\",28,1.84]"
   ]
  },
  {
   "cell_type": "code",
   "execution_count": 38,
   "id": "164edb9d",
   "metadata": {},
   "outputs": [
    {
     "data": {
      "text/plain": [
       "{'people1': ['CyberAI', 'Parfait', 28, 1.84],\n",
       " 'people2': ['Fernande', 'TOLEFO', 32, 1.7],\n",
       " 'peole3': ['Parfait', 'TOLEFO', 25, 1.85],\n",
       " 'people4': ['Fabrice', 'TOLEFO', 28, 1.84]}"
      ]
     },
     "execution_count": 38,
     "metadata": {},
     "output_type": "execute_result"
    }
   ],
   "source": [
    "my_dict"
   ]
  },
  {
   "cell_type": "code",
   "execution_count": 41,
   "id": "c3d1da86",
   "metadata": {},
   "outputs": [],
   "source": [
    "my_dict['people4']=[\"Fabrice\",\"TOLEFO\",28,1.80]"
   ]
  },
  {
   "cell_type": "code",
   "execution_count": 42,
   "id": "340fedb0",
   "metadata": {},
   "outputs": [
    {
     "data": {
      "text/plain": [
       "{'people1': ['CyberAI', 'Parfait', 28, 1.84],\n",
       " 'people2': ['Fernande', 'TOLEFO', 32, 1.7],\n",
       " 'peole3': ['Parfait', 'TOLEFO', 25, 1.85],\n",
       " 'people4': ['Fabrice', 'TOLEFO', 28, 1.8]}"
      ]
     },
     "execution_count": 42,
     "metadata": {},
     "output_type": "execute_result"
    }
   ],
   "source": [
    "my_dict"
   ]
  },
  {
   "cell_type": "code",
   "execution_count": 45,
   "id": "a1e5aa50",
   "metadata": {},
   "outputs": [
    {
     "data": {
      "text/plain": [
       "{'people1': ['CyberAI', 'Parfait', 28, 1.84],\n",
       " 'people2': ['Fernande', 'TOLEFO', 32, 1.7],\n",
       " 'peole3': ['Parfait', 'TOLEFO', 25, 1.85],\n",
       " 'people4': ['Fabrice', 'TOLEFO']}"
      ]
     },
     "execution_count": 45,
     "metadata": {},
     "output_type": "execute_result"
    }
   ],
   "source": [
    "my_dict['people4']=[\"Fabrice\",\"TOLEFO\"]\n",
    "my_dict"
   ]
  },
  {
   "cell_type": "code",
   "execution_count": 47,
   "id": "32847d1e",
   "metadata": {},
   "outputs": [
    {
     "data": {
      "text/plain": [
       "{'people1': ['Fernando', 'TOLEFO', 35, 1.75]}"
      ]
     },
     "execution_count": 47,
     "metadata": {},
     "output_type": "execute_result"
    }
   ],
   "source": [
    "my_dict2={\"people1\":[\"CyberAI\",\"Parfait\",25,1.85],\"people1\":[\"Fernando\",\"TOLEFO\",35,1.75]}\n",
    "my_dict2"
   ]
  },
  {
   "cell_type": "code",
   "execution_count": 48,
   "id": "95ff6aa8",
   "metadata": {},
   "outputs": [
    {
     "data": {
      "text/plain": [
       "dict_items([('people1', ['Fernando', 'TOLEFO', 35, 1.75])])"
      ]
     },
     "execution_count": 48,
     "metadata": {},
     "output_type": "execute_result"
    }
   ],
   "source": [
    "my_dict2.items()"
   ]
  },
  {
   "cell_type": "code",
   "execution_count": 50,
   "id": "d158aaf8",
   "metadata": {},
   "outputs": [
    {
     "data": {
      "text/plain": [
       "dict_keys(['people1'])"
      ]
     },
     "execution_count": 50,
     "metadata": {},
     "output_type": "execute_result"
    }
   ],
   "source": [
    "my_dict2.keys()"
   ]
  },
  {
   "cell_type": "code",
   "execution_count": 51,
   "id": "f180adbd",
   "metadata": {},
   "outputs": [],
   "source": [
    "my_dict3={\"people1\":[\"Parfait\",\"TOLEFO\",28,1.84],\"people2\":[\"ADASHU\",\"Daniel\",29,1.70],\"peole3\":[\"Lenick\",\"NYABUTO\",24,1.5]}\n",
    "my_dict4={\"people1\":[\"Parfait\",\"TOLEFO\",28,1.84],\"people2\":[\"NDOYE\",\"Maïmouna\",23,1.74],\"peole3\":[\"Bathelemy\",\"NoNAME\",22,1.55]}\n"
   ]
  },
  {
   "cell_type": "code",
   "execution_count": 52,
   "id": "dd03ae92",
   "metadata": {},
   "outputs": [],
   "source": [
    "?my_dict3.update\n"
   ]
  },
  {
   "cell_type": "code",
   "execution_count": 53,
   "id": "fe81cdc2",
   "metadata": {},
   "outputs": [],
   "source": [
    "my_dict3.update(my_dict4)"
   ]
  },
  {
   "cell_type": "code",
   "execution_count": 54,
   "id": "33173f63",
   "metadata": {},
   "outputs": [
    {
     "data": {
      "text/plain": [
       "{'people1': ['Parfait', 'TOLEFO', 28, 1.84],\n",
       " 'people2': ['NDOYE', 'Maïmouna', 23, 1.74],\n",
       " 'peole3': ['Bathelemy', 'NoNAME', 22, 1.55]}"
      ]
     },
     "execution_count": 54,
     "metadata": {},
     "output_type": "execute_result"
    }
   ],
   "source": [
    "my_dict3"
   ]
  },
  {
   "cell_type": "code",
   "execution_count": null,
   "id": "e87d83ed",
   "metadata": {},
   "outputs": [],
   "source": []
  }
 ],
 "metadata": {
  "kernelspec": {
   "display_name": "Python 3 (ipykernel)",
   "language": "python",
   "name": "python3"
  },
  "language_info": {
   "codemirror_mode": {
    "name": "ipython",
    "version": 3
   },
   "file_extension": ".py",
   "mimetype": "text/x-python",
   "name": "python",
   "nbconvert_exporter": "python",
   "pygments_lexer": "ipython3",
   "version": "3.10.12"
  }
 },
 "nbformat": 4,
 "nbformat_minor": 5
}
