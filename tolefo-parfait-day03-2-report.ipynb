{
 "cells": [
  {
   "cell_type": "markdown",
   "id": "003dfb93",
   "metadata": {
    "id": "bea983a3"
   },
   "source": [
    "# Practical_2: String and files\n",
    "\n",
    "---\n",
    "\n",
    "### Exercise 1:\n",
    "Create a string variable `text` and assign it the value `\"Python is amazing!\"`.\n",
    "\n",
    "```python\n",
    "# Exercise 1\n",
    "```"
   ]
  },
  {
   "cell_type": "markdown",
   "id": "8675ddcd",
   "metadata": {
    "id": "bea983a3"
   },
   "source": [
    "---\n",
    "\n",
    "### Exercise 2:\n",
    "Find the length of the string `\"Hello, World!\"` and store it in a variable `length`.\n",
    "\n",
    "```python\n",
    "# Exercise 2\n",
    "```\n",
    "\n",
    "---\n",
    "\n",
    "### Exercise 3:\n",
    "Convert the string `\"python programming\"` to uppercase and store it in a variable `upper_text`.\n",
    "\n",
    "```python\n",
    "# Exercise 3\n",
    "```\n",
    "\n",
    "---\n",
    "\n",
    "### Exercise 4:\n",
    "Extract the first 5 characters from the string `\"Artificial Intelligence\"`.\n",
    "\n",
    "```python\n",
    "# Exercise 4\n",
    "```\n",
    "\n",
    "---\n",
    "\n",
    "### Exercise 5:\n",
    "Concatenate the strings `\"Hello\"` and `\"World\"` with a space in between.\n",
    "\n",
    "```python\n",
    "# Exercise 5\n",
    "```\n",
    "\n",
    "---\n",
    "\n",
    "### Exercise 6:\n",
    "Replace the word `\"dog\"` with `\"cat\"` in the string `\"The quick brown dog jumps over the lazy dog.\"`.\n",
    "\n",
    "```python\n",
    "# Exercise 6\n",
    "```\n",
    "\n",
    "---\n",
    "\n",
    "### Exercise 7:\n",
    "Split the string `\"apple,banana,orange\"` by commas and store the result in a list `fruits_list`.\n",
    "\n",
    "```python\n",
    "# Exercise 7\n",
    "```\n",
    "\n",
    "---\n",
    "\n",
    "### Exercise 8:\n",
    "Use string formatting to create the sentence `\"My name is Alice and I am 25 years old.\"`, where the name and age are variables.\n",
    "\n",
    "```python\n",
    "# Exercise 8\n",
    "```\n",
    "\n",
    "---\n",
    "\n",
    "### Exercise 9:\n",
    "Check if the string `\"python\"` is present in the sentence `\"I love python programming\"`.\n",
    "\n",
    "```python\n",
    "# Exercise 9\n",
    "```\n",
    "\n",
    "---\n",
    "\n",
    "### Exercise 10:\n",
    "Count the number of occurrences of the letter `\"e\"` in the string `\"Elephant is an elegant animal\"`.\n",
    "\n",
    "```python\n",
    "# Exercise 10\n",
    "```\n",
    "\n",
    "---\n",
    "\n",
    "### Exercise 11:\n",
    "Remove any leading and trailing spaces from the string `\"   Data Science   \"`.\n",
    "\n",
    "```python\n",
    "# Exercise 11\n",
    "```\n",
    "\n",
    "---\n",
    "\n",
    "### Exercise 12:\n",
    "Convert the string `\"100\"` into an integer and store it in a variable `int_value`.\n",
    "\n",
    "```python\n",
    "# Exercise 12\n",
    "```\n",
    "\n",
    "---\n",
    "\n",
    "### Exercise 13:\n",
    "Extract the substring `\"pro\"` from the string `\"programming\"`.\n",
    "\n",
    "```python\n",
    "# Exercise 13\n",
    "```\n",
    "\n",
    "---\n",
    "\n",
    "### Exercise 14:\n",
    "Check if the string `\"data\"` starts with `\"da\"` and ends with `\"ta\"`.\n",
    "\n",
    "```python\n",
    "# Exercise 14\n",
    "```\n",
    "\n",
    "---\n",
    "\n",
    "### Exercise 15:\n",
    "Reverse the string `\"machine learning\"` and store the result in `reversed_text`.\n",
    "\n",
    "```python\n",
    "# Exercise 15\n",
    "```\n",
    "\n",
    "---\n",
    "\n",
    "### Exercise 16:\n",
    "Convert the first letter of each word in the string `\"machine learning is fun\"` to uppercase.\n",
    "\n",
    "```python\n",
    "# Exercise 16\n",
    "```\n",
    "\n",
    "---\n",
    "\n",
    "### Exercise 17:\n",
    "Create a multiline string representing a poem and store it in a variable `poem`.\n",
    "\n",
    "```python\n",
    "# Exercise 17\n",
    "```\n",
    "\n",
    "---\n",
    "\n",
    "### Exercise 18:\n",
    "Write a string to a file named `\"output.txt\"`.\n",
    "\n",
    "```python\n",
    "# Exercise 18\n",
    "```\n",
    "\n",
    "---\n",
    "\n",
    "### Exercise 19:\n",
    "Read the contents of a file named `\"data.txt\"` and print it line by line.\n",
    "\n",
    "```python\n",
    "# Exercise 19\n",
    "```\n",
    "\n",
    "---\n",
    "\n",
    "### Exercise 20:\n",
    "Check if a file `\"example.txt\"` exists before opening it.\n",
    "\n",
    "```python\n",
    "# Exercise 20\n",
    "```\n",
    "\n",
    "---\n",
    "\n",
    "### Exercise 21:\n",
    "Append a new line `\"This is a new line\"` to an existing file `\"notes.txt\"`.\n",
    "\n",
    "```python\n",
    "# Exercise 21\n",
    "```\n",
    "\n",
    "---\n",
    "\n",
    "### Exercise 22:\n",
    "Read the contents of a file `\"log.txt\"` and store each line in a list `log_lines`.\n",
    "\n",
    "```python\n",
    "# Exercise 22\n",
    "```\n",
    "\n",
    "---\n",
    "\n",
    "### Exercise 23:\n",
    "Create a new file `\"report.txt\"` and write the string `\"Data analysis report\"` to it.\n",
    "\n",
    "```python\n",
    "# Exercise 23\n",
    "```\n",
    "\n",
    "---\n",
    "\n",
    "### Exercise 24:\n",
    "Replace the word `\"error\"` with `\"issue\"` in a file `\"log.txt\"`.\n",
    "\n",
    "```python\n",
    "# Exercise 24\n",
    "```\n",
    "\n",
    "---\n",
    "\n",
    "### Exercise 25:\n",
    "Count the number of words in a text file `\"document.txt\"`.\n",
    "\n",
    "```python\n",
    "# Exercise 25\n",
    "```\n",
    "\n",
    "---\n",
    "\n",
    "### Exercise 26:\n",
    "Write a Python script that reads a file `\"essay.txt\"` and prints the total number of lines, words, and characters.\n",
    "\n",
    "```python\n",
    "# Exercise 26\n",
    "```\n",
    "\n",
    "---\n",
    "\n",
    "### Exercise 27:\n",
    "Copy the contents of one file `\"source.txt\"` to another file `\"destination.txt\"`.\n",
    "\n",
    "```python\n",
    "# Exercise 27\n",
    "```\n",
    "\n",
    "---\n",
    "\n",
    "### Exercise 28:\n",
    "Write a Python function that takes a filename as input and returns the number of lines in the file.\n",
    "\n",
    "```python\n",
    "# Exercise 28\n",
    "```\n",
    "\n",
    "---\n",
    "\n",
    "### Exercise 29:\n",
    "Extract all the words from a text file `\"article.txt\"` that contain more than 5 characters.\n",
    "\n",
    "```python\n",
    "# Exercise 29\n",
    "```\n",
    "\n",
    "---\n",
    "\n",
    "### Exercise 30:\n",
    "Convert the contents of a file `\"notes.txt\"` to uppercase and save the result in another file `\"uppercase_notes.txt\"`.\n",
    "\n",
    "```python\n",
    "# Exercise 30\n",
    "```\n",
    "\n",
    "---\n",
    "\n",
    "### Exercise 31:\n",
    "Write a Python script that reads a file and removes all empty lines.\n",
    "\n",
    "```python\n",
    "# Exercise 31\n",
    "```\n",
    "\n",
    "---\n",
    "\n",
    "### Exercise 32:\n",
    "Open a file `\"config.txt\"` in both read and write mode.\n",
    "\n",
    "```python\n",
    "# Exercise 32\n",
    "```\n",
    "\n",
    "---\n",
    "\n",
    "### Exercise 33:\n",
    "Write a Python function that reads a file and prints the longest line in the file.\n",
    "\n",
    "```python\n",
    "# Exercise 33\n",
    "```\n",
    "\n",
    "---\n",
    "\n",
    "### Exercise 34:\n",
    "Write a Python script to count the frequency of each letter in a text file `\"message.txt\"`.\n",
    "\n",
    "```python\n",
    "# Exercise 34\n",
    "```\n",
    "\n",
    "---\n",
    "\n",
    "### Exercise 35:\n",
    "Write a Python script that reads a file and prints the total number of characters, excluding spaces.\n",
    "\n",
    "```python\n",
    "# Exercise 35\n",
    "```\n",
    "\n",
    "---\n",
    "\n",
    "### Exercise 36:\n",
    "Create a Python script to check whether a file is empty or not.\n",
    "\n",
    "```python\n",
    "# Exercise 36\n",
    "```\n",
    "\n",
    "---\n",
    "\n",
    "### Exercise 37:\n",
    "Write a Python function that reads a file and removes all punctuation marks from the text.\n",
    "\n",
    "```python\n",
    "# Exercise 37\n",
    "```\n",
    "\n",
    "---\n",
    "\n",
    "### Exercise 38:\n",
    "Create a Python function that writes a list of strings to a file, each string on a new line.\n",
    "\n",
    "```python\n",
    "# Exercise 38\n",
    "```\n",
    "\n",
    "---\n",
    "\n",
    "### Exercise 39:\n",
    "Write a Python script to count the number of lines that start with a specific letter (e.g., \"A\") in a text file.\n",
    "\n",
    "```python\n",
    "# Exercise 39\n",
    "```\n",
    "\n",
    "---\n",
    "\n",
    "### Exercise 40:\n",
    "Write a Python function that takes a string as input and writes it to a file `\"output.txt\"` in reverse order.\n",
    "\n",
    "```python\n",
    "# Exercise 40\n",
    "```\n",
    "\n",
    "---\n",
    "\n",
    "### Exercise 41:\n",
    "Write a Python script that reads a file and prints all the lines that contain the word `\"Python\"`.\n",
    "\n",
    "```python\n",
    "# Exercise 41\n",
    "```\n",
    "\n",
    "---\n",
    "\n",
    "### Exercise 42:\n",
    "Write a Python script that opens a file and removes all numeric digits from the file's content.\n",
    "\n",
    "```python\n",
    "# Exercise 42\n",
    "```\n",
    "\n",
    "---\n",
    "\n",
    "### Exercise 43:\n",
    "Write a Python script to find the most frequent word in a text file `\"book.txt\"`.\n",
    "\n",
    "```python\n",
    "# Exercise 43\n",
    "```\n",
    "\n",
    "---\n",
    "\n",
    "### Exercise 44:\n",
    "Write a Python script that reads a file and prints all the lines that contain exactly 5 words.\n",
    "\n",
    "```python\n",
    "# Exercise 44\n",
    "```\n",
    "\n",
    "---\n",
    "\n",
    "### Exercise 45:\n",
    "Write a Python script to read a file and print the first and last line of the file.\n",
    "\n",
    "```python\n",
    "# Exercise 45\n",
    "```\n",
    "\n",
    "---\n",
    "\n",
    "### Exercise 46:\n",
    "Write a Python script that checks if a file `\"students.txt\"` is writable.\n",
    "\n",
    "```python\n",
    "# Exercise 46\n",
    "```\n",
    "\n",
    "---\n",
    "\n",
    "### Exercise 47:\n",
    "Create a Python function that opens a file and returns the number of unique words in the file.\n",
    "\n",
    "```python\n",
    "# Exercise 47\n",
    "```\n",
    "\n",
    "---\n",
    "\n",
    "### Exercise 48:\n",
    "Write a Python script that reads a file and prints all lines in reverse order.\n",
    "\n",
    "```python\n",
    "# Exercise 48\n",
    "```\n",
    "\n",
    "---\n",
    "\n",
    "### Exercise 49:\n",
    "Write a Python function that reads a file and returns the most common letter in the text.\n",
    "\n",
    "```python\n",
    "# Exercise 49\n",
    "```\n",
    "\n",
    "---\n",
    "\n",
    "### Exercise 50:\n",
    "Write a Python script that reads a file and replaces every occurrence of `\"Python\"` with `\"Java\"`.\n",
    "\n",
    "```python\n",
    "# Exercise 50\n",
    "```\n",
    "\n",
    "---"
   ]
  },
  {
   "cell_type": "code",
   "execution_count": 2,
   "id": "483a2912",
   "metadata": {},
   "outputs": [],
   "source": [
    "# Exercise 1\n",
    "text=\"Python is amazing!\""
   ]
  },
  {
   "cell_type": "code",
   "execution_count": 3,
   "id": "c1a706d2",
   "metadata": {},
   "outputs": [],
   "source": [
    "# Exercise 2:\n",
    "length=len(\"Hello, World!\")"
   ]
  },
  {
   "cell_type": "code",
   "execution_count": 4,
   "id": "039f8c42",
   "metadata": {},
   "outputs": [
    {
     "name": "stdout",
     "output_type": "stream",
     "text": [
      "PYTHON PROGRAMMING\n"
     ]
    }
   ],
   "source": [
    "#Exercise 3:\n",
    "upper_text=\"python programming\".upper()\n",
    "print(upper_text)"
   ]
  },
  {
   "cell_type": "code",
   "execution_count": 7,
   "id": "988c39f6",
   "metadata": {},
   "outputs": [
    {
     "name": "stdout",
     "output_type": "stream",
     "text": [
      "Artif 5\n"
     ]
    }
   ],
   "source": [
    "#Exercise 4:\n",
    "strings_2=\"Artificial Intelligence\"\n",
    "sub_str=strings_2[:5]\n",
    "print(sub_str,len(sub_str))"
   ]
  },
  {
   "cell_type": "code",
   "execution_count": 8,
   "id": "a275e26e",
   "metadata": {},
   "outputs": [
    {
     "name": "stdout",
     "output_type": "stream",
     "text": [
      "Hello World\n"
     ]
    }
   ],
   "source": [
    "#Exercise 5:\n",
    "strings_3=\"Hello\"+\" \"+\"World\"\n",
    "print(strings_3)"
   ]
  },
  {
   "cell_type": "code",
   "execution_count": 9,
   "id": "189be800",
   "metadata": {},
   "outputs": [
    {
     "name": "stdout",
     "output_type": "stream",
     "text": [
      "The quick brown cat jumps over the lazy cat.\n"
     ]
    }
   ],
   "source": [
    "#Exercise 6:\n",
    "strings_f=\"The quick brown dog jumps over the lazy dog.\"\n",
    "strings_e=strings_f.replace(\"dog\",\"cat\")\n",
    "print(strings_e)"
   ]
  },
  {
   "cell_type": "code",
   "execution_count": 10,
   "id": "d5aedbf1",
   "metadata": {},
   "outputs": [
    {
     "name": "stdout",
     "output_type": "stream",
     "text": [
      "['apple', 'banana', 'orange']\n"
     ]
    }
   ],
   "source": [
    "#Exercise 7:\n",
    "fruits_list=\"apple,banana,orange\".split(\",\")\n",
    "print(fruits_list)"
   ]
  },
  {
   "cell_type": "code",
   "execution_count": 11,
   "id": "44478ff4",
   "metadata": {},
   "outputs": [
    {
     "name": "stdout",
     "output_type": "stream",
     "text": [
      "My name is Parfait T. and I am 25 years old.\n"
     ]
    }
   ],
   "source": [
    "#Exercise 8:\n",
    "sentence_2=\"My name is {name} and I am {age} years old.\"\n",
    "print(sentence_2.format(name=\"Parfait T.\",age=25))"
   ]
  },
  {
   "cell_type": "code",
   "execution_count": 24,
   "id": "3d225430",
   "metadata": {},
   "outputs": [
    {
     "name": "stdout",
     "output_type": "stream",
     "text": [
      "True\n"
     ]
    }
   ],
   "source": [
    "#Exercise 9:\n",
    "sentence_3=\"I love python programming\".split(\" \")  \n",
    "is_python_present=bool(sentence_3.count(\"python\"))\n",
    "print(is_python_present)"
   ]
  },
  {
   "cell_type": "code",
   "execution_count": 25,
   "id": "8688b139",
   "metadata": {},
   "outputs": [
    {
     "name": "stdout",
     "output_type": "stream",
     "text": [
      "3\n"
     ]
    }
   ],
   "source": [
    "#Exercise 10:\n",
    "count_e=\"Elephant is an elegant animal\".count(\"e\")\n",
    "print(count_e)"
   ]
  },
  {
   "cell_type": "code",
   "execution_count": 1,
   "id": "f0084d7b",
   "metadata": {},
   "outputs": [
    {
     "name": "stdout",
     "output_type": "stream",
     "text": [
      "   Data Science   \n",
      "Data Science\n"
     ]
    }
   ],
   "source": [
    "#Exercise 11:\n",
    "string=\"   Data Science   \"\n",
    "print(string)\n",
    "string=string.strip()\n",
    "print(string)"
   ]
  },
  {
   "cell_type": "code",
   "execution_count": 2,
   "id": "9f446631",
   "metadata": {},
   "outputs": [
    {
     "name": "stdout",
     "output_type": "stream",
     "text": [
      "<class 'int'> 100\n"
     ]
    }
   ],
   "source": [
    "#Exercise 12:\n",
    "int_value=\"100\"\n",
    "int_value=int(int_value)\n",
    "print(type(int_value),int_value)"
   ]
  },
  {
   "cell_type": "code",
   "execution_count": 4,
   "id": "76a8e37d",
   "metadata": {},
   "outputs": [
    {
     "name": "stdout",
     "output_type": "stream",
     "text": [
      "pro\n"
     ]
    }
   ],
   "source": [
    "#Exercise 13:\n",
    "string_4=\"programming\"\n",
    "sub_str=string_4[:3]\n",
    "print(sub_str)"
   ]
  },
  {
   "cell_type": "code",
   "execution_count": 7,
   "id": "a1a6b5fe",
   "metadata": {},
   "outputs": [
    {
     "name": "stdout",
     "output_type": "stream",
     "text": [
      "True True\n"
     ]
    }
   ],
   "source": [
    "#Exercise 14:\n",
    "str_5=\"data\"\n",
    "start_str=str_5.startswith(\"da\")\n",
    "end_str=str_5.endswith(\"ta\")\n",
    "print(start_str,end_str)\n"
   ]
  },
  {
   "cell_type": "code",
   "execution_count": 9,
   "id": "1ce2301f",
   "metadata": {},
   "outputs": [
    {
     "name": "stdout",
     "output_type": "stream",
     "text": [
      "gninrael enihcam\n"
     ]
    }
   ],
   "source": [
    "#Exercise 15:\n",
    "normal_str=\"machine learning\"\n",
    "reversed_text=normal_str[::-1]\n",
    "print(reversed_text)"
   ]
  },
  {
   "cell_type": "code",
   "execution_count": 11,
   "id": "d6981172",
   "metadata": {},
   "outputs": [
    {
     "name": "stdout",
     "output_type": "stream",
     "text": [
      "Machine Learning Is Fun\n"
     ]
    }
   ],
   "source": [
    "#Exercise 16:\n",
    "str_6=\"machine learning is fun\"\n",
    "str_6=str_6.title()\n",
    "print(str_6)\n"
   ]
  },
  {
   "cell_type": "code",
   "execution_count": 12,
   "id": "58fbe7cb",
   "metadata": {},
   "outputs": [
    {
     "name": "stdout",
     "output_type": "stream",
     "text": [
      "\n",
      "\"I have a cat,\"\n",
      "\"His name is Ned,\"\n",
      "\"He's got two ears\"\n",
      "\"Upon his head,\"\n",
      "\"Under his legs\"\n",
      "\"Are four small feet,\"\n",
      "\"Don't you think\"\n",
      "\"My cat is sweet?\"\n",
      "\n"
     ]
    }
   ],
   "source": [
    "#Exercise 17:\n",
    "\n",
    "poem=\"\"\"\n",
    "\"I have a cat,\"\n",
    "\"His name is Ned,\"\n",
    "\"He's got two ears\"\n",
    "\"Upon his head,\"\n",
    "\"Under his legs\"\n",
    "\"Are four small feet,\"\n",
    "\"Don't you think\"\n",
    "\"My cat is sweet?\"\n",
    "\"\"\"\n",
    "print(poem)\n"
   ]
  },
  {
   "cell_type": "code",
   "execution_count": 19,
   "id": "d9cc2ad4",
   "metadata": {},
   "outputs": [
    {
     "name": "stdout",
     "output_type": "stream",
     "text": [
      "I am Parfait Tolefo\n",
      "\n",
      "I am an Ethival Hacker\n"
     ]
    }
   ],
   "source": [
    "#Exercise 18:\n",
    "file=open(\"output.txt\",\"a\")\n",
    "file.write(\"I am Parfait Tolefo\\n\\n\")\n",
    "file.write(\"I am an Ethival Hacker\")\n",
    "file.close()\n",
    "file=open(\"output.txt\",\"r\")\n",
    "print(file.read())\n",
    "file.close()"
   ]
  },
  {
   "cell_type": "code",
   "execution_count": null,
   "id": "a8421502",
   "metadata": {},
   "outputs": [],
   "source": [
    "! echo \"Data file content\" > data.txt"
   ]
  },
  {
   "cell_type": "code",
   "execution_count": 22,
   "id": "7f366209",
   "metadata": {},
   "outputs": [
    {
     "name": "stdout",
     "output_type": "stream",
     "text": [
      "Data file content\n",
      "\n"
     ]
    }
   ],
   "source": [
    "#Exercise 19:\n",
    "file=open(\"data.txt\",\"r\")\n",
    "print(file.read())\n",
    "file.close()\n"
   ]
  },
  {
   "cell_type": "code",
   "execution_count": 31,
   "id": "9cfa665c",
   "metadata": {},
   "outputs": [
    {
     "name": "stdout",
     "output_type": "stream",
     "text": [
      "File doesn't exist !\n"
     ]
    }
   ],
   "source": [
    "#Exercise 20:\n",
    "from os import path\n",
    "my_file=\"example.txt\"\n",
    "file_exist=path.exists(my_file)\n",
    "if file_exist:\n",
    "    f=open(\"example.txt\",\"r\")\n",
    "    content=f.read()\n",
    "    print(conetnt)\n",
    "else:\n",
    "    print(\"File doesn't exist !\")\n"
   ]
  },
  {
   "cell_type": "code",
   "execution_count": 38,
   "id": "c520b2ad",
   "metadata": {},
   "outputs": [
    {
     "name": "stdout",
     "output_type": "stream",
     "text": [
      "This is a new line\n",
      "This is a new line\n",
      "This is a new line\n",
      "\n"
     ]
    }
   ],
   "source": [
    "#Exercise 21:\n",
    "line=\"This is a new line\\n\"\n",
    "f=open(\"notes.txt\",\"a\")\n",
    "f.write(line)\n",
    "f.close()\n",
    "\n",
    "f=open(\"notes.txt\",\"r\")\n",
    "print(f.read())\n",
    "f.close()"
   ]
  },
  {
   "cell_type": "code",
   "execution_count": 40,
   "id": "abaa95bd",
   "metadata": {},
   "outputs": [
    {
     "name": "stdout",
     "output_type": "stream",
     "text": [
      "['Apr  2 11:22:52 asn11 postfix/sendmail[216947]: fatal: open /etc/postfix/main.cf: No such file or directory\\n', 'Apr  2 14:07:18 asn11 postfix/sendmail[219417]: fatal: open /etc/postfix/main.cf: No such file or directory\\n']\n"
     ]
    }
   ],
   "source": [
    "#Exercise 22:\n",
    "\n",
    "f=open(\"log.txt\",\"r\")\n",
    "line=f.readline()\n",
    "log_lines=[]\n",
    "while line:\n",
    "    log_lines.append(line)\n",
    "    line=f.readline()\n",
    "print(log_lines)\n"
   ]
  },
  {
   "cell_type": "code",
   "execution_count": 42,
   "id": "df244311",
   "metadata": {},
   "outputs": [
    {
     "data": {
      "text/plain": [
       "'Data analysis report'"
      ]
     },
     "execution_count": 42,
     "metadata": {},
     "output_type": "execute_result"
    }
   ],
   "source": [
    "#Exercise 23:\n",
    "file=\"report.txt\"\n",
    "strings_6=\"Data analysis report\"\n",
    "f=open(file,'w')\n",
    "f.write(strings_6)\n",
    "f=open(file,'r')\n",
    "f.read()"
   ]
  },
  {
   "cell_type": "code",
   "execution_count": 52,
   "id": "b124a480",
   "metadata": {},
   "outputs": [
    {
     "name": "stdout",
     "output_type": "stream",
     "text": [
      "=============Before================= Apr  2 11:22:52 asn11 postfix/sendmail[216947]: fatal: error /etc/postfix/main.cf: No such file or directory\n",
      "Apr  2 14:07:18 asn11 postfix/sendmail[219417]: fatal: error /etc/postfix/main.cf: No such file or directory\n",
      "\n",
      "=============After================= Apr  2 11:22:52 asn11 postfix/sendmail[216947]: fatal: issue /etc/postfix/main.cf: No such file or directory\n",
      "Apr  2 14:07:18 asn11 postfix/sendmail[219417]: fatal: issue /etc/postfix/main.cf: No such file or directory\n",
      "\n"
     ]
    }
   ],
   "source": [
    "# Exercise 24:\n",
    "file=\"log.txt\"\n",
    "f=open(file,'r')\n",
    "lines=f.read()\n",
    "f.close()\n",
    "print(\"=============Before=================\",lines)\n",
    "lines=lines.replace(\"error\",\"issue\")\n",
    "f=open(file,'w')\n",
    "f.write(lines)\n",
    "f.close()\n",
    "f=open(file,'r')\n",
    "lines=f.read()\n",
    "print(\"=============After=================\",lines)"
   ]
  },
  {
   "cell_type": "code",
   "execution_count": 53,
   "id": "4fa79bdc",
   "metadata": {},
   "outputs": [
    {
     "name": "stdout",
     "output_type": "stream",
     "text": [
      "3\n"
     ]
    }
   ],
   "source": [
    "#Exercise 25:\n",
    "file=\"document.txt\"\n",
    "f=open(file)\n",
    "lines=f.read()\n",
    "f.close()\n",
    "lines=lines.split(\" \")\n",
    "count=len(lines)\n",
    "print(count)"
   ]
  },
  {
   "cell_type": "code",
   "execution_count": 69,
   "id": "66b05649",
   "metadata": {},
   "outputs": [
    {
     "name": "stdout",
     "output_type": "stream",
     "text": [
      "Lines =  3 \n",
      "Words =  7 \n",
      "Chars =  24\n"
     ]
    }
   ],
   "source": [
    "#Exercise 26:\n",
    "file=\"essay.txt\"\n",
    "f=open(file,'r')\n",
    "lines=f.readlines()\n",
    "f.close()\n",
    "lines_count=len(lines)\n",
    "word_count=0\n",
    "char_count=0\n",
    "for i in lines:\n",
    "    j=i.split(' ')\n",
    "    word_count+=len(j)\n",
    "    for h in j:\n",
    "        char_count+=(len(h))\n",
    "    \n",
    "\n",
    "print(\"Lines = \",lines_count,\"\\nWords = \",word_count,\"\\nChars = \",char_count)\n"
   ]
  },
  {
   "cell_type": "code",
   "execution_count": 67,
   "id": "24e93415",
   "metadata": {},
   "outputs": [
    {
     "name": "stdout",
     "output_type": "stream",
     "text": [
      "wc: cat: No such file or directory\r\n",
      " 3  7 28 essay.txt\r\n",
      " 3  7 28 total\r\n"
     ]
    }
   ],
   "source": [
    "!wc cat essay.txt"
   ]
  },
  {
   "cell_type": "code",
   "execution_count": 68,
   "id": "71d9f89f",
   "metadata": {},
   "outputs": [
    {
     "name": "stdout",
     "output_type": "stream",
     "text": [
      "['Line 1\\n', 'Line 2\\n', 'Thye last one\\n']\n"
     ]
    }
   ],
   "source": [
    "print(lines)"
   ]
  },
  {
   "cell_type": "code",
   "execution_count": null,
   "id": "668136ae",
   "metadata": {},
   "outputs": [],
   "source": []
  }
 ],
 "metadata": {
  "colab": {
   "provenance": []
  },
  "kernelspec": {
   "display_name": "Python 3 (ipykernel)",
   "language": "python",
   "name": "python3"
  },
  "language_info": {
   "codemirror_mode": {
    "name": "ipython",
    "version": 3
   },
   "file_extension": ".py",
   "mimetype": "text/x-python",
   "name": "python",
   "nbconvert_exporter": "python",
   "pygments_lexer": "ipython3",
   "version": "3.10.12"
  }
 },
 "nbformat": 4,
 "nbformat_minor": 5
}
