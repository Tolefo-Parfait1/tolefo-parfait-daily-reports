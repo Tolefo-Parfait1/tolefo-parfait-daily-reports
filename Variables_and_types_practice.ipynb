{
 "cells": [
  {
   "cell_type": "code",
   "execution_count": 2,
   "id": "5ecc48f3",
   "metadata": {},
   "outputs": [],
   "source": [
    "my_first_name=\"Parfait\"\n",
    "my_last_name=\"TOLEFO\"\n",
    "my_age=25"
   ]
  },
  {
   "cell_type": "code",
   "execution_count": 3,
   "id": "1ed115f2",
   "metadata": {},
   "outputs": [
    {
     "name": "stdout",
     "output_type": "stream",
     "text": [
      "25 Parfait TOLEFO\n"
     ]
    }
   ],
   "source": [
    "print(my_age,my_first_name,my_last_name)"
   ]
  },
  {
   "cell_type": "code",
   "execution_count": 4,
   "id": "d2237c1a",
   "metadata": {},
   "outputs": [
    {
     "name": "stdout",
     "output_type": "stream",
     "text": [
      "25\n",
      "Parfait\n",
      "TOLEFO\n"
     ]
    }
   ],
   "source": [
    "print(my_age)\n",
    "print(my_first_name)\n",
    "print(my_last_name)"
   ]
  },
  {
   "cell_type": "code",
   "execution_count": 6,
   "id": "24ae8e6a",
   "metadata": {},
   "outputs": [
    {
     "data": {
      "text/plain": [
       "int"
      ]
     },
     "execution_count": 6,
     "metadata": {},
     "output_type": "execute_result"
    }
   ],
   "source": [
    "type(my_age)"
   ]
  },
  {
   "cell_type": "code",
   "execution_count": 7,
   "id": "02b60ad5",
   "metadata": {},
   "outputs": [
    {
     "data": {
      "text/plain": [
       "str"
      ]
     },
     "execution_count": 7,
     "metadata": {},
     "output_type": "execute_result"
    }
   ],
   "source": [
    "type(my_first_name)"
   ]
  },
  {
   "cell_type": "code",
   "execution_count": 8,
   "id": "e412a5d4",
   "metadata": {},
   "outputs": [
    {
     "name": "stdout",
     "output_type": "stream",
     "text": [
      "1.85\n"
     ]
    }
   ],
   "source": [
    "my_height=1.85\n",
    "print(my_height)"
   ]
  },
  {
   "cell_type": "code",
   "execution_count": 9,
   "id": "0cf3469f",
   "metadata": {},
   "outputs": [
    {
     "data": {
      "text/plain": [
       "float"
      ]
     },
     "execution_count": 9,
     "metadata": {},
     "output_type": "execute_result"
    }
   ],
   "source": [
    "type(my_height)"
   ]
  },
  {
   "cell_type": "code",
   "execution_count": 10,
   "id": "89908fa3",
   "metadata": {},
   "outputs": [
    {
     "name": "stdout",
     "output_type": "stream",
     "text": [
      "10 20 1.8\n"
     ]
    }
   ],
   "source": [
    "my_int_1=10\n",
    "my_int_2=20\n",
    "my_float_1=1.80\n",
    "print(my_int_1,my_int_2,my_float_1)"
   ]
  },
  {
   "cell_type": "code",
   "execution_count": 11,
   "id": "bc32b9b5",
   "metadata": {},
   "outputs": [
    {
     "data": {
      "text/plain": [
       "float"
      ]
     },
     "execution_count": 11,
     "metadata": {},
     "output_type": "execute_result"
    }
   ],
   "source": [
    "my_comb_1=my_int_1+my_float_1\n",
    "type(my_comb_1)"
   ]
  },
  {
   "cell_type": "code",
   "execution_count": 12,
   "id": "ef274486",
   "metadata": {},
   "outputs": [
    {
     "name": "stdout",
     "output_type": "stream",
     "text": [
      "1\n"
     ]
    }
   ],
   "source": [
    "print(int(1.0))"
   ]
  },
  {
   "cell_type": "code",
   "execution_count": 15,
   "id": "bba3212d",
   "metadata": {},
   "outputs": [
    {
     "name": "stdout",
     "output_type": "stream",
     "text": [
      "-15.0 <class 'float'>\n"
     ]
    }
   ],
   "source": [
    "my_1=-15\n",
    "my_float=float(my_1)\n",
    "print(my_float,type(my_float))"
   ]
  },
  {
   "cell_type": "code",
   "execution_count": 16,
   "id": "8c5026a6",
   "metadata": {},
   "outputs": [
    {
     "name": "stdout",
     "output_type": "stream",
     "text": [
      "-15.0 <class 'str'>\n"
     ]
    }
   ],
   "source": [
    "my_str=str(my_float)\n",
    "print(my_str,type(my_str))"
   ]
  },
  {
   "cell_type": "code",
   "execution_count": 17,
   "id": "ed323da7",
   "metadata": {},
   "outputs": [
    {
     "data": {
      "text/plain": [
       "'-15.0'"
      ]
     },
     "execution_count": 17,
     "metadata": {},
     "output_type": "execute_result"
    }
   ],
   "source": [
    "my_str"
   ]
  },
  {
   "cell_type": "code",
   "execution_count": 20,
   "id": "99e80614",
   "metadata": {},
   "outputs": [
    {
     "name": "stdout",
     "output_type": "stream",
     "text": [
      "I am student at AIMS Senegal. <class 'str'>\n"
     ]
    }
   ],
   "source": [
    "my_nice_string=\"I am student at AIMS Senegal.\"\n",
    "print(my_nice_string,type(my_nice_string))"
   ]
  },
  {
   "cell_type": "code",
   "execution_count": 21,
   "id": "05009a82",
   "metadata": {},
   "outputs": [
    {
     "data": {
      "text/plain": [
       "'I'"
      ]
     },
     "execution_count": 21,
     "metadata": {},
     "output_type": "execute_result"
    }
   ],
   "source": [
    "my_nice_string[0]"
   ]
  },
  {
   "cell_type": "code",
   "execution_count": null,
   "id": "d6ad11b3",
   "metadata": {},
   "outputs": [],
   "source": []
  }
 ],
 "metadata": {
  "kernelspec": {
   "display_name": "Python 3 (ipykernel)",
   "language": "python",
   "name": "python3"
  },
  "language_info": {
   "codemirror_mode": {
    "name": "ipython",
    "version": 3
   },
   "file_extension": ".py",
   "mimetype": "text/x-python",
   "name": "python",
   "nbconvert_exporter": "python",
   "pygments_lexer": "ipython3",
   "version": "3.10.12"
  }
 },
 "nbformat": 4,
 "nbformat_minor": 5
}
