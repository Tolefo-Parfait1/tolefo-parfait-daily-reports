{
 "cells": [
  {
   "cell_type": "code",
   "execution_count": 1,
   "id": "619709fd",
   "metadata": {},
   "outputs": [],
   "source": [
    "my_name=\"Parfait TOLEFO\"\n",
    "my_age=25\n",
    "my_heigth=1.85"
   ]
  },
  {
   "cell_type": "code",
   "execution_count": 2,
   "id": "b48661d5",
   "metadata": {},
   "outputs": [
    {
     "name": "stdout",
     "output_type": "stream",
     "text": [
      "1.85\n"
     ]
    }
   ],
   "source": [
    "print(my_heigth)"
   ]
  },
  {
   "cell_type": "code",
   "execution_count": 3,
   "id": "e6b572e0",
   "metadata": {},
   "outputs": [
    {
     "data": {
      "text/plain": [
       "int"
      ]
     },
     "execution_count": 3,
     "metadata": {},
     "output_type": "execute_result"
    }
   ],
   "source": [
    "type(my_age)"
   ]
  },
  {
   "cell_type": "code",
   "execution_count": 4,
   "id": "6c5f2c6c",
   "metadata": {},
   "outputs": [
    {
     "name": "stdout",
     "output_type": "stream",
     "text": [
      "My full name is  Parfait TOLEFO\n"
     ]
    }
   ],
   "source": [
    "my_first_name=\"Parfait\"\n",
    "my_last_name=\"TOLEFO\"\n",
    "\n",
    "print(\"My full name is \",my_first_name,my_last_name)"
   ]
  },
  {
   "cell_type": "code",
   "execution_count": 5,
   "id": "da314a3f",
   "metadata": {},
   "outputs": [
    {
     "ename": "TypeError",
     "evalue": "unsupported operand type(s) for +: 'int' and 'str'",
     "output_type": "error",
     "traceback": [
      "\u001b[0;31m---------------------------------------------------------------------------\u001b[0m",
      "\u001b[0;31mTypeError\u001b[0m                                 Traceback (most recent call last)",
      "Cell \u001b[0;32mIn [5], line 1\u001b[0m\n\u001b[0;32m----> 1\u001b[0m \u001b[43mmy_age\u001b[49m\u001b[38;5;241;43m+\u001b[39;49m\u001b[43mmy_first_name\u001b[49m\n",
      "\u001b[0;31mTypeError\u001b[0m: unsupported operand type(s) for +: 'int' and 'str'"
     ]
    }
   ],
   "source": [
    "my_age+my_first_name"
   ]
  },
  {
   "cell_type": "code",
   "execution_count": 6,
   "id": "4fe4e9e3",
   "metadata": {},
   "outputs": [
    {
     "data": {
      "text/plain": [
       "'25Parfait'"
      ]
     },
     "execution_count": 6,
     "metadata": {},
     "output_type": "execute_result"
    }
   ],
   "source": [
    "str(my_age)+my_first_name"
   ]
  },
  {
   "cell_type": "code",
   "execution_count": 7,
   "id": "dd78034c",
   "metadata": {},
   "outputs": [
    {
     "data": {
      "text/plain": [
       "'P'"
      ]
     },
     "execution_count": 7,
     "metadata": {},
     "output_type": "execute_result"
    }
   ],
   "source": [
    "my_first_name[0]"
   ]
  },
  {
   "cell_type": "code",
   "execution_count": 8,
   "id": "398d3ab9",
   "metadata": {},
   "outputs": [
    {
     "data": {
      "text/plain": [
       "[25, 'Parfait', 'TOLEFO', 1.85]"
      ]
     },
     "execution_count": 8,
     "metadata": {},
     "output_type": "execute_result"
    }
   ],
   "source": [
    "my_list=[my_age,my_first_name,my_last_name,my_heigth]\n",
    "my_list"
   ]
  },
  {
   "cell_type": "code",
   "execution_count": 9,
   "id": "a65ce89f",
   "metadata": {},
   "outputs": [
    {
     "data": {
      "text/plain": [
       "'TOLEFO'"
      ]
     },
     "execution_count": 9,
     "metadata": {},
     "output_type": "execute_result"
    }
   ],
   "source": [
    "my_list[2]"
   ]
  },
  {
   "cell_type": "code",
   "execution_count": 11,
   "id": "3795a146",
   "metadata": {},
   "outputs": [
    {
     "data": {
      "text/plain": [
       "{'a': 25, 'b': 1.85}"
      ]
     },
     "execution_count": 11,
     "metadata": {},
     "output_type": "execute_result"
    }
   ],
   "source": [
    "my_dict={'a':my_age,'b':my_heigth}\n",
    "my_dict"
   ]
  },
  {
   "cell_type": "code",
   "execution_count": 17,
   "id": "22847a1e",
   "metadata": {},
   "outputs": [
    {
     "name": "stdout",
     "output_type": "stream",
     "text": [
      "25\n",
      "Parfait\n",
      "TOLEFO\n",
      "1.85\n"
     ]
    }
   ],
   "source": [
    "for i in my_list:\n",
    "    if str(0) <= str(i):\n",
    "        print(i)"
   ]
  },
  {
   "cell_type": "code",
   "execution_count": 18,
   "id": "cded09eb",
   "metadata": {},
   "outputs": [
    {
     "data": {
      "text/plain": [
       "True"
      ]
     },
     "execution_count": 18,
     "metadata": {},
     "output_type": "execute_result"
    }
   ],
   "source": [
    "str(0)<str(1)"
   ]
  },
  {
   "cell_type": "code",
   "execution_count": 19,
   "id": "944a8eff",
   "metadata": {},
   "outputs": [
    {
     "data": {
      "text/plain": [
       "True"
      ]
     },
     "execution_count": 19,
     "metadata": {},
     "output_type": "execute_result"
    }
   ],
   "source": [
    "0<1"
   ]
  },
  {
   "cell_type": "code",
   "execution_count": 2,
   "id": "55ef9a39",
   "metadata": {},
   "outputs": [
    {
     "name": "stdout",
     "output_type": "stream",
     "text": [
      "\n",
      "        Enter a choice to continue...\n",
      "\n",
      "        1- Convert decimal to hexadecimal (int2hex)\n",
      "\n",
      "        2- Convert hexadeciml to decimal (hex2int)\n",
      "\n",
      "        3- Exit\n",
      "        1\n"
     ]
    },
    {
     "data": {
      "text/plain": [
       "1"
      ]
     },
     "execution_count": 2,
     "metadata": {},
     "output_type": "execute_result"
    }
   ],
   "source": [
    "def menu():\n",
    "\n",
    "    while True:\n",
    "        choice=input(\"\"\"\n",
    "        Enter a choice to continue...\n",
    "\n",
    "        1- Convert decimal to hexadecimal (int2hex)\n",
    "\n",
    "        2- Convert hexadeciml to decimal (hex2int)\n",
    "\n",
    "        3- Exit\n",
    "        \"\"\").strip()\n",
    "\n",
    "        try:\n",
    "            choice=int(choice)\n",
    "            if choice==1 or choice==2:\n",
    "                return choice\n",
    "            elif choice==3:\n",
    "                print(\"We are sorry to see you go ...\")\n",
    "                break\n",
    "        except Exception as e:\n",
    "            print(\"\\nERROR !!!\\n\",e)\n",
    "        exit()\n",
    "    \n",
    "menu()"
   ]
  },
  {
   "cell_type": "code",
   "execution_count": 29,
   "id": "7d493f8a",
   "metadata": {},
   "outputs": [
    {
     "name": "stdout",
     "output_type": "stream",
     "text": [
      "Enter a decimal value to convert: z\n",
      "ERROR !!!  invalid literal for int() with base 10: 'z'\n",
      "Enter 1 to return to the menu or any key to continue...474\n",
      "Enter a decimal value to convert: 74g\n",
      "ERROR !!!  invalid literal for int() with base 10: '74g'\n",
      "Enter 1 to return to the menu or any key to continue...1\n",
      "\n",
      "        Enter a choice to continue...\n",
      "\n",
      "        1- Convert decimal to hexadecimal (int2hex)\n",
      "\n",
      "        2- Convert hexadeciml to decimal (hex2int)\n",
      "\n",
      "        3- Exit\n",
      "        2\n"
     ]
    }
   ],
   "source": [
    "def read(choice):\n",
    "    hex_set=['1','2','3','4','5','6','7','8','9','A','B','C','D','E','F']\n",
    "    if choice==1:\n",
    "        while True:\n",
    "            decimal_value=input(\"Enter a decimal value to convert: \").strip()\n",
    "            try:\n",
    "                decimal_value=int(decimal_value)\n",
    "                return(decimal_value)\n",
    "            except Exception as e:\n",
    "                print(\"ERROR !!! \",e)\n",
    "                ctn=input(\"Enter 1 to return to the menu or any key to continue...\")\n",
    "                if ctn=='1':\n",
    "                    break\n",
    "        menu()\n",
    "\n",
    "    elif choice==2:\n",
    "        while True:\n",
    "            hex_value=input(\"Enter a hexadecimal value to convert: \").upper().strip()\n",
    "            if all(ch  in hex_set for ch in hex_value) and hex_value!='':\n",
    "                return hex_value\n",
    "            else:\n",
    "                ctn=input(\"\\nError !!! You enter a non hexadecimal digit\\n\\nEnter 1 to return to the menu or any key to continue...\").strip()\n",
    "                if ctn=='1':\n",
    "                    break\n",
    "        menu()     "
   ]
  },
  {
   "cell_type": "code",
   "execution_count": 13,
   "id": "0cd3972d",
   "metadata": {},
   "outputs": [],
   "source": [
    "?hex"
   ]
  },
  {
   "cell_type": "code",
   "execution_count": null,
   "id": "81a55557",
   "metadata": {},
   "outputs": [],
   "source": []
  }
 ],
 "metadata": {
  "kernelspec": {
   "display_name": "Python 3 (ipykernel)",
   "language": "python",
   "name": "python3"
  },
  "language_info": {
   "codemirror_mode": {
    "name": "ipython",
    "version": 3
   },
   "file_extension": ".py",
   "mimetype": "text/x-python",
   "name": "python",
   "nbconvert_exporter": "python",
   "pygments_lexer": "ipython3",
   "version": "3.11.2"
  }
 },
 "nbformat": 4,
 "nbformat_minor": 5
}
